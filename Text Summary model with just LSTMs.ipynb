{
 "cells": [
  {
   "cell_type": "code",
   "execution_count": 1,
   "id": "bb42fbad",
   "metadata": {
    "execution": {
     "iopub.execute_input": "2022-05-13T08:43:14.000230Z",
     "iopub.status.busy": "2022-05-13T08:43:13.999905Z",
     "iopub.status.idle": "2022-05-13T08:43:34.548816Z",
     "shell.execute_reply": "2022-05-13T08:43:34.547428Z"
    },
    "papermill": {
     "duration": 20.610305,
     "end_time": "2022-05-13T08:43:34.551946",
     "exception": false,
     "start_time": "2022-05-13T08:43:13.941641",
     "status": "completed"
    },
    "tags": []
   },
   "outputs": [],
   "source": [
    "%%capture\n",
    "# Install the vncorenlp python wrapper\n",
    "!pip install vncorenlp\n",
    "\n",
    "# Download VnCoreNLP-1.1.1.jar & its word segmentation component (i.e. RDRSegmenter) \n",
    "!mkdir -p vncorenlp/models/wordsegmenter\n",
    "!wget https://raw.githubusercontent.com/vncorenlp/VnCoreNLP/master/VnCoreNLP-1.1.1.jar\n",
    "!wget https://raw.githubusercontent.com/vncorenlp/VnCoreNLP/master/models/wordsegmenter/vi-vocab\n",
    "!wget https://raw.githubusercontent.com/vncorenlp/VnCoreNLP/master/models/wordsegmenter/wordsegmenter.rdr\n",
    "!mv VnCoreNLP-1.1.1.jar vncorenlp/ \n",
    "!mv vi-vocab vncorenlp/models/wordsegmenter/\n",
    "!mv wordsegmenter.rdr vncorenlp/models/wordsegmenter/"
   ]
  },
  {
   "cell_type": "code",
   "execution_count": 2,
   "id": "f1ddcdc6",
   "metadata": {
    "execution": {
     "iopub.execute_input": "2022-05-13T08:43:34.669539Z",
     "iopub.status.busy": "2022-05-13T08:43:34.669199Z",
     "iopub.status.idle": "2022-05-13T08:43:42.938473Z",
     "shell.execute_reply": "2022-05-13T08:43:42.937540Z"
    },
    "papermill": {
     "duration": 8.328844,
     "end_time": "2022-05-13T08:43:42.940815",
     "exception": false,
     "start_time": "2022-05-13T08:43:34.611971",
     "status": "completed"
    },
    "tags": []
   },
   "outputs": [],
   "source": [
    "import os\n",
    "import re\n",
    "import pickle\n",
    "import string\n",
    "import unicodedata\n",
    "from random import randint\n",
    "\n",
    "import numpy as np\n",
    "import pandas as pd\n",
    "import seaborn as sns\n",
    "import matplotlib.pyplot as plt\n",
    "\n",
    "from nltk.corpus import stopwords\n",
    "from wordcloud import STOPWORDS, WordCloud\n",
    "\n",
    "from sklearn.model_selection import train_test_split\n",
    "\n",
    "import tensorflow as tf\n",
    "from tensorflow.keras import Input, Model\n",
    "from tensorflow.keras.preprocessing.text import Tokenizer\n",
    "from tensorflow.keras.preprocessing.sequence import pad_sequences\n",
    "from tensorflow.keras.callbacks import EarlyStopping, ReduceLROnPlateau\n",
    "from tensorflow.keras.layers import LSTM, Bidirectional, Dense, Embedding, TimeDistributed"
   ]
  },
  {
   "cell_type": "code",
   "execution_count": 3,
   "id": "33797f4c",
   "metadata": {
    "execution": {
     "iopub.execute_input": "2022-05-13T08:43:43.053257Z",
     "iopub.status.busy": "2022-05-13T08:43:43.052941Z",
     "iopub.status.idle": "2022-05-13T08:43:57.584524Z",
     "shell.execute_reply": "2022-05-13T08:43:57.583190Z"
    },
    "papermill": {
     "duration": 14.590822,
     "end_time": "2022-05-13T08:43:57.587200",
     "exception": false,
     "start_time": "2022-05-13T08:43:42.996378",
     "status": "completed"
    },
    "tags": []
   },
   "outputs": [
    {
     "name": "stdout",
     "output_type": "stream",
     "text": [
      "Dataset size: 102681\n"
     ]
    },
    {
     "name": "stderr",
     "output_type": "stream",
     "text": [
      "/opt/conda/lib/python3.7/site-packages/ipykernel_launcher.py:2: FutureWarning: In a future version of pandas all arguments of DataFrame.drop except for the argument 'labels' will be keyword-only\n",
      "  \n"
     ]
    },
    {
     "data": {
      "text/html": [
       "<div>\n",
       "<style scoped>\n",
       "    .dataframe tbody tr th:only-of-type {\n",
       "        vertical-align: middle;\n",
       "    }\n",
       "\n",
       "    .dataframe tbody tr th {\n",
       "        vertical-align: top;\n",
       "    }\n",
       "\n",
       "    .dataframe thead th {\n",
       "        text-align: right;\n",
       "    }\n",
       "</style>\n",
       "<table border=\"1\" class=\"dataframe\">\n",
       "  <thead>\n",
       "    <tr style=\"text-align: right;\">\n",
       "      <th></th>\n",
       "      <th>Summary</th>\n",
       "      <th>Text</th>\n",
       "    </tr>\n",
       "  </thead>\n",
       "  <tbody>\n",
       "    <tr>\n",
       "      <th>98537</th>\n",
       "      <td>Hòn đảo xanh mướt bị cô lập giữa mây trời, bi...</td>\n",
       "      <td>Stóra Dímun là một trong 18 đảo nhỏ, thuộc q...</td>\n",
       "    </tr>\n",
       "    <tr>\n",
       "      <th>40469</th>\n",
       "      <td>Sau khi cựu quản lý Facebook kêu gọi nghị sĩ M...</td>\n",
       "      <td>Trong cuộc điều trần trước Tiểu ban Bảo vệ Ngư...</td>\n",
       "    </tr>\n",
       "    <tr>\n",
       "      <th>15870</th>\n",
       "      <td>Tỉ lệ mắc bệnh đái tháo đường, thường được gọi...</td>\n",
       "      <td>Theo PGS TS Tạ Văn Bình, tỉ lệ mắc bệnh tiểu đ...</td>\n",
       "    </tr>\n",
       "    <tr>\n",
       "      <th>81708</th>\n",
       "      <td>Sau phản ánh của một số cơ quan báo chí, UBND...</td>\n",
       "      <td>Theo đó, UBND TPHCM đã yêu cầu chính quyền quậ...</td>\n",
       "    </tr>\n",
       "    <tr>\n",
       "      <th>4926</th>\n",
       "      <td>Ông Bùi Tín, nhà bất đồng chính kiến có tiếng,...</td>\n",
       "      <td>Trong một cuộc thảo luận tại trụ sở BBC ở Lond...</td>\n",
       "    </tr>\n",
       "  </tbody>\n",
       "</table>\n",
       "</div>"
      ],
      "text/plain": [
       "                                                 Summary  \\\n",
       "98537   Hòn đảo xanh mướt bị cô lập giữa mây trời, bi...   \n",
       "40469  Sau khi cựu quản lý Facebook kêu gọi nghị sĩ M...   \n",
       "15870  Tỉ lệ mắc bệnh đái tháo đường, thường được gọi...   \n",
       "81708   Sau phản ánh của một số cơ quan báo chí, UBND...   \n",
       "4926   Ông Bùi Tín, nhà bất đồng chính kiến có tiếng,...   \n",
       "\n",
       "                                                    Text  \n",
       "98537    Stóra Dímun là một trong 18 đảo nhỏ, thuộc q...  \n",
       "40469  Trong cuộc điều trần trước Tiểu ban Bảo vệ Ngư...  \n",
       "15870  Theo PGS TS Tạ Văn Bình, tỉ lệ mắc bệnh tiểu đ...  \n",
       "81708  Theo đó, UBND TPHCM đã yêu cầu chính quyền quậ...  \n",
       "4926   Trong một cuộc thảo luận tại trụ sở BBC ở Lond...  "
      ]
     },
     "execution_count": 3,
     "metadata": {},
     "output_type": "execute_result"
    }
   ],
   "source": [
    "filename = r\"../input/summary-vietnamese/data_summary.csv\"\n",
    "df = pd.read_csv(filename).drop('Unnamed: 0',1)\n",
    "print(f'Dataset size: {len(df)}')\n",
    "df.sample(5)"
   ]
  },
  {
   "cell_type": "code",
   "execution_count": 4,
   "id": "8fff290b",
   "metadata": {
    "execution": {
     "iopub.execute_input": "2022-05-13T08:43:57.698667Z",
     "iopub.status.busy": "2022-05-13T08:43:57.698364Z",
     "iopub.status.idle": "2022-05-13T08:43:58.221877Z",
     "shell.execute_reply": "2022-05-13T08:43:58.220811Z"
    },
    "papermill": {
     "duration": 0.581647,
     "end_time": "2022-05-13T08:43:58.223950",
     "exception": false,
     "start_time": "2022-05-13T08:43:57.642303",
     "status": "completed"
    },
    "tags": []
   },
   "outputs": [
    {
     "name": "stdout",
     "output_type": "stream",
     "text": [
      "Dataset size: 96284\n"
     ]
    },
    {
     "data": {
      "text/html": [
       "<div>\n",
       "<style scoped>\n",
       "    .dataframe tbody tr th:only-of-type {\n",
       "        vertical-align: middle;\n",
       "    }\n",
       "\n",
       "    .dataframe tbody tr th {\n",
       "        vertical-align: top;\n",
       "    }\n",
       "\n",
       "    .dataframe thead th {\n",
       "        text-align: right;\n",
       "    }\n",
       "</style>\n",
       "<table border=\"1\" class=\"dataframe\">\n",
       "  <thead>\n",
       "    <tr style=\"text-align: right;\">\n",
       "      <th></th>\n",
       "      <th>Summary</th>\n",
       "      <th>Text</th>\n",
       "    </tr>\n",
       "  </thead>\n",
       "  <tbody>\n",
       "    <tr>\n",
       "      <th>0</th>\n",
       "      <td>Ngay khi bắt tay ai đó có thể chúng ta đã cảm ...</td>\n",
       "      <td>Tổng thống Mỹ Donald Trump và Tổng thống Pháp ...</td>\n",
       "    </tr>\n",
       "    <tr>\n",
       "      <th>1</th>\n",
       "      <td>Rời khỏi Việt Nam vào 10/2016, ông Vũ Đình Duy...</td>\n",
       "      <td>Vũ Đình Duy hồi tháng 5 xuất hiện trước tòa tạ...</td>\n",
       "    </tr>\n",
       "    <tr>\n",
       "      <th>2</th>\n",
       "      <td>Thủ tướng Iraq xác nhận với BBC rằng Syria khô...</td>\n",
       "      <td>Ông Maliki xác nhận các vụ không kích của Syri...</td>\n",
       "    </tr>\n",
       "    <tr>\n",
       "      <th>3</th>\n",
       "      <td>Người Việt Nam biết rất ít về ông Trump nhưng ...</td>\n",
       "      <td>Tiến sỹ Vũ Cao Phan tin rằng nếu được tiến hàn...</td>\n",
       "    </tr>\n",
       "    <tr>\n",
       "      <th>4</th>\n",
       "      <td>Bốn khoa học gia người Mỹ từng đoạt giải Nobel...</td>\n",
       "      <td>GS Jack Steinberger trao đổi với GS Lê Kim Ngọ...</td>\n",
       "    </tr>\n",
       "  </tbody>\n",
       "</table>\n",
       "</div>"
      ],
      "text/plain": [
       "                                             Summary  \\\n",
       "0  Ngay khi bắt tay ai đó có thể chúng ta đã cảm ...   \n",
       "1  Rời khỏi Việt Nam vào 10/2016, ông Vũ Đình Duy...   \n",
       "2  Thủ tướng Iraq xác nhận với BBC rằng Syria khô...   \n",
       "3  Người Việt Nam biết rất ít về ông Trump nhưng ...   \n",
       "4  Bốn khoa học gia người Mỹ từng đoạt giải Nobel...   \n",
       "\n",
       "                                                Text  \n",
       "0  Tổng thống Mỹ Donald Trump và Tổng thống Pháp ...  \n",
       "1  Vũ Đình Duy hồi tháng 5 xuất hiện trước tòa tạ...  \n",
       "2  Ông Maliki xác nhận các vụ không kích của Syri...  \n",
       "3  Tiến sỹ Vũ Cao Phan tin rằng nếu được tiến hàn...  \n",
       "4  GS Jack Steinberger trao đổi với GS Lê Kim Ngọ...  "
      ]
     },
     "execution_count": 4,
     "metadata": {},
     "output_type": "execute_result"
    }
   ],
   "source": [
    "'''Loại bỏ các giá trị trùng lặp và giá trị rỗng'''\n",
    "\n",
    "df.drop_duplicates(subset=['Text'],inplace=True) #dropping duplicates\n",
    "df.dropna(axis=0,inplace=True) #dropping na\n",
    "df = df.reset_index().drop('index', axis = 1)\n",
    "print(f'Dataset size: {len(df)}')\n",
    "df.head(5)"
   ]
  },
  {
   "cell_type": "markdown",
   "id": "2d20742f",
   "metadata": {
    "papermill": {
     "duration": 0.056695,
     "end_time": "2022-05-13T08:43:58.339216",
     "exception": false,
     "start_time": "2022-05-13T08:43:58.282521",
     "status": "completed"
    },
    "tags": []
   },
   "source": [
    "# Data preparation"
   ]
  },
  {
   "cell_type": "code",
   "execution_count": 5,
   "id": "c5d1a256",
   "metadata": {
    "execution": {
     "iopub.execute_input": "2022-05-13T08:43:58.453199Z",
     "iopub.status.busy": "2022-05-13T08:43:58.452895Z",
     "iopub.status.idle": "2022-05-13T08:43:58.477455Z",
     "shell.execute_reply": "2022-05-13T08:43:58.476563Z"
    },
    "papermill": {
     "duration": 0.084473,
     "end_time": "2022-05-13T08:43:58.479758",
     "exception": false,
     "start_time": "2022-05-13T08:43:58.395285",
     "status": "completed"
    },
    "tags": []
   },
   "outputs": [],
   "source": [
    "def cleanWord(s):\n",
    "    miss = ['!','@','#','$','%','^','&','*','(',')','-','–','_','+','=','{','[','}',']','|',':',';','?','/','<','>','~','`','‘','’',',','()','“','\"', '...','”', '“”','\\\\', '>>', '>>>']\n",
    "    for i in miss:\n",
    "        s = s.replace(i,'')\n",
    "    return re.sub(r'\\'', '', s)\n",
    "\n",
    "def remove_link(string):\n",
    "    return re.sub(r'\\w+:\\/{2}[\\d\\w-]+(\\.[\\d\\w-]+)*(?:(?:\\/[^\\s/]*))*', '', string)\n",
    "\n",
    "def remove_extra_whitespace(string):\n",
    "    text = re.sub(r'\\s+', ' ', string).strip()\n",
    "    return text\n",
    "\n",
    "def lower_word(data):\n",
    "    return data.lower()\n",
    "\n",
    "# Remove numbers from text\n",
    "def rm_number_from_text(text):\n",
    "    text = re.sub('[0-9]+', '', text)\n",
    "    return ' '.join(text.split())  # to rm `extra` white space\n",
    "\n",
    "# Remove puncuation from word\n",
    "def rm_punc_from_word(word):\n",
    "    clean_alphabet_list = [alphabet for alphabet in word if alphabet not in string.punctuation]\n",
    "    return ''.join(clean_alphabet_list)\n",
    "\n",
    "# Remove puncuation from text\n",
    "def rm_punc_from_text(text):\n",
    "    clean_word_list = [rm_punc_from_word(word) for word in text]\n",
    "    return ''.join(clean_word_list)\n",
    "\n",
    "\n",
    "# Cleaning text\n",
    "def clean_text(text):\n",
    "    text = text.lower()\n",
    "    text = rm_number_from_text(text)\n",
    "    text = rm_punc_from_text(text)\n",
    "\n",
    "    # there are hyphen(–) in many titles, so replacing it with empty str\n",
    "    # this hyphen(–) is different from normal hyphen(-)\n",
    "    text = re.sub('–', '', text)\n",
    "    text = ' '.join(text.split())  # removing `extra` white spaces\n",
    "\n",
    "    # Removing unnecessary characters from text\n",
    "    text = re.sub(\"(\\\\t)\", ' ', str(text)).lower()\n",
    "    text = re.sub(\"(\\\\r)\", ' ', str(text)).lower()\n",
    "    text = re.sub(\"(\\\\n)\", ' ', str(text)).lower()\n",
    "\n",
    "    text = re.sub(\"(__+)\", ' ', str(text)).lower()\n",
    "    text = re.sub(\"(--+)\", ' ', str(text)).lower()\n",
    "    text = re.sub(\"(~~+)\", ' ', str(text)).lower()\n",
    "    text = re.sub(\"(\\+\\++)\", ' ', str(text)).lower()\n",
    "    text = re.sub(\"(\\.\\.+)\", ' ', str(text)).lower()\n",
    "\n",
    "    text = re.sub(r\"[<>()|&©ø\\[\\]\\'\\\",;?~*!]\", ' ', str(text)).lower()\n",
    "\n",
    "    text = re.sub(\"(mailto:)\", ' ', str(text)).lower()\n",
    "    text = re.sub(r\"(\\\\x9\\d)\", ' ', str(text)).lower()\n",
    "    text = re.sub(\"([iI][nN][cC]\\d+)\", 'INC_NUM', str(text)).lower()\n",
    "    text = re.sub(\"([cC][mM]\\d+)|([cC][hH][gG]\\d+)\", 'CM_NUM',str(text)).lower()\n",
    "\n",
    "    text = re.sub(\"(\\.\\s+)\", ' ', str(text)).lower()\n",
    "    text = re.sub(\"(\\-\\s+)\", ' ', str(text)).lower()\n",
    "    text = re.sub(\"(\\:\\s+)\", ' ', str(text)).lower()\n",
    "    text = re.sub(\"(\\s+.\\s+)\", ' ', str(text)).lower()\n",
    "\n",
    "    try:\n",
    "        url = re.search(r'((https*:\\/*)([^\\/\\s]+))(.[^\\s]+)', str(text))\n",
    "        repl_url = url.group(3)\n",
    "        text = re.sub(r'((https*:\\/*)([^\\/\\s]+))(.[^\\s]+)', repl_url, str(text))\n",
    "    except Exception as e:\n",
    "        pass\n",
    "\n",
    "    text = re.sub(\"(\\s+)\", ' ', str(text)).lower()\n",
    "    text = re.sub(\"(\\s+.\\s+)\", ' ', str(text)).lower()\n",
    "\n",
    "    return text\n",
    "\n",
    "def solve(string):\n",
    "    func = [lower_word, remove_link, remove_extra_whitespace, cleanWord, clean_text]\n",
    "    for i in func:\n",
    "        string = i(string)\n",
    "    return string"
   ]
  },
  {
   "cell_type": "code",
   "execution_count": 6,
   "id": "9c7e4e2c",
   "metadata": {
    "execution": {
     "iopub.execute_input": "2022-05-13T08:43:58.593702Z",
     "iopub.status.busy": "2022-05-13T08:43:58.593270Z",
     "iopub.status.idle": "2022-05-13T08:52:49.480776Z",
     "shell.execute_reply": "2022-05-13T08:52:49.479780Z"
    },
    "papermill": {
     "duration": 531.00531,
     "end_time": "2022-05-13T08:52:49.541421",
     "exception": false,
     "start_time": "2022-05-13T08:43:58.536111",
     "status": "completed"
    },
    "tags": []
   },
   "outputs": [
    {
     "data": {
      "text/html": [
       "<div>\n",
       "<style scoped>\n",
       "    .dataframe tbody tr th:only-of-type {\n",
       "        vertical-align: middle;\n",
       "    }\n",
       "\n",
       "    .dataframe tbody tr th {\n",
       "        vertical-align: top;\n",
       "    }\n",
       "\n",
       "    .dataframe thead th {\n",
       "        text-align: right;\n",
       "    }\n",
       "</style>\n",
       "<table border=\"1\" class=\"dataframe\">\n",
       "  <thead>\n",
       "    <tr style=\"text-align: right;\">\n",
       "      <th></th>\n",
       "      <th>Summary</th>\n",
       "      <th>Text</th>\n",
       "    </tr>\n",
       "  </thead>\n",
       "  <tbody>\n",
       "    <tr>\n",
       "      <th>88056</th>\n",
       "      <td>ngày tỉnh lào cai và tỉnh lai châu đã họp bàn ...</td>\n",
       "      <td>ngày lãnh đạo tỉnh lào cai và tỉnh lai châu đã...</td>\n",
       "    </tr>\n",
       "    <tr>\n",
       "      <th>52728</th>\n",
       "      <td>doanh nghiệp của nữ đại gia kim tiền số việt n...</td>\n",
       "      <td>ctcp vàng bạc đá quý phú nhuận pnj của bà cao ...</td>\n",
       "    </tr>\n",
       "    <tr>\n",
       "      <th>92819</th>\n",
       "      <td>cronaldo khẳng định anh gia nhập man utd không...</td>\n",
       "      <td>man utd đang phải trải qua một mùa giải đáng t...</td>\n",
       "    </tr>\n",
       "    <tr>\n",
       "      <th>20336</th>\n",
       "      <td>nga cáo buộc anh phát minh ra một câu chuyện b...</td>\n",
       "      <td>ông vasily nebenzia đại sứ của nga tại liên hi...</td>\n",
       "    </tr>\n",
       "    <tr>\n",
       "      <th>51424</th>\n",
       "      <td>la gi đang dần thay da đổi thịt để hoàn thiện ...</td>\n",
       "      <td>đẩy nhanh các công trình trọng điểm nằm cách t...</td>\n",
       "    </tr>\n",
       "  </tbody>\n",
       "</table>\n",
       "</div>"
      ],
      "text/plain": [
       "                                                 Summary  \\\n",
       "88056  ngày tỉnh lào cai và tỉnh lai châu đã họp bàn ...   \n",
       "52728  doanh nghiệp của nữ đại gia kim tiền số việt n...   \n",
       "92819  cronaldo khẳng định anh gia nhập man utd không...   \n",
       "20336  nga cáo buộc anh phát minh ra một câu chuyện b...   \n",
       "51424  la gi đang dần thay da đổi thịt để hoàn thiện ...   \n",
       "\n",
       "                                                    Text  \n",
       "88056  ngày lãnh đạo tỉnh lào cai và tỉnh lai châu đã...  \n",
       "52728  ctcp vàng bạc đá quý phú nhuận pnj của bà cao ...  \n",
       "92819  man utd đang phải trải qua một mùa giải đáng t...  \n",
       "20336  ông vasily nebenzia đại sứ của nga tại liên hi...  \n",
       "51424  đẩy nhanh các công trình trọng điểm nằm cách t...  "
      ]
     },
     "execution_count": 6,
     "metadata": {},
     "output_type": "execute_result"
    }
   ],
   "source": [
    "df.Text = df.Text.apply(lambda x: solve(str(x)))\n",
    "df.Summary = df.Summary.apply(lambda x: solve(str(x)))\n",
    "df.sample(5)"
   ]
  },
  {
   "cell_type": "markdown",
   "id": "c7342e47",
   "metadata": {
    "papermill": {
     "duration": 0.056285,
     "end_time": "2022-05-13T08:52:49.655079",
     "exception": false,
     "start_time": "2022-05-13T08:52:49.598794",
     "status": "completed"
    },
    "tags": []
   },
   "source": [
    "Finding what should be the **maximum length** of **Text** and **Summary** that will be feed or accepted by the learning algorithm"
   ]
  },
  {
   "cell_type": "code",
   "execution_count": 7,
   "id": "0b89ee55",
   "metadata": {
    "execution": {
     "iopub.execute_input": "2022-05-13T08:52:49.770278Z",
     "iopub.status.busy": "2022-05-13T08:52:49.769741Z",
     "iopub.status.idle": "2022-05-13T08:52:57.013131Z",
     "shell.execute_reply": "2022-05-13T08:52:57.012287Z"
    },
    "papermill": {
     "duration": 7.304103,
     "end_time": "2022-05-13T08:52:57.015637",
     "exception": false,
     "start_time": "2022-05-13T08:52:49.711534",
     "status": "completed"
    },
    "tags": []
   },
   "outputs": [
    {
     "data": {
      "image/png": "[encoded data removed]",
      "text/plain": [
       "<Figure size 1152x288 with 2 Axes>"
      ]
     },
     "metadata": {
      "needs_background": "light"
     },
     "output_type": "display_data"
    }
   ],
   "source": [
    "text_count = [len(sentence.split()) for sentence in df.Text]\n",
    "summary_count = [len(sentence.split()) for sentence in df.Summary]\n",
    "\n",
    "pd.DataFrame({'Text': text_count, 'Summary': summary_count}).hist(bins=100, figsize=(16, 4))\n",
    "plt.show()"
   ]
  },
  {
   "cell_type": "code",
   "execution_count": 8,
   "id": "a8f065c7",
   "metadata": {
    "execution": {
     "iopub.execute_input": "2022-05-13T08:52:57.138291Z",
     "iopub.status.busy": "2022-05-13T08:52:57.137707Z",
     "iopub.status.idle": "2022-05-13T08:53:03.510731Z",
     "shell.execute_reply": "2022-05-13T08:53:03.509556Z"
    },
    "papermill": {
     "duration": 6.436972,
     "end_time": "2022-05-13T08:53:03.513241",
     "exception": false,
     "start_time": "2022-05-13T08:52:57.076269",
     "status": "completed"
    },
    "tags": []
   },
   "outputs": [
    {
     "name": "stdout",
     "output_type": "stream",
     "text": [
      "0.99\n",
      "0.15\n"
     ]
    }
   ],
   "source": [
    "# To check how many rows in a column has length (of the text) <= limit\n",
    "def get_word_percent(column, limit):\n",
    "    count = 0\n",
    "    for sentence in column:\n",
    "        if len(sentence.split()) <= limit:\n",
    "            count += 1\n",
    "\n",
    "    return round(count / len(column), 2)\n",
    "\n",
    "\n",
    "# Check how many % of summary have 0-60 words\n",
    "print(get_word_percent(df.Summary, 60))\n",
    "\n",
    "# Check how many % of text have 0-300 words\n",
    "print(get_word_percent(df.Text, 300))"
   ]
  },
  {
   "cell_type": "code",
   "execution_count": 9,
   "id": "759b3b61",
   "metadata": {
    "execution": {
     "iopub.execute_input": "2022-05-13T08:53:03.633780Z",
     "iopub.status.busy": "2022-05-13T08:53:03.633498Z",
     "iopub.status.idle": "2022-05-13T08:53:03.637346Z",
     "shell.execute_reply": "2022-05-13T08:53:03.636387Z"
    },
    "papermill": {
     "duration": 0.066479,
     "end_time": "2022-05-13T08:53:03.639245",
     "exception": false,
     "start_time": "2022-05-13T08:53:03.572766",
     "status": "completed"
    },
    "tags": []
   },
   "outputs": [],
   "source": [
    "max_text_len = 300\n",
    "max_summary_len = 60"
   ]
  },
  {
   "cell_type": "code",
   "execution_count": 10,
   "id": "00c08ec6",
   "metadata": {
    "execution": {
     "iopub.execute_input": "2022-05-13T08:53:03.760070Z",
     "iopub.status.busy": "2022-05-13T08:53:03.759797Z",
     "iopub.status.idle": "2022-05-13T08:53:10.004356Z",
     "shell.execute_reply": "2022-05-13T08:53:10.003256Z"
    },
    "papermill": {
     "duration": 6.309314,
     "end_time": "2022-05-13T08:53:10.007456",
     "exception": false,
     "start_time": "2022-05-13T08:53:03.698142",
     "status": "completed"
    },
    "tags": []
   },
   "outputs": [
    {
     "name": "stdout",
     "output_type": "stream",
     "text": [
      "Dataset size: 14664\n"
     ]
    },
    {
     "data": {
      "text/html": [
       "<div>\n",
       "<style scoped>\n",
       "    .dataframe tbody tr th:only-of-type {\n",
       "        vertical-align: middle;\n",
       "    }\n",
       "\n",
       "    .dataframe tbody tr th {\n",
       "        vertical-align: top;\n",
       "    }\n",
       "\n",
       "    .dataframe thead th {\n",
       "        text-align: right;\n",
       "    }\n",
       "</style>\n",
       "<table border=\"1\" class=\"dataframe\">\n",
       "  <thead>\n",
       "    <tr style=\"text-align: right;\">\n",
       "      <th></th>\n",
       "      <th>Text</th>\n",
       "      <th>Summary</th>\n",
       "    </tr>\n",
       "  </thead>\n",
       "  <tbody>\n",
       "    <tr>\n",
       "      <th>6507</th>\n",
       "      <td>gia đình em gái nghệ sĩ cho biết sức khỏe ông ...</td>\n",
       "      <td>hà nội</td>\n",
       "    </tr>\n",
       "    <tr>\n",
       "      <th>10878</th>\n",
       "      <td>trở thành người thắng cuộc golfer trẻ nguyễn a...</td>\n",
       "      <td>giải golf tournament chính thức khép lại sau n...</td>\n",
       "    </tr>\n",
       "    <tr>\n",
       "      <th>4448</th>\n",
       "      <td>tuần này là tuần đau thương với các tỷ phú toà...</td>\n",
       "      <td>musk người giàu nhất thế giới mất tỷ usd tuần ...</td>\n",
       "    </tr>\n",
       "    <tr>\n",
       "      <th>13670</th>\n",
       "      <td>thông tin ban đầu trước đó rạng sáng ngày chị ...</td>\n",
       "      <td>ngày cơ quan chức năng tp yên bái tỉnh yên bái...</td>\n",
       "    </tr>\n",
       "    <tr>\n",
       "      <th>2359</th>\n",
       "      <td>theo hiệp hội chế biến và xuất khẩu thuỷ sản v...</td>\n",
       "      <td>tháng xuất khẩu cá ngừ sang thị trường trung q...</td>\n",
       "    </tr>\n",
       "  </tbody>\n",
       "</table>\n",
       "</div>"
      ],
      "text/plain": [
       "                                                    Text  \\\n",
       "6507   gia đình em gái nghệ sĩ cho biết sức khỏe ông ...   \n",
       "10878  trở thành người thắng cuộc golfer trẻ nguyễn a...   \n",
       "4448   tuần này là tuần đau thương với các tỷ phú toà...   \n",
       "13670  thông tin ban đầu trước đó rạng sáng ngày chị ...   \n",
       "2359   theo hiệp hội chế biến và xuất khẩu thuỷ sản v...   \n",
       "\n",
       "                                                 Summary  \n",
       "6507                                              hà nội  \n",
       "10878  giải golf tournament chính thức khép lại sau n...  \n",
       "4448   musk người giàu nhất thế giới mất tỷ usd tuần ...  \n",
       "13670  ngày cơ quan chức năng tp yên bái tỉnh yên bái...  \n",
       "2359   tháng xuất khẩu cá ngừ sang thị trường trung q...  "
      ]
     },
     "execution_count": 10,
     "metadata": {},
     "output_type": "execute_result"
    }
   ],
   "source": [
    "# select the summary and text between their defined max lens respectively\n",
    "def trim_text_and_summary(df, max_text_len, max_summary_len):\n",
    "    cleaned_text = np.array(df['Text'])\n",
    "    cleaned_summary = np.array(df['Summary'])\n",
    "\n",
    "    short_text = []\n",
    "    short_summary = []\n",
    "\n",
    "    for i in range(len(cleaned_text)):\n",
    "        if len(cleaned_text[i].split()) <= max_text_len and len(\n",
    "            cleaned_summary[i].split()\n",
    "        ) <= max_summary_len:\n",
    "            short_text.append(cleaned_text[i])\n",
    "            short_summary.append(cleaned_summary[i])\n",
    "\n",
    "    df = pd.DataFrame({'Text': short_text, 'Summary': short_summary})\n",
    "    return df\n",
    "\n",
    "\n",
    "df = trim_text_and_summary(df, max_text_len, max_summary_len)\n",
    "print(f'Dataset size: {len(df)}')\n",
    "df.sample(5)"
   ]
  },
  {
   "cell_type": "code",
   "execution_count": 11,
   "id": "7c2b4b98",
   "metadata": {
    "execution": {
     "iopub.execute_input": "2022-05-13T08:53:10.130336Z",
     "iopub.status.busy": "2022-05-13T08:53:10.130045Z",
     "iopub.status.idle": "2022-05-13T08:53:15.781739Z",
     "shell.execute_reply": "2022-05-13T08:53:15.780627Z"
    },
    "papermill": {
     "duration": 5.71728,
     "end_time": "2022-05-13T08:53:15.785515",
     "exception": false,
     "start_time": "2022-05-13T08:53:10.068235",
     "status": "completed"
    },
    "tags": []
   },
   "outputs": [],
   "source": [
    "from vncorenlp import VnCoreNLP\n",
    "rdrsegmenter = VnCoreNLP(\"./vncorenlp/VnCoreNLP-1.1.1.jar\", annotators=\"wseg\", max_heap_size='-Xmx2g') "
   ]
  },
  {
   "cell_type": "code",
   "execution_count": 12,
   "id": "2048fd43",
   "metadata": {
    "execution": {
     "iopub.execute_input": "2022-05-13T08:53:15.914970Z",
     "iopub.status.busy": "2022-05-13T08:53:15.914323Z",
     "iopub.status.idle": "2022-05-13T08:53:15.919387Z",
     "shell.execute_reply": "2022-05-13T08:53:15.918703Z"
    },
    "papermill": {
     "duration": 0.073378,
     "end_time": "2022-05-13T08:53:15.921378",
     "exception": false,
     "start_time": "2022-05-13T08:53:15.848000",
     "status": "completed"
    },
    "tags": []
   },
   "outputs": [],
   "source": [
    "def read_content(string):\n",
    "    original = rdrsegmenter.tokenize(string)\n",
    "    original = ' '.join([' '.join(x) for x in original])\n",
    "\n",
    "    return original"
   ]
  },
  {
   "cell_type": "code",
   "execution_count": 13,
   "id": "4e671522",
   "metadata": {
    "execution": {
     "iopub.execute_input": "2022-05-13T08:53:16.044950Z",
     "iopub.status.busy": "2022-05-13T08:53:16.044387Z",
     "iopub.status.idle": "2022-05-13T08:56:08.058077Z",
     "shell.execute_reply": "2022-05-13T08:56:08.057150Z"
    },
    "papermill": {
     "duration": 172.139577,
     "end_time": "2022-05-13T08:56:08.121503",
     "exception": false,
     "start_time": "2022-05-13T08:53:15.981926",
     "status": "completed"
    },
    "tags": []
   },
   "outputs": [
    {
     "data": {
      "text/html": [
       "<div>\n",
       "<style scoped>\n",
       "    .dataframe tbody tr th:only-of-type {\n",
       "        vertical-align: middle;\n",
       "    }\n",
       "\n",
       "    .dataframe tbody tr th {\n",
       "        vertical-align: top;\n",
       "    }\n",
       "\n",
       "    .dataframe thead th {\n",
       "        text-align: right;\n",
       "    }\n",
       "</style>\n",
       "<table border=\"1\" class=\"dataframe\">\n",
       "  <thead>\n",
       "    <tr style=\"text-align: right;\">\n",
       "      <th></th>\n",
       "      <th>Text</th>\n",
       "      <th>Summary</th>\n",
       "    </tr>\n",
       "  </thead>\n",
       "  <tbody>\n",
       "    <tr>\n",
       "      <th>0</th>\n",
       "      <td>ông maliki xác_nhận các vụ không_kích của syri...</td>\n",
       "      <td>thủ_tướng iraq xác_nhận với bbc rằng syria khô...</td>\n",
       "    </tr>\n",
       "    <tr>\n",
       "      <th>1</th>\n",
       "      <td>lý quang diệu được cho là người đứng đằng sau...</td>\n",
       "      <td>chính_phủ singapore cho_hay cựu thủ_tướng ngườ...</td>\n",
       "    </tr>\n",
       "    <tr>\n",
       "      <th>2</th>\n",
       "      <td>ông hà kim ngọc thứ_trưởng bộ ngoại_giao phát_...</td>\n",
       "      <td>kết_thúc phiên kiểm_định định_kỳ phổ_quát về t...</td>\n",
       "    </tr>\n",
       "    <tr>\n",
       "      <th>3</th>\n",
       "      <td>hai bàn thắng của luis suarez hiệp một tạo lợi...</td>\n",
       "      <td>hlv manchester city manuel pellegrini tin rằng...</td>\n",
       "    </tr>\n",
       "    <tr>\n",
       "      <th>4</th>\n",
       "      <td>thủ_hiến tiểu_bang nam úc ông jay weatherill l...</td>\n",
       "      <td>một chính_khách gốc việt từng là dân tỵ nạn ...</td>\n",
       "    </tr>\n",
       "  </tbody>\n",
       "</table>\n",
       "</div>"
      ],
      "text/plain": [
       "                                                Text  \\\n",
       "0  ông maliki xác_nhận các vụ không_kích của syri...   \n",
       "1  lý quang diệu được cho là người đứng đằng sau...   \n",
       "2  ông hà kim ngọc thứ_trưởng bộ ngoại_giao phát_...   \n",
       "3  hai bàn thắng của luis suarez hiệp một tạo lợi...   \n",
       "4  thủ_hiến tiểu_bang nam úc ông jay weatherill l...   \n",
       "\n",
       "                                             Summary  \n",
       "0  thủ_tướng iraq xác_nhận với bbc rằng syria khô...  \n",
       "1  chính_phủ singapore cho_hay cựu thủ_tướng ngườ...  \n",
       "2  kết_thúc phiên kiểm_định định_kỳ phổ_quát về t...  \n",
       "3  hlv manchester city manuel pellegrini tin rằng...  \n",
       "4  một chính_khách gốc việt từng là dân tỵ nạn ...  "
      ]
     },
     "execution_count": 13,
     "metadata": {},
     "output_type": "execute_result"
    }
   ],
   "source": [
    "df.Text = df.Text.apply(lambda x: read_content(str(x)))\n",
    "df.Summary = df.Summary.apply(lambda x: read_content(str(x)))\n",
    "df.head(5)"
   ]
  },
  {
   "cell_type": "code",
   "execution_count": 14,
   "id": "921c4093",
   "metadata": {
    "execution": {
     "iopub.execute_input": "2022-05-13T08:56:08.244897Z",
     "iopub.status.busy": "2022-05-13T08:56:08.244618Z",
     "iopub.status.idle": "2022-05-13T08:56:08.274657Z",
     "shell.execute_reply": "2022-05-13T08:56:08.273684Z"
    },
    "papermill": {
     "duration": 0.095006,
     "end_time": "2022-05-13T08:56:08.277162",
     "exception": false,
     "start_time": "2022-05-13T08:56:08.182156",
     "status": "completed"
    },
    "tags": []
   },
   "outputs": [],
   "source": [
    "df.Summary = df.Summary.apply(lambda x: f'_START_ {x} _END_')\n",
    "start_token = 'sostok'\n",
    "end_token = 'eostok'\n",
    "df.Summary  = df.Summary.apply(lambda x: f'{start_token} {x} {end_token}')"
   ]
  },
  {
   "cell_type": "markdown",
   "id": "52cd6e3d",
   "metadata": {
    "papermill": {
     "duration": 0.061363,
     "end_time": "2022-05-13T08:56:08.399941",
     "exception": false,
     "start_time": "2022-05-13T08:56:08.338578",
     "status": "completed"
    },
    "tags": []
   },
   "source": [
    "# Training build_vocab with 2 method of skipgam and CBOW"
   ]
  },
  {
   "cell_type": "code",
   "execution_count": 15,
   "id": "fccd1f49",
   "metadata": {
    "execution": {
     "iopub.execute_input": "2022-05-13T08:56:08.525271Z",
     "iopub.status.busy": "2022-05-13T08:56:08.525015Z",
     "iopub.status.idle": "2022-05-13T08:56:08.673410Z",
     "shell.execute_reply": "2022-05-13T08:56:08.672432Z"
    },
    "papermill": {
     "duration": 0.213743,
     "end_time": "2022-05-13T08:56:08.675780",
     "exception": false,
     "start_time": "2022-05-13T08:56:08.462037",
     "status": "completed"
    },
    "tags": []
   },
   "outputs": [],
   "source": [
    "from tqdm import tqdm\n",
    "tqdm.pandas(desc=\"progress-bar\")\n",
    "import gensim\n",
    "from gensim.models.word2vec import Word2Vec\n",
    "from gensim.models.doc2vec import TaggedDocument\n",
    "import multiprocessing\n",
    "from sklearn import utils"
   ]
  },
  {
   "cell_type": "code",
   "execution_count": 16,
   "id": "6774bc83",
   "metadata": {
    "execution": {
     "iopub.execute_input": "2022-05-13T08:56:08.801260Z",
     "iopub.status.busy": "2022-05-13T08:56:08.800937Z",
     "iopub.status.idle": "2022-05-13T08:56:08.806165Z",
     "shell.execute_reply": "2022-05-13T08:56:08.805361Z"
    },
    "papermill": {
     "duration": 0.071183,
     "end_time": "2022-05-13T08:56:08.808141",
     "exception": false,
     "start_time": "2022-05-13T08:56:08.736958",
     "status": "completed"
    },
    "tags": []
   },
   "outputs": [],
   "source": [
    "def labelize_text_ug(tweets,label):\n",
    "    result = []\n",
    "    prefix = label\n",
    "    for i, t in zip(tweets.index, tweets):\n",
    "        result.append(TaggedDocument(t.split(), [prefix + '_%s' % i]))\n",
    "    return result"
   ]
  },
  {
   "cell_type": "code",
   "execution_count": 17,
   "id": "a903b336",
   "metadata": {
    "execution": {
     "iopub.execute_input": "2022-05-13T08:56:08.934015Z",
     "iopub.status.busy": "2022-05-13T08:56:08.933722Z",
     "iopub.status.idle": "2022-05-13T08:56:10.081891Z",
     "shell.execute_reply": "2022-05-13T08:56:10.080721Z"
    },
    "papermill": {
     "duration": 1.214493,
     "end_time": "2022-05-13T08:56:10.084432",
     "exception": false,
     "start_time": "2022-05-13T08:56:08.869939",
     "status": "completed"
    },
    "tags": []
   },
   "outputs": [],
   "source": [
    "all_x = pd.concat([df.Text,df.Summary])\n",
    "all_x_w2v = labelize_text_ug(all_x, 'all')"
   ]
  },
  {
   "cell_type": "code",
   "execution_count": 18,
   "id": "42d1d9a6",
   "metadata": {
    "execution": {
     "iopub.execute_input": "2022-05-13T08:56:10.210037Z",
     "iopub.status.busy": "2022-05-13T08:56:10.209749Z",
     "iopub.status.idle": "2022-05-13T08:56:12.045213Z",
     "shell.execute_reply": "2022-05-13T08:56:12.044381Z"
    },
    "papermill": {
     "duration": 1.901399,
     "end_time": "2022-05-13T08:56:12.047862",
     "exception": false,
     "start_time": "2022-05-13T08:56:10.146463",
     "status": "completed"
    },
    "tags": []
   },
   "outputs": [
    {
     "name": "stderr",
     "output_type": "stream",
     "text": [
      "100%|██████████| 29328/29328 [00:00<00:00, 1099987.91it/s]\n"
     ]
    }
   ],
   "source": [
    "cores = multiprocessing.cpu_count()\n",
    "model_ug_cbow = Word2Vec(sg=0, vector_size=150, negative=5, window=2, min_count=2, workers=cores, alpha=0.065, min_alpha=0.065)\n",
    "model_ug_cbow.build_vocab([x.words for x in tqdm(all_x_w2v)])"
   ]
  },
  {
   "cell_type": "code",
   "execution_count": 19,
   "id": "010d80eb",
   "metadata": {
    "execution": {
     "iopub.execute_input": "2022-05-13T08:56:12.176178Z",
     "iopub.status.busy": "2022-05-13T08:56:12.175881Z",
     "iopub.status.idle": "2022-05-13T08:57:38.675917Z",
     "shell.execute_reply": "2022-05-13T08:57:38.674724Z"
    },
    "papermill": {
     "duration": 86.567408,
     "end_time": "2022-05-13T08:57:38.678435",
     "exception": false,
     "start_time": "2022-05-13T08:56:12.111027",
     "status": "completed"
    },
    "tags": []
   },
   "outputs": [
    {
     "name": "stderr",
     "output_type": "stream",
     "text": [
      "100%|██████████| 29328/29328 [00:00<00:00, 1100795.08it/s]\n",
      "100%|██████████| 29328/29328 [00:00<00:00, 1074168.44it/s]\n",
      "100%|██████████| 29328/29328 [00:00<00:00, 1083440.18it/s]\n",
      "100%|██████████| 29328/29328 [00:00<00:00, 1077112.43it/s]\n",
      "100%|██████████| 29328/29328 [00:00<00:00, 1099869.88it/s]\n",
      "100%|██████████| 29328/29328 [00:00<00:00, 1080101.04it/s]\n",
      "100%|██████████| 29328/29328 [00:00<00:00, 1123496.86it/s]\n",
      "100%|██████████| 29328/29328 [00:00<00:00, 1088088.20it/s]\n",
      "100%|██████████| 29328/29328 [00:00<00:00, 1089871.69it/s]\n",
      "100%|██████████| 29328/29328 [00:00<00:00, 1110825.08it/s]\n",
      "100%|██████████| 29328/29328 [00:00<00:00, 1089369.79it/s]\n",
      "100%|██████████| 29328/29328 [00:00<00:00, 1001934.85it/s]\n",
      "100%|██████████| 29328/29328 [00:00<00:00, 1130757.15it/s]\n",
      "100%|██████████| 29328/29328 [00:00<00:00, 1106667.76it/s]\n",
      "100%|██████████| 29328/29328 [00:00<00:00, 1061094.37it/s]\n",
      "100%|██████████| 29328/29328 [00:00<00:00, 1136188.16it/s]\n",
      "100%|██████████| 29328/29328 [00:00<00:00, 1140718.76it/s]\n",
      "100%|██████████| 29328/29328 [00:00<00:00, 1111829.10it/s]\n",
      "100%|██████████| 29328/29328 [00:00<00:00, 1135118.74it/s]\n",
      "100%|██████████| 29328/29328 [00:00<00:00, 1080395.12it/s]\n",
      "100%|██████████| 29328/29328 [00:00<00:00, 1088377.02it/s]\n",
      "100%|██████████| 29328/29328 [00:00<00:00, 1071483.12it/s]\n",
      "100%|██████████| 29328/29328 [00:00<00:00, 1136387.59it/s]\n",
      "100%|██████████| 29328/29328 [00:00<00:00, 1091573.84it/s]\n",
      "100%|██████████| 29328/29328 [00:00<00:00, 1088454.07it/s]\n",
      "100%|██████████| 29328/29328 [00:00<00:00, 1095872.10it/s]\n",
      "100%|██████████| 29328/29328 [00:00<00:00, 1140813.97it/s]\n",
      "100%|██████████| 29328/29328 [00:00<00:00, 1113600.58it/s]\n",
      "100%|██████████| 29328/29328 [00:00<00:00, 1136870.71it/s]\n",
      "100%|██████████| 29328/29328 [00:00<00:00, 1039616.54it/s]\n"
     ]
    },
    {
     "name": "stdout",
     "output_type": "stream",
     "text": [
      "CPU times: user 5min 11s, sys: 1.44 s, total: 5min 13s\n",
      "Wall time: 1min 26s\n"
     ]
    }
   ],
   "source": [
    "%%time\n",
    "for epoch in range(30):\n",
    "    model_ug_cbow.train(utils.shuffle([x.words for x in tqdm(all_x_w2v)]), total_examples=len(all_x_w2v), epochs=1)\n",
    "    model_ug_cbow.alpha -= 0.002\n",
    "    model_ug_cbow.min_alpha = model_ug_cbow.alpha"
   ]
  },
  {
   "cell_type": "code",
   "execution_count": 20,
   "id": "e5e6c086",
   "metadata": {
    "execution": {
     "iopub.execute_input": "2022-05-13T08:57:38.874262Z",
     "iopub.status.busy": "2022-05-13T08:57:38.873688Z",
     "iopub.status.idle": "2022-05-13T08:57:40.622434Z",
     "shell.execute_reply": "2022-05-13T08:57:40.621499Z"
    },
    "papermill": {
     "duration": 1.849981,
     "end_time": "2022-05-13T08:57:40.624830",
     "exception": false,
     "start_time": "2022-05-13T08:57:38.774849",
     "status": "completed"
    },
    "tags": []
   },
   "outputs": [
    {
     "name": "stderr",
     "output_type": "stream",
     "text": [
      "100%|██████████| 29328/29328 [00:00<00:00, 1107195.68it/s]\n"
     ]
    }
   ],
   "source": [
    "model_ug_sg = Word2Vec(sg=1, vector_size=150, negative=5, window=2, min_count=2, workers=cores, alpha=0.065, min_alpha=0.065)\n",
    "model_ug_sg.build_vocab([x.words for x in tqdm(all_x_w2v)])"
   ]
  },
  {
   "cell_type": "code",
   "execution_count": 21,
   "id": "bf386af6",
   "metadata": {
    "execution": {
     "iopub.execute_input": "2022-05-13T08:57:40.826084Z",
     "iopub.status.busy": "2022-05-13T08:57:40.825258Z",
     "iopub.status.idle": "2022-05-13T09:00:40.201174Z",
     "shell.execute_reply": "2022-05-13T09:00:40.200033Z"
    },
    "papermill": {
     "duration": 179.480759,
     "end_time": "2022-05-13T09:00:40.204452",
     "exception": false,
     "start_time": "2022-05-13T08:57:40.723693",
     "status": "completed"
    },
    "tags": []
   },
   "outputs": [
    {
     "name": "stderr",
     "output_type": "stream",
     "text": [
      "100%|██████████| 29328/29328 [00:00<00:00, 1090731.77it/s]\n",
      "100%|██████████| 29328/29328 [00:00<00:00, 1121877.91it/s]\n",
      "100%|██████████| 29328/29328 [00:00<00:00, 1128350.80it/s]\n",
      "100%|██████████| 29328/29328 [00:00<00:00, 1059522.37it/s]\n",
      "100%|██████████| 29328/29328 [00:00<00:00, 1052784.91it/s]\n",
      "100%|██████████| 29328/29328 [00:00<00:00, 1121029.32it/s]\n",
      "100%|██████████| 29328/29328 [00:00<00:00, 1099152.45it/s]\n",
      "100%|██████████| 29328/29328 [00:00<00:00, 1018602.79it/s]\n",
      "100%|██████████| 29328/29328 [00:00<00:00, 1111206.39it/s]\n",
      "100%|██████████| 29328/29328 [00:00<00:00, 1092494.83it/s]\n",
      "100%|██████████| 29328/29328 [00:00<00:00, 1113600.58it/s]\n",
      "100%|██████████| 29328/29328 [00:00<00:00, 1097906.55it/s]\n",
      "100%|██████████| 29328/29328 [00:00<00:00, 1073399.84it/s]\n",
      "100%|██████████| 29328/29328 [00:00<00:00, 1100391.35it/s]\n",
      "100%|██████████| 29328/29328 [00:00<00:00, 1119101.77it/s]\n",
      "100%|██████████| 29328/29328 [00:00<00:00, 1116663.62it/s]\n",
      "100%|██████████| 29328/29328 [00:00<00:00, 1133727.32it/s]\n",
      "100%|██████████| 29328/29328 [00:00<00:00, 1079759.73it/s]\n",
      "100%|██████████| 29328/29328 [00:00<00:00, 1081325.85it/s]\n",
      "100%|██████████| 29328/29328 [00:00<00:00, 1141629.21it/s]\n",
      "100%|██████████| 29328/29328 [00:00<00:00, 1130227.29it/s]\n",
      "100%|██████████| 29328/29328 [00:00<00:00, 1112855.07it/s]\n",
      "100%|██████████| 29328/29328 [00:00<00:00, 1122297.57it/s]\n",
      "100%|██████████| 29328/29328 [00:00<00:00, 1139007.65it/s]\n",
      "100%|██████████| 29328/29328 [00:00<00:00, 1084433.52it/s]\n",
      "100%|██████████| 29328/29328 [00:00<00:00, 1103045.65it/s]\n",
      "100%|██████████| 29328/29328 [00:00<00:00, 1131381.16it/s]\n",
      "100%|██████████| 29328/29328 [00:00<00:00, 1126078.36it/s]\n",
      "100%|██████████| 29328/29328 [00:00<00:00, 1095013.64it/s]\n",
      "100%|██████████| 29328/29328 [00:00<00:00, 1108892.44it/s]\n"
     ]
    },
    {
     "name": "stdout",
     "output_type": "stream",
     "text": [
      "CPU times: user 11min 19s, sys: 1.99 s, total: 11min 21s\n",
      "Wall time: 2min 59s\n"
     ]
    }
   ],
   "source": [
    "%%time\n",
    "for epoch in range(30):\n",
    "    model_ug_sg.train(utils.shuffle([x.words for x in tqdm(all_x_w2v)]), total_examples=len(all_x_w2v), epochs=1)\n",
    "    model_ug_sg.alpha -= 0.002\n",
    "    model_ug_sg.min_alpha = model_ug_sg.alpha"
   ]
  },
  {
   "cell_type": "markdown",
   "id": "745ffc13",
   "metadata": {
    "papermill": {
     "duration": 0.130049,
     "end_time": "2022-05-13T09:00:40.466688",
     "exception": false,
     "start_time": "2022-05-13T09:00:40.336639",
     "status": "completed"
    },
    "tags": []
   },
   "source": [
    "**Save results**"
   ]
  },
  {
   "cell_type": "code",
   "execution_count": 22,
   "id": "05853c53",
   "metadata": {
    "execution": {
     "iopub.execute_input": "2022-05-13T09:00:40.729693Z",
     "iopub.status.busy": "2022-05-13T09:00:40.729403Z",
     "iopub.status.idle": "2022-05-13T09:00:41.018581Z",
     "shell.execute_reply": "2022-05-13T09:00:41.017603Z"
    },
    "papermill": {
     "duration": 0.422483,
     "end_time": "2022-05-13T09:00:41.021087",
     "exception": false,
     "start_time": "2022-05-13T09:00:40.598604",
     "status": "completed"
    },
    "tags": []
   },
   "outputs": [],
   "source": [
    "model_ug_cbow.save('w2v_model_ug_cbow.word2vec')\n",
    "model_ug_sg.save('w2v_model_ug_sg.word2vec')"
   ]
  },
  {
   "cell_type": "code",
   "execution_count": 23,
   "id": "fd49146e",
   "metadata": {
    "execution": {
     "iopub.execute_input": "2022-05-13T09:00:41.287866Z",
     "iopub.status.busy": "2022-05-13T09:00:41.287221Z",
     "iopub.status.idle": "2022-05-13T09:00:42.425099Z",
     "shell.execute_reply": "2022-05-13T09:00:42.424120Z"
    },
    "papermill": {
     "duration": 1.275287,
     "end_time": "2022-05-13T09:00:42.427738",
     "exception": false,
     "start_time": "2022-05-13T09:00:41.152451",
     "status": "completed"
    },
    "tags": []
   },
   "outputs": [],
   "source": [
    "from gensim.models import KeyedVectors\n",
    "model_ug_cbow = KeyedVectors.load('w2v_model_ug_cbow.word2vec')\n",
    "model_ug_sg = KeyedVectors.load('w2v_model_ug_sg.word2vec')"
   ]
  },
  {
   "cell_type": "markdown",
   "id": "490f8511",
   "metadata": {
    "papermill": {
     "duration": 0.129017,
     "end_time": "2022-05-13T09:00:42.686432",
     "exception": false,
     "start_time": "2022-05-13T09:00:42.557415",
     "status": "completed"
    },
    "tags": []
   },
   "source": [
    "**Appending cbow and sg for better result**"
   ]
  },
  {
   "cell_type": "code",
   "execution_count": 24,
   "id": "af8315c7",
   "metadata": {
    "execution": {
     "iopub.execute_input": "2022-05-13T09:00:42.953615Z",
     "iopub.status.busy": "2022-05-13T09:00:42.953062Z",
     "iopub.status.idle": "2022-05-13T09:00:43.322263Z",
     "shell.execute_reply": "2022-05-13T09:00:43.321373Z"
    },
    "papermill": {
     "duration": 0.507579,
     "end_time": "2022-05-13T09:00:43.324921",
     "exception": false,
     "start_time": "2022-05-13T09:00:42.817342",
     "status": "completed"
    },
    "tags": []
   },
   "outputs": [
    {
     "name": "stdout",
     "output_type": "stream",
     "text": [
      "Found 31125 word vectors.\n"
     ]
    }
   ],
   "source": [
    "embeddings_index = {}\n",
    "for w in model_ug_cbow.wv.index_to_key:\n",
    "    embeddings_index[w] = np.append(model_ug_cbow.wv[w],model_ug_sg.wv[w])\n",
    "print('Found %s word vectors.' % len(embeddings_index))"
   ]
  },
  {
   "cell_type": "markdown",
   "id": "6241e6ee",
   "metadata": {
    "papermill": {
     "duration": 0.130576,
     "end_time": "2022-05-13T09:00:43.585955",
     "exception": false,
     "start_time": "2022-05-13T09:00:43.455379",
     "status": "completed"
    },
    "tags": []
   },
   "source": [
    "# Tokenizing"
   ]
  },
  {
   "cell_type": "code",
   "execution_count": 25,
   "id": "27e3f9d4",
   "metadata": {
    "execution": {
     "iopub.execute_input": "2022-05-13T09:00:43.852422Z",
     "iopub.status.busy": "2022-05-13T09:00:43.852099Z",
     "iopub.status.idle": "2022-05-13T09:00:43.859257Z",
     "shell.execute_reply": "2022-05-13T09:00:43.858211Z"
    },
    "papermill": {
     "duration": 0.142161,
     "end_time": "2022-05-13T09:00:43.861449",
     "exception": false,
     "start_time": "2022-05-13T09:00:43.719288",
     "status": "completed"
    },
    "tags": []
   },
   "outputs": [],
   "source": [
    "# rare word analysis\n",
    "def get_rare_word_percent(tokenizer, threshold):\n",
    "    # threshold: if the word's occurrence is less than this then it's rare word\n",
    "\n",
    "    count = 0\n",
    "    total_count = 0\n",
    "    frequency = 0\n",
    "    total_frequency = 0\n",
    "\n",
    "    for key, value in tokenizer.word_counts.items():\n",
    "        total_count += 1\n",
    "        total_frequency += value\n",
    "        if value < threshold:\n",
    "            count += 1\n",
    "            frequency += value\n",
    "\n",
    "    return {\n",
    "        'percent': round((count / total_count) * 100, 2),\n",
    "        'total_coverage': round(frequency / total_frequency * 100, 2),\n",
    "        'count': count,\n",
    "        'total_count': total_count\n",
    "    }"
   ]
  },
  {
   "cell_type": "code",
   "execution_count": 26,
   "id": "2455fcd2",
   "metadata": {
    "execution": {
     "iopub.execute_input": "2022-05-13T09:00:44.126480Z",
     "iopub.status.busy": "2022-05-13T09:00:44.125933Z",
     "iopub.status.idle": "2022-05-13T09:00:44.135963Z",
     "shell.execute_reply": "2022-05-13T09:00:44.135016Z"
    },
    "papermill": {
     "duration": 0.144532,
     "end_time": "2022-05-13T09:00:44.138448",
     "exception": false,
     "start_time": "2022-05-13T09:00:43.993916",
     "status": "completed"
    },
    "tags": []
   },
   "outputs": [],
   "source": [
    "# Splitting the training and validation sets\n",
    "x_train, x_val, y_train, y_val = train_test_split(\n",
    "    np.array(df['Text']),\n",
    "    np.array(df['Summary']),\n",
    "    test_size=0.15,\n",
    "    random_state=1,\n",
    "    shuffle=True\n",
    ")"
   ]
  },
  {
   "cell_type": "markdown",
   "id": "55ecbfa8",
   "metadata": {
    "papermill": {
     "duration": 0.13093,
     "end_time": "2022-05-13T09:00:44.401382",
     "exception": false,
     "start_time": "2022-05-13T09:00:44.270452",
     "status": "completed"
    },
    "tags": []
   },
   "source": [
    "## **Tokenizing Text x**"
   ]
  },
  {
   "cell_type": "code",
   "execution_count": 27,
   "id": "d242d49f",
   "metadata": {
    "execution": {
     "iopub.execute_input": "2022-05-13T09:00:44.665636Z",
     "iopub.status.busy": "2022-05-13T09:00:44.665120Z",
     "iopub.status.idle": "2022-05-13T09:00:48.168511Z",
     "shell.execute_reply": "2022-05-13T09:00:48.167405Z"
    },
    "papermill": {
     "duration": 3.638339,
     "end_time": "2022-05-13T09:00:48.170894",
     "exception": false,
     "start_time": "2022-05-13T09:00:44.532555",
     "status": "completed"
    },
    "tags": []
   },
   "outputs": [
    {
     "name": "stdout",
     "output_type": "stream",
     "text": [
      "{'percent': 65.2, 'total_coverage': 1.07, 'count': 19710, 'total_count': 30230}\n"
     ]
    }
   ],
   "source": [
    "x_tokenizer = Tokenizer()\n",
    "x_tokenizer.fit_on_texts(list(x_train))\n",
    "\n",
    "x_tokens_data = get_rare_word_percent(x_tokenizer, 4)\n",
    "print(x_tokens_data)"
   ]
  },
  {
   "cell_type": "code",
   "execution_count": 28,
   "id": "f0ced6c2",
   "metadata": {
    "execution": {
     "iopub.execute_input": "2022-05-13T09:00:48.435826Z",
     "iopub.status.busy": "2022-05-13T09:00:48.434985Z",
     "iopub.status.idle": "2022-05-13T09:00:48.442910Z",
     "shell.execute_reply": "2022-05-13T09:00:48.441895Z"
    },
    "papermill": {
     "duration": 0.143021,
     "end_time": "2022-05-13T09:00:48.445191",
     "exception": false,
     "start_time": "2022-05-13T09:00:48.302170",
     "status": "completed"
    },
    "tags": []
   },
   "outputs": [],
   "source": [
    "x_tokenizer = Tokenizer(num_words=x_tokens_data['total_count'] - x_tokens_data['count'])"
   ]
  },
  {
   "cell_type": "code",
   "execution_count": 29,
   "id": "8ad8eb16",
   "metadata": {
    "execution": {
     "iopub.execute_input": "2022-05-13T09:00:48.733568Z",
     "iopub.status.busy": "2022-05-13T09:00:48.733266Z",
     "iopub.status.idle": "2022-05-13T09:00:52.287751Z",
     "shell.execute_reply": "2022-05-13T09:00:52.286922Z"
    },
    "papermill": {
     "duration": 3.690687,
     "end_time": "2022-05-13T09:00:52.290169",
     "exception": false,
     "start_time": "2022-05-13T09:00:48.599482",
     "status": "completed"
    },
    "tags": []
   },
   "outputs": [],
   "source": [
    "# else use this\n",
    "x_tokenizer = Tokenizer()\n",
    "x_tokenizer.fit_on_texts(list(x_train))"
   ]
  },
  {
   "cell_type": "code",
   "execution_count": 30,
   "id": "6fb062f8",
   "metadata": {
    "execution": {
     "iopub.execute_input": "2022-05-13T09:00:52.565148Z",
     "iopub.status.busy": "2022-05-13T09:00:52.564554Z",
     "iopub.status.idle": "2022-05-13T09:00:52.616204Z",
     "shell.execute_reply": "2022-05-13T09:00:52.615472Z"
    },
    "papermill": {
     "duration": 0.18976,
     "end_time": "2022-05-13T09:00:52.618648",
     "exception": false,
     "start_time": "2022-05-13T09:00:52.428888",
     "status": "completed"
    },
    "tags": []
   },
   "outputs": [],
   "source": [
    "# save tokenizer\n",
    "with open('x_tokenizer', 'wb') as f:\n",
    "    pickle.dump(x_tokenizer, f, protocol=pickle.HIGHEST_PROTOCOL)"
   ]
  },
  {
   "cell_type": "code",
   "execution_count": 31,
   "id": "4e9f7c89",
   "metadata": {
    "execution": {
     "iopub.execute_input": "2022-05-13T09:00:52.895589Z",
     "iopub.status.busy": "2022-05-13T09:00:52.895130Z",
     "iopub.status.idle": "2022-05-13T09:00:56.449890Z",
     "shell.execute_reply": "2022-05-13T09:00:56.448806Z"
    },
    "papermill": {
     "duration": 3.695718,
     "end_time": "2022-05-13T09:00:56.452638",
     "exception": false,
     "start_time": "2022-05-13T09:00:52.756920",
     "status": "completed"
    },
    "tags": []
   },
   "outputs": [
    {
     "name": "stdout",
     "output_type": "stream",
     "text": [
      "30231\n"
     ]
    }
   ],
   "source": [
    "# one-hot-encoding\n",
    "x_train_sequence = x_tokenizer.texts_to_sequences(x_train)\n",
    "x_val_sequence = x_tokenizer.texts_to_sequences(x_val)\n",
    "\n",
    "# padding upto max_text_len\n",
    "x_train_padded = pad_sequences(x_train_sequence, maxlen=max_text_len, padding='post')\n",
    "x_val_padded = pad_sequences(x_val_sequence, maxlen=max_text_len, padding='post')\n",
    "\n",
    "x_vocab_size = len(x_tokenizer.word_index) + 1\n",
    "\n",
    "print(x_vocab_size)"
   ]
  },
  {
   "cell_type": "markdown",
   "id": "3ddd3121",
   "metadata": {
    "papermill": {
     "duration": 0.132582,
     "end_time": "2022-05-13T09:00:56.721289",
     "exception": false,
     "start_time": "2022-05-13T09:00:56.588707",
     "status": "completed"
    },
    "tags": []
   },
   "source": [
    "## **Tokenizing Summary y**"
   ]
  },
  {
   "cell_type": "code",
   "execution_count": 32,
   "id": "8d08967d",
   "metadata": {
    "execution": {
     "iopub.execute_input": "2022-05-13T09:00:56.991740Z",
     "iopub.status.busy": "2022-05-13T09:00:56.991278Z",
     "iopub.status.idle": "2022-05-13T09:00:57.605145Z",
     "shell.execute_reply": "2022-05-13T09:00:57.604182Z"
    },
    "papermill": {
     "duration": 0.753761,
     "end_time": "2022-05-13T09:00:57.607436",
     "exception": false,
     "start_time": "2022-05-13T09:00:56.853675",
     "status": "completed"
    },
    "tags": []
   },
   "outputs": [
    {
     "name": "stdout",
     "output_type": "stream",
     "text": [
      "{'percent': 70.87, 'total_coverage': 3.12, 'count': 6919, 'total_count': 9763}\n"
     ]
    }
   ],
   "source": [
    "y_tokenizer = Tokenizer()\n",
    "y_tokenizer.fit_on_texts(list(y_train))\n",
    "\n",
    "y_tokens_data = get_rare_word_percent(y_tokenizer, 6)\n",
    "print(y_tokens_data)"
   ]
  },
  {
   "cell_type": "code",
   "execution_count": 33,
   "id": "4b8f0b08",
   "metadata": {
    "execution": {
     "iopub.execute_input": "2022-05-13T09:00:57.880016Z",
     "iopub.status.busy": "2022-05-13T09:00:57.879453Z",
     "iopub.status.idle": "2022-05-13T09:00:57.883963Z",
     "shell.execute_reply": "2022-05-13T09:00:57.883378Z"
    },
    "papermill": {
     "duration": 0.142634,
     "end_time": "2022-05-13T09:00:57.885831",
     "exception": false,
     "start_time": "2022-05-13T09:00:57.743197",
     "status": "completed"
    },
    "tags": []
   },
   "outputs": [],
   "source": [
    "y_tokenizer = Tokenizer(num_words=y_tokens_data['total_count'] - y_tokens_data['count'])"
   ]
  },
  {
   "cell_type": "code",
   "execution_count": 34,
   "id": "98d19af0",
   "metadata": {
    "execution": {
     "iopub.execute_input": "2022-05-13T09:00:58.157335Z",
     "iopub.status.busy": "2022-05-13T09:00:58.156832Z",
     "iopub.status.idle": "2022-05-13T09:00:58.751254Z",
     "shell.execute_reply": "2022-05-13T09:00:58.750370Z"
    },
    "papermill": {
     "duration": 0.73165,
     "end_time": "2022-05-13T09:00:58.753693",
     "exception": false,
     "start_time": "2022-05-13T09:00:58.022043",
     "status": "completed"
    },
    "tags": []
   },
   "outputs": [],
   "source": [
    "# else use this\n",
    "y_tokenizer = Tokenizer()\n",
    "y_tokenizer.fit_on_texts(list(y_train))"
   ]
  },
  {
   "cell_type": "code",
   "execution_count": 35,
   "id": "f035616b",
   "metadata": {
    "execution": {
     "iopub.execute_input": "2022-05-13T09:00:59.025225Z",
     "iopub.status.busy": "2022-05-13T09:00:59.024733Z",
     "iopub.status.idle": "2022-05-13T09:00:59.040092Z",
     "shell.execute_reply": "2022-05-13T09:00:59.039369Z"
    },
    "papermill": {
     "duration": 0.154928,
     "end_time": "2022-05-13T09:00:59.042309",
     "exception": false,
     "start_time": "2022-05-13T09:00:58.887381",
     "status": "completed"
    },
    "tags": []
   },
   "outputs": [],
   "source": [
    "# save tokenizer\n",
    "with open('y_tokenizer', 'wb') as f:\n",
    "    pickle.dump(y_tokenizer, f, protocol=pickle.HIGHEST_PROTOCOL)"
   ]
  },
  {
   "cell_type": "code",
   "execution_count": 36,
   "id": "f8b42960",
   "metadata": {
    "execution": {
     "iopub.execute_input": "2022-05-13T09:00:59.312241Z",
     "iopub.status.busy": "2022-05-13T09:00:59.311667Z",
     "iopub.status.idle": "2022-05-13T09:00:59.981606Z",
     "shell.execute_reply": "2022-05-13T09:00:59.980905Z"
    },
    "papermill": {
     "duration": 0.808005,
     "end_time": "2022-05-13T09:00:59.983671",
     "exception": false,
     "start_time": "2022-05-13T09:00:59.175666",
     "status": "completed"
    },
    "tags": []
   },
   "outputs": [
    {
     "name": "stdout",
     "output_type": "stream",
     "text": [
      "9764\n"
     ]
    }
   ],
   "source": [
    "# one-hot-encoding\n",
    "y_train_sequence = y_tokenizer.texts_to_sequences(y_train)\n",
    "y_val_sequence = y_tokenizer.texts_to_sequences(y_val)\n",
    "\n",
    "# padding upto max_summary_len\n",
    "y_train_padded = pad_sequences(y_train_sequence, maxlen=max_summary_len, padding='post')\n",
    "y_val_padded = pad_sequences(y_val_sequence, maxlen=max_summary_len, padding='post')\n",
    "\n",
    "y_vocab_size = len(y_tokenizer.word_index) + 1\n",
    "\n",
    "print(y_vocab_size)"
   ]
  },
  {
   "cell_type": "markdown",
   "id": "8acf0349",
   "metadata": {
    "papermill": {
     "duration": 0.136359,
     "end_time": "2022-05-13T09:01:00.255426",
     "exception": false,
     "start_time": "2022-05-13T09:01:00.119067",
     "status": "completed"
    },
    "tags": []
   },
   "source": [
    "# Modelling"
   ]
  },
  {
   "cell_type": "code",
   "execution_count": 37,
   "id": "3cdab108",
   "metadata": {
    "execution": {
     "iopub.execute_input": "2022-05-13T09:01:00.528628Z",
     "iopub.status.busy": "2022-05-13T09:01:00.527792Z",
     "iopub.status.idle": "2022-05-13T09:01:00.531739Z",
     "shell.execute_reply": "2022-05-13T09:01:00.530950Z"
    },
    "papermill": {
     "duration": 0.144669,
     "end_time": "2022-05-13T09:01:00.533961",
     "exception": false,
     "start_time": "2022-05-13T09:01:00.389292",
     "status": "completed"
    },
    "tags": []
   },
   "outputs": [],
   "source": [
    "latent_dim = 240\n",
    "embedding_dim = 300\n",
    "num_epochs = 15"
   ]
  },
  {
   "cell_type": "code",
   "execution_count": 38,
   "id": "8337403d",
   "metadata": {
    "execution": {
     "iopub.execute_input": "2022-05-13T09:01:00.807018Z",
     "iopub.status.busy": "2022-05-13T09:01:00.806545Z",
     "iopub.status.idle": "2022-05-13T09:01:00.943075Z",
     "shell.execute_reply": "2022-05-13T09:01:00.941991Z"
    },
    "papermill": {
     "duration": 0.276057,
     "end_time": "2022-05-13T09:01:00.945684",
     "exception": false,
     "start_time": "2022-05-13T09:01:00.669627",
     "status": "completed"
    },
    "tags": []
   },
   "outputs": [
    {
     "name": "stdout",
     "output_type": "stream",
     "text": [
      "Converted 18031 words (12199 misses)\n",
      "Converted 8769 words (994 misses)\n"
     ]
    }
   ],
   "source": [
    "def get_embedding_matrix(tokenizer, embedding_dim, vocab_size=None):\n",
    "    word_index = tokenizer.word_index\n",
    "    voc = list(word_index.keys())\n",
    "\n",
    "    num_tokens = len(voc) + 2 if not vocab_size else vocab_size\n",
    "    hits = 0\n",
    "    misses = 0\n",
    "\n",
    "    # Prepare embedding matrix\n",
    "    embedding_matrix = np.zeros((num_tokens, embedding_dim))\n",
    "    for word, i in word_index.items():\n",
    "        embedding_vector = embeddings_index.get(word)\n",
    "        if embedding_vector is not None:\n",
    "            # Words not found in embedding index will be all-zeros.\n",
    "            # This includes the representation for \"padding\" and \"OOV\"\n",
    "            embedding_matrix[i] = embedding_vector\n",
    "            hits += 1\n",
    "        else:\n",
    "            misses += 1\n",
    "    print(\"Converted %d words (%d misses)\" % (hits, misses))\n",
    "\n",
    "    return embedding_matrix\n",
    "\n",
    "\n",
    "x_embedding_matrix = get_embedding_matrix(x_tokenizer, embedding_dim, x_vocab_size)\n",
    "y_embedding_matrix = get_embedding_matrix(y_tokenizer, embedding_dim, y_vocab_size)"
   ]
  },
  {
   "cell_type": "code",
   "execution_count": 39,
   "id": "935c43f1",
   "metadata": {
    "execution": {
     "iopub.execute_input": "2022-05-13T09:01:01.222623Z",
     "iopub.status.busy": "2022-05-13T09:01:01.222083Z",
     "iopub.status.idle": "2022-05-13T09:01:01.226645Z",
     "shell.execute_reply": "2022-05-13T09:01:01.225836Z"
    },
    "papermill": {
     "duration": 0.145255,
     "end_time": "2022-05-13T09:01:01.229208",
     "exception": false,
     "start_time": "2022-05-13T09:01:01.083953",
     "status": "completed"
    },
    "tags": []
   },
   "outputs": [
    {
     "name": "stdout",
     "output_type": "stream",
     "text": [
      "(30231, 300)\n",
      "(9764, 300)\n"
     ]
    }
   ],
   "source": [
    "print(x_embedding_matrix.shape)\n",
    "print(y_embedding_matrix.shape)"
   ]
  },
  {
   "cell_type": "code",
   "execution_count": 40,
   "id": "c0613074",
   "metadata": {
    "execution": {
     "iopub.execute_input": "2022-05-13T09:01:01.503134Z",
     "iopub.status.busy": "2022-05-13T09:01:01.502843Z",
     "iopub.status.idle": "2022-05-13T09:01:01.507218Z",
     "shell.execute_reply": "2022-05-13T09:01:01.506221Z"
    },
    "papermill": {
     "duration": 0.143762,
     "end_time": "2022-05-13T09:01:01.509380",
     "exception": false,
     "start_time": "2022-05-13T09:01:01.365618",
     "status": "completed"
    },
    "tags": []
   },
   "outputs": [],
   "source": [
    "# Next, let’s build the dictionary to convert the index to word for target and source vocabulary:\n",
    "reverse_target_word_index = y_tokenizer.index_word\n",
    "reverse_source_word_index = x_tokenizer.index_word\n",
    "target_word_index = y_tokenizer.word_index"
   ]
  },
  {
   "cell_type": "code",
   "execution_count": 41,
   "id": "14857740",
   "metadata": {
    "execution": {
     "iopub.execute_input": "2022-05-13T09:01:01.787898Z",
     "iopub.status.busy": "2022-05-13T09:01:01.787246Z",
     "iopub.status.idle": "2022-05-13T09:01:01.801875Z",
     "shell.execute_reply": "2022-05-13T09:01:01.801236Z"
    },
    "papermill": {
     "duration": 0.156566,
     "end_time": "2022-05-13T09:01:01.803993",
     "exception": false,
     "start_time": "2022-05-13T09:01:01.647427",
     "status": "completed"
    },
    "tags": []
   },
   "outputs": [],
   "source": [
    "def build_seq2seq_model_with_just_lstm(\n",
    "    embedding_dim, latent_dim, max_text_len, \n",
    "    x_vocab_size, y_vocab_size,\n",
    "    x_embedding_matrix, y_embedding_matrix\n",
    "):\n",
    "    # instantiating the model in the strategy scope creates the model on the TPU\n",
    "    # with tpu_strategy.scope():\n",
    "        # =====================\n",
    "        # Encoder\n",
    "        # =====================\n",
    "        encoder_input = Input(shape=(max_text_len, ))\n",
    "\n",
    "        # encoder embedding layer\n",
    "        encoder_embedding = Embedding(\n",
    "            x_vocab_size,\n",
    "            embedding_dim,\n",
    "            embeddings_initializer=tf.keras.initializers.Constant(x_embedding_matrix),\n",
    "            trainable=False\n",
    "        )(encoder_input)\n",
    "\n",
    "        # encoder lstm 1\n",
    "        encoder_lstm1 = LSTM(\n",
    "            latent_dim,\n",
    "            return_sequences=True,\n",
    "            return_state=True,\n",
    "            dropout=0.4,\n",
    "            recurrent_dropout=0.4\n",
    "        )\n",
    "        encoder_output1, state_h1, state_c1 = encoder_lstm1(encoder_embedding)\n",
    "\n",
    "        # encoder lstm 2\n",
    "        encoder_lstm2 = LSTM(\n",
    "            latent_dim,\n",
    "            return_sequences=True,\n",
    "            return_state=True,\n",
    "            dropout=0.4,\n",
    "            recurrent_dropout=0.4\n",
    "        )\n",
    "        encoder_output, *encoder_final_states = encoder_lstm2(encoder_output1)\n",
    "\n",
    "        # =====================\n",
    "        # Decoder\n",
    "        # =====================\n",
    "\n",
    "        # Set up the decoder, using `encoder_states` as initial state.\n",
    "\n",
    "        decoder_input = Input(shape=(None, ))\n",
    "\n",
    "        # decoder embedding layer\n",
    "        decoder_embedding_layer = Embedding(\n",
    "            y_vocab_size,\n",
    "            embedding_dim,\n",
    "            embeddings_initializer=tf.keras.initializers.Constant(y_embedding_matrix),\n",
    "            trainable=True\n",
    "        )\n",
    "        decoder_embedding = decoder_embedding_layer(decoder_input)\n",
    "\n",
    "        # decoder lstm 1\n",
    "        decoder_lstm = LSTM(\n",
    "            latent_dim,\n",
    "            return_sequences=True,\n",
    "            return_state=True,\n",
    "            dropout=0.4,\n",
    "            recurrent_dropout=0.4\n",
    "        )\n",
    "        decoder_output, *decoder_final_states = decoder_lstm(\n",
    "            decoder_embedding, initial_state=encoder_final_states\n",
    "        )\n",
    "\n",
    "        # dense layer\n",
    "        decoder_dense = TimeDistributed(\n",
    "            Dense(y_vocab_size, activation='softmax')\n",
    "        )\n",
    "        decoder_output = decoder_dense(decoder_output)\n",
    "\n",
    "        # =====================\n",
    "        # Model\n",
    "        # =====================\n",
    "        model = Model([encoder_input, decoder_input], decoder_output)\n",
    "        model.summary()\n",
    "\n",
    "        optimizer = tf.keras.optimizers.RMSprop(learning_rate=0.001)\n",
    "        model.compile(\n",
    "            optimizer=optimizer,\n",
    "            loss='sparse_categorical_crossentropy',\n",
    "            metrics=['accuracy']\n",
    "        )\n",
    "\n",
    "        return {\n",
    "            'model': model,\n",
    "            'inputs': {\n",
    "                'encoder': encoder_input,\n",
    "                'decoder': decoder_input\n",
    "            },\n",
    "            'outputs': {\n",
    "                'encoder': encoder_output,\n",
    "                'decoder': decoder_output\n",
    "            },\n",
    "            'states': {\n",
    "                'encoder': encoder_final_states,\n",
    "                'decoder': decoder_final_states\n",
    "            },\n",
    "            'layers': {\n",
    "                'decoder': {\n",
    "                    'embedding': decoder_embedding_layer,\n",
    "                    'last_decoder_lstm': decoder_lstm,\n",
    "                    'dense': decoder_dense\n",
    "                }\n",
    "            }\n",
    "        }"
   ]
  },
  {
   "cell_type": "code",
   "execution_count": 42,
   "id": "647d6d46",
   "metadata": {
    "execution": {
     "iopub.execute_input": "2022-05-13T09:01:02.082827Z",
     "iopub.status.busy": "2022-05-13T09:01:02.082336Z",
     "iopub.status.idle": "2022-05-13T09:01:02.090406Z",
     "shell.execute_reply": "2022-05-13T09:01:02.089419Z"
    },
    "papermill": {
     "duration": 0.149455,
     "end_time": "2022-05-13T09:01:02.092747",
     "exception": false,
     "start_time": "2022-05-13T09:01:01.943292",
     "status": "completed"
    },
    "tags": []
   },
   "outputs": [],
   "source": [
    "def build_seq2seq_model_with_just_lstm_inference(\n",
    "    max_text_len, latent_dim, encoder_input, encoder_output,\n",
    "    encoder_final_states, decoder_input, decoder_output,\n",
    "    decoder_embedding_layer, decoder_dense, last_decoder_lstm\n",
    "):\n",
    "    # Encode the input sequence to get the feature vector\n",
    "    encoder_model = Model(\n",
    "        inputs=encoder_input, outputs=[encoder_output] + encoder_final_states\n",
    "    )\n",
    "\n",
    "    # Decoder setup\n",
    "    # Below tensors will hold the states of the previous time step\n",
    "    decoder_state_input_h = Input(shape=(latent_dim, ))\n",
    "    decoder_state_input_c = Input(shape=(latent_dim, ))\n",
    "    decoder_hidden_state_input = Input(shape=(max_text_len, latent_dim))\n",
    "\n",
    "    # Get the embeddings of the decoder sequence\n",
    "    decoder_embedding = decoder_embedding_layer(decoder_input)\n",
    "\n",
    "    # To predict the next word in the sequence, set the initial\n",
    "    # states to the states from the previous time step\n",
    "    decoder_output, *decoder_states = last_decoder_lstm(\n",
    "        decoder_embedding,\n",
    "        initial_state=[decoder_state_input_h, decoder_state_input_c]\n",
    "    )\n",
    "\n",
    "    # A dense softmax layer to generate prob dist. over the target vocabulary\n",
    "    decoder_output = decoder_dense(decoder_output)\n",
    "\n",
    "    # Final decoder model\n",
    "    decoder_model = Model(\n",
    "        [decoder_input] + [decoder_hidden_state_input, decoder_state_input_h, decoder_state_input_c], \n",
    "        [decoder_output] + decoder_states\n",
    "    )\n",
    "\n",
    "    return (encoder_model, decoder_model)"
   ]
  },
  {
   "cell_type": "code",
   "execution_count": 43,
   "id": "14ef63c7",
   "metadata": {
    "execution": {
     "iopub.execute_input": "2022-05-13T09:01:02.367871Z",
     "iopub.status.busy": "2022-05-13T09:01:02.367299Z",
     "iopub.status.idle": "2022-05-13T09:01:02.375978Z",
     "shell.execute_reply": "2022-05-13T09:01:02.375274Z"
    },
    "papermill": {
     "duration": 0.148484,
     "end_time": "2022-05-13T09:01:02.378085",
     "exception": false,
     "start_time": "2022-05-13T09:01:02.229601",
     "status": "completed"
    },
    "tags": []
   },
   "outputs": [],
   "source": [
    "def decode_sequence_seq2seq_model_with_just_lstm(\n",
    "    input_sequence, encoder_model, decoder_model\n",
    "):\n",
    "    # Encode the input as state vectors.\n",
    "    e_out, e_h, e_c = encoder_model.predict(input_sequence)\n",
    "\n",
    "    # Generate empty target sequence of length 1.\n",
    "    target_seq = np.zeros((1, 1))\n",
    "\n",
    "    # Populate the first word of target sequence with the start word.\n",
    "    target_seq[0, 0] = target_word_index[start_token]\n",
    "\n",
    "    stop_condition = False\n",
    "    decoded_sentence = ''\n",
    "\n",
    "    while not stop_condition:\n",
    "        output_tokens, h, c = decoder_model.predict(\n",
    "            [target_seq] + [e_out, e_h, e_c]\n",
    "        )\n",
    "\n",
    "        # Sample a token\n",
    "        sampled_token_index = np.argmax(output_tokens[0, -1, :])\n",
    "        sampled_token = reverse_target_word_index[sampled_token_index]\n",
    "\n",
    "        if sampled_token != end_token:\n",
    "            decoded_sentence += ' ' + sampled_token\n",
    "\n",
    "        # Exit condition: either hit max length or find stop word.\n",
    "        if (sampled_token == end_token) or (len(decoded_sentence.split()) >= (max_summary_len - 1)):\n",
    "            stop_condition = True\n",
    "\n",
    "        # Update the target sequence (of length 1).\n",
    "        target_seq = np.zeros((1, 1))\n",
    "        target_seq[0, 0] = sampled_token_index\n",
    "\n",
    "        # Update internal states\n",
    "        e_h, e_c = h, c\n",
    "\n",
    "    return decoded_sentence"
   ]
  },
  {
   "cell_type": "markdown",
   "id": "8254d599",
   "metadata": {
    "papermill": {
     "duration": 0.142606,
     "end_time": "2022-05-13T09:01:02.658283",
     "exception": false,
     "start_time": "2022-05-13T09:01:02.515677",
     "status": "completed"
    },
    "tags": []
   },
   "source": [
    "# **Running Model**"
   ]
  },
  {
   "cell_type": "code",
   "execution_count": 44,
   "id": "2ac40fa4",
   "metadata": {
    "execution": {
     "iopub.execute_input": "2022-05-13T09:01:02.940021Z",
     "iopub.status.busy": "2022-05-13T09:01:02.939479Z",
     "iopub.status.idle": "2022-05-13T09:01:02.944603Z",
     "shell.execute_reply": "2022-05-13T09:01:02.943963Z"
    },
    "papermill": {
     "duration": 0.148475,
     "end_time": "2022-05-13T09:01:02.946708",
     "exception": false,
     "start_time": "2022-05-13T09:01:02.798233",
     "status": "completed"
    },
    "tags": []
   },
   "outputs": [],
   "source": [
    "def display_training_curves(training, validation, title, subplot):\n",
    "    ax = plt.subplot(subplot)\n",
    "    ax.plot(training)\n",
    "    ax.plot(validation)\n",
    "    ax.set_title('Model '+ title)\n",
    "    ax.set_ylabel(title)\n",
    "    ax.set_xlabel('epoch')\n",
    "    ax.legend(['training', 'validation'])"
   ]
  },
  {
   "cell_type": "code",
   "execution_count": 45,
   "id": "163e4fc4",
   "metadata": {
    "execution": {
     "iopub.execute_input": "2022-05-13T09:01:03.224942Z",
     "iopub.status.busy": "2022-05-13T09:01:03.224383Z",
     "iopub.status.idle": "2022-05-13T09:01:03.229387Z",
     "shell.execute_reply": "2022-05-13T09:01:03.228690Z"
    },
    "papermill": {
     "duration": 0.144937,
     "end_time": "2022-05-13T09:01:03.231514",
     "exception": false,
     "start_time": "2022-05-13T09:01:03.086577",
     "status": "completed"
    },
    "tags": []
   },
   "outputs": [],
   "source": [
    "def seq2summary(input_sequence):\n",
    "    new_string = ''\n",
    "    for i in input_sequence:\n",
    "        if (\n",
    "            (i != 0 and i != target_word_index[start_token]) and\n",
    "            (i != target_word_index[end_token])\n",
    "        ):\n",
    "            new_string = new_string + reverse_target_word_index[i] + ' '\n",
    "    return new_string"
   ]
  },
  {
   "cell_type": "code",
   "execution_count": 46,
   "id": "79e6e560",
   "metadata": {
    "execution": {
     "iopub.execute_input": "2022-05-13T09:01:03.515173Z",
     "iopub.status.busy": "2022-05-13T09:01:03.514576Z",
     "iopub.status.idle": "2022-05-13T09:01:03.519434Z",
     "shell.execute_reply": "2022-05-13T09:01:03.518731Z"
    },
    "papermill": {
     "duration": 0.147983,
     "end_time": "2022-05-13T09:01:03.521728",
     "exception": false,
     "start_time": "2022-05-13T09:01:03.373745",
     "status": "completed"
    },
    "tags": []
   },
   "outputs": [],
   "source": [
    "def seq2text(input_sequence):\n",
    "    new_string = ''\n",
    "    for i in input_sequence:\n",
    "        if i != 0:\n",
    "            new_string = new_string + reverse_source_word_index[i] + ' '\n",
    "    return new_string"
   ]
  },
  {
   "cell_type": "code",
   "execution_count": 47,
   "id": "773d1b06",
   "metadata": {
    "execution": {
     "iopub.execute_input": "2022-05-13T09:01:03.806635Z",
     "iopub.status.busy": "2022-05-13T09:01:03.806042Z",
     "iopub.status.idle": "2022-05-13T09:01:03.813768Z",
     "shell.execute_reply": "2022-05-13T09:01:03.812822Z"
    },
    "papermill": {
     "duration": 0.154024,
     "end_time": "2022-05-13T09:01:03.816196",
     "exception": false,
     "start_time": "2022-05-13T09:01:03.662172",
     "status": "completed"
    },
    "tags": []
   },
   "outputs": [],
   "source": [
    "def seq2highlights(input_seq):\n",
    "    newString=''\n",
    "    for i in input_seq:\n",
    "        if((i!=0 and i!=target_word_index['start']) and i!=target_word_index['end']):\n",
    "            newString=newString+reverse_target_word_index[i]+' '\n",
    "    return newString"
   ]
  },
  {
   "cell_type": "code",
   "execution_count": 48,
   "id": "f821eec8",
   "metadata": {
    "execution": {
     "iopub.execute_input": "2022-05-13T09:01:04.101130Z",
     "iopub.status.busy": "2022-05-13T09:01:04.100704Z",
     "iopub.status.idle": "2022-05-13T09:01:04.103956Z",
     "shell.execute_reply": "2022-05-13T09:01:04.103368Z"
    },
    "papermill": {
     "duration": 0.145825,
     "end_time": "2022-05-13T09:01:04.105762",
     "exception": false,
     "start_time": "2022-05-13T09:01:03.959937",
     "status": "completed"
    },
    "tags": []
   },
   "outputs": [],
   "source": [
    "model_func = build_seq2seq_model_with_just_lstm\n",
    "inference_func = build_seq2seq_model_with_just_lstm_inference\n",
    "decode_sequence_func = decode_sequence_seq2seq_model_with_just_lstm"
   ]
  },
  {
   "cell_type": "code",
   "execution_count": 49,
   "id": "3492af88",
   "metadata": {
    "execution": {
     "iopub.execute_input": "2022-05-13T09:01:04.383913Z",
     "iopub.status.busy": "2022-05-13T09:01:04.383409Z",
     "iopub.status.idle": "2022-05-13T09:01:05.459018Z",
     "shell.execute_reply": "2022-05-13T09:01:05.458106Z"
    },
    "papermill": {
     "duration": 1.217344,
     "end_time": "2022-05-13T09:01:05.461643",
     "exception": false,
     "start_time": "2022-05-13T09:01:04.244299",
     "status": "completed"
    },
    "tags": []
   },
   "outputs": [
    {
     "name": "stderr",
     "output_type": "stream",
     "text": [
      "2022-05-13 09:01:04.439517: I tensorflow/core/common_runtime/process_util.cc:146] Creating new thread pool with default inter op setting: 2. Tune using inter_op_parallelism_threads for best performance.\n"
     ]
    },
    {
     "name": "stdout",
     "output_type": "stream",
     "text": [
      "Model: \"model\"\n",
      "__________________________________________________________________________________________________\n",
      "Layer (type)                    Output Shape         Param #     Connected to                     \n",
      "==================================================================================================\n",
      "input_1 (InputLayer)            [(None, 300)]        0                                            \n",
      "__________________________________________________________________________________________________\n",
      "embedding (Embedding)           (None, 300, 300)     9069300     input_1[0][0]                    \n",
      "__________________________________________________________________________________________________\n",
      "input_2 (InputLayer)            [(None, None)]       0                                            \n",
      "__________________________________________________________________________________________________\n",
      "lstm (LSTM)                     [(None, 300, 240), ( 519360      embedding[0][0]                  \n",
      "__________________________________________________________________________________________________\n",
      "embedding_1 (Embedding)         (None, None, 300)    2929200     input_2[0][0]                    \n",
      "__________________________________________________________________________________________________\n",
      "lstm_1 (LSTM)                   [(None, 300, 240), ( 461760      lstm[0][0]                       \n",
      "__________________________________________________________________________________________________\n",
      "lstm_2 (LSTM)                   [(None, None, 240),  519360      embedding_1[0][0]                \n",
      "                                                                 lstm_1[0][1]                     \n",
      "                                                                 lstm_1[0][2]                     \n",
      "__________________________________________________________________________________________________\n",
      "time_distributed (TimeDistribut (None, None, 9764)   2353124     lstm_2[0][0]                     \n",
      "==================================================================================================\n",
      "Total params: 15,852,104\n",
      "Trainable params: 6,782,804\n",
      "Non-trainable params: 9,069,300\n",
      "__________________________________________________________________________________________________\n",
      "Model: \"model\"\n",
      "__________________________________________________________________________________________________\n",
      "Layer (type)                    Output Shape         Param #     Connected to                     \n",
      "==================================================================================================\n",
      "input_1 (InputLayer)            [(None, 300)]        0                                            \n",
      "__________________________________________________________________________________________________\n",
      "embedding (Embedding)           (None, 300, 300)     9069300     input_1[0][0]                    \n",
      "__________________________________________________________________________________________________\n",
      "input_2 (InputLayer)            [(None, None)]       0                                            \n",
      "__________________________________________________________________________________________________\n",
      "lstm (LSTM)                     [(None, 300, 240), ( 519360      embedding[0][0]                  \n",
      "__________________________________________________________________________________________________\n",
      "embedding_1 (Embedding)         (None, None, 300)    2929200     input_2[0][0]                    \n",
      "__________________________________________________________________________________________________\n",
      "lstm_1 (LSTM)                   [(None, 300, 240), ( 461760      lstm[0][0]                       \n",
      "__________________________________________________________________________________________________\n",
      "lstm_2 (LSTM)                   [(None, None, 240),  519360      embedding_1[0][0]                \n",
      "                                                                 lstm_1[0][1]                     \n",
      "                                                                 lstm_1[0][2]                     \n",
      "__________________________________________________________________________________________________\n",
      "time_distributed (TimeDistribut (None, None, 9764)   2353124     lstm_2[0][0]                     \n",
      "==================================================================================================\n",
      "Total params: 15,852,104\n",
      "Trainable params: 6,782,804\n",
      "Non-trainable params: 9,069,300\n",
      "__________________________________________________________________________________________________\n"
     ]
    }
   ],
   "source": [
    "seq2seq = model_func(\n",
    "    embedding_dim, latent_dim, max_text_len, \n",
    "    x_vocab_size, y_vocab_size,\n",
    "    x_embedding_matrix, y_embedding_matrix\n",
    ")\n",
    "\n",
    "model = seq2seq['model']\n",
    "\n",
    "encoder_input = seq2seq['inputs']['encoder']\n",
    "decoder_input = seq2seq['inputs']['decoder']\n",
    "\n",
    "encoder_output = seq2seq['outputs']['encoder']\n",
    "decoder_output = seq2seq['outputs']['decoder']\n",
    "\n",
    "encoder_final_states = seq2seq['states']['encoder']\n",
    "decoder_final_states = seq2seq['states']['decoder']\n",
    "\n",
    "decoder_embedding_layer = seq2seq['layers']['decoder']['embedding']\n",
    "last_decoder_lstm = seq2seq['layers']['decoder']['last_decoder_lstm']\n",
    "decoder_dense = seq2seq['layers']['decoder']['dense']\n",
    "\n",
    "model.summary()"
   ]
  },
  {
   "cell_type": "code",
   "execution_count": 50,
   "id": "7643bd7b",
   "metadata": {
    "execution": {
     "iopub.execute_input": "2022-05-13T09:01:05.740533Z",
     "iopub.status.busy": "2022-05-13T09:01:05.739920Z",
     "iopub.status.idle": "2022-05-13T09:01:05.744611Z",
     "shell.execute_reply": "2022-05-13T09:01:05.743925Z"
    },
    "papermill": {
     "duration": 0.145957,
     "end_time": "2022-05-13T09:01:05.746479",
     "exception": false,
     "start_time": "2022-05-13T09:01:05.600522",
     "status": "completed"
    },
    "tags": []
   },
   "outputs": [],
   "source": [
    "callbacks = [\n",
    "    EarlyStopping(monitor='val_loss', mode='min', verbose=1, patience=2),\n",
    "    ReduceLROnPlateau(monitor='val_loss', factor=0.1, patience=2, min_lr=0.000001, verbose=1),\n",
    "]"
   ]
  },
  {
   "cell_type": "code",
   "execution_count": 51,
   "id": "221fdb14",
   "metadata": {
    "execution": {
     "iopub.execute_input": "2022-05-13T09:01:06.028438Z",
     "iopub.status.busy": "2022-05-13T09:01:06.027956Z",
     "iopub.status.idle": "2022-05-13T12:41:18.471129Z",
     "shell.execute_reply": "2022-05-13T12:41:18.469200Z"
    },
    "papermill": {
     "duration": 13213.275802,
     "end_time": "2022-05-13T12:41:19.161395",
     "exception": false,
     "start_time": "2022-05-13T09:01:05.885593",
     "status": "completed"
    },
    "tags": []
   },
   "outputs": [
    {
     "name": "stderr",
     "output_type": "stream",
     "text": [
      "2022-05-13 09:01:06.111451: I tensorflow/compiler/mlir/mlir_graph_optimization_pass.cc:185] None of the MLIR Optimization Passes are enabled (registered 2)\n"
     ]
    },
    {
     "name": "stdout",
     "output_type": "stream",
     "text": [
      "Epoch 1/15\n",
      "98/98 [==============================] - 906s 9s/step - loss: 3.5483 - accuracy: 0.5500 - val_loss: 2.8761 - val_accuracy: 0.5862\n",
      "Epoch 2/15\n",
      "98/98 [==============================] - 878s 9s/step - loss: 2.8536 - accuracy: 0.5894 - val_loss: 2.6034 - val_accuracy: 0.6163\n",
      "Epoch 3/15\n",
      "98/98 [==============================] - 887s 9s/step - loss: 2.6201 - accuracy: 0.6119 - val_loss: 2.4279 - val_accuracy: 0.6320\n",
      "Epoch 4/15\n",
      "98/98 [==============================] - 883s 9s/step - loss: 2.4667 - accuracy: 0.6256 - val_loss: 2.3211 - val_accuracy: 0.6422\n",
      "Epoch 5/15\n",
      "98/98 [==============================] - 887s 9s/step - loss: 2.3604 - accuracy: 0.6348 - val_loss: 2.2446 - val_accuracy: 0.6488\n",
      "Epoch 6/15\n",
      "98/98 [==============================] - 879s 9s/step - loss: 2.2799 - accuracy: 0.6411 - val_loss: 2.1894 - val_accuracy: 0.6542\n",
      "Epoch 7/15\n",
      "98/98 [==============================] - 886s 9s/step - loss: 2.2173 - accuracy: 0.6465 - val_loss: 2.1478 - val_accuracy: 0.6577\n",
      "Epoch 8/15\n",
      "98/98 [==============================] - 880s 9s/step - loss: 2.1640 - accuracy: 0.6506 - val_loss: 2.1116 - val_accuracy: 0.6608\n",
      "Epoch 9/15\n",
      "98/98 [==============================] - 894s 9s/step - loss: 2.1186 - accuracy: 0.6546 - val_loss: 2.0812 - val_accuracy: 0.6637\n",
      "Epoch 10/15\n",
      "98/98 [==============================] - 879s 9s/step - loss: 2.0776 - accuracy: 0.6579 - val_loss: 2.0558 - val_accuracy: 0.6664\n",
      "Epoch 11/15\n",
      "98/98 [==============================] - 871s 9s/step - loss: 2.0414 - accuracy: 0.6606 - val_loss: 2.0319 - val_accuracy: 0.6688\n",
      "Epoch 12/15\n",
      "98/98 [==============================] - 863s 9s/step - loss: 2.0091 - accuracy: 0.6635 - val_loss: 2.0160 - val_accuracy: 0.6702\n",
      "Epoch 13/15\n",
      "98/98 [==============================] - 866s 9s/step - loss: 1.9788 - accuracy: 0.6660 - val_loss: 1.9986 - val_accuracy: 0.6721\n",
      "Epoch 14/15\n",
      "98/98 [==============================] - 873s 9s/step - loss: 1.9517 - accuracy: 0.6684 - val_loss: 1.9858 - val_accuracy: 0.6734\n",
      "Epoch 15/15\n",
      "98/98 [==============================] - 881s 9s/step - loss: 1.9277 - accuracy: 0.6705 - val_loss: 1.9748 - val_accuracy: 0.6748\n"
     ]
    }
   ],
   "source": [
    "history = model.fit(\n",
    "    [x_train_padded, y_train_padded[:, :-1]],\n",
    "    y_train_padded.reshape(y_train_padded.shape[0], y_train_padded.shape[1], 1)[:, 1:],\n",
    "    epochs=num_epochs,\n",
    "    batch_size=128, \n",
    "    callbacks=callbacks,\n",
    "    validation_data=(\n",
    "        [x_val_padded, y_val_padded[:, :-1]],\n",
    "        y_val_padded.reshape(y_val_padded.shape[0], y_val_padded.shape[1], 1)[:, 1:]\n",
    "    )\n",
    ")"
   ]
  },
  {
   "cell_type": "code",
   "execution_count": 52,
   "id": "2c97bd73",
   "metadata": {
    "execution": {
     "iopub.execute_input": "2022-05-13T12:41:20.585196Z",
     "iopub.status.busy": "2022-05-13T12:41:20.584777Z",
     "iopub.status.idle": "2022-05-13T12:41:21.177221Z",
     "shell.execute_reply": "2022-05-13T12:41:21.176153Z"
    },
    "papermill": {
     "duration": 1.314588,
     "end_time": "2022-05-13T12:41:21.180105",
     "exception": false,
     "start_time": "2022-05-13T12:41:19.865517",
     "status": "completed"
    },
    "tags": []
   },
   "outputs": [
    {
     "data": {
      "image/png": "[encoded data removed]",
      "text/plain": [
       "<Figure size 720x720 with 2 Axes>"
      ]
     },
     "metadata": {
      "needs_background": "light"
     },
     "output_type": "display_data"
    }
   ],
   "source": [
    "plt.subplots(figsize=(10,10))\n",
    "plt.tight_layout()\n",
    "display_training_curves(history.history['accuracy'], history.history['val_accuracy'], 'with just LSTMs Accuracy', 211)\n",
    "display_training_curves(history.history['loss'], history.history['val_loss'], 'with just LSTMs Loss', 212)"
   ]
  },
  {
   "cell_type": "code",
   "execution_count": 53,
   "id": "b3ebf400",
   "metadata": {
    "execution": {
     "iopub.execute_input": "2022-05-13T12:41:22.639244Z",
     "iopub.status.busy": "2022-05-13T12:41:22.638730Z",
     "iopub.status.idle": "2022-05-13T12:41:22.784593Z",
     "shell.execute_reply": "2022-05-13T12:41:22.783912Z"
    },
    "papermill": {
     "duration": 0.870803,
     "end_time": "2022-05-13T12:41:22.786914",
     "exception": false,
     "start_time": "2022-05-13T12:41:21.916111",
     "status": "completed"
    },
    "tags": []
   },
   "outputs": [],
   "source": [
    "# Inference\n",
    "encoder_model, decoder_model = inference_func(\n",
    "    max_text_len, latent_dim, encoder_input, encoder_output,\n",
    "    encoder_final_states, decoder_input, decoder_output,\n",
    "    decoder_embedding_layer, decoder_dense, last_decoder_lstm\n",
    ")"
   ]
  },
  {
   "cell_type": "code",
   "execution_count": 54,
   "id": "6a9488c5",
   "metadata": {
    "execution": {
     "iopub.execute_input": "2022-05-13T12:41:24.271257Z",
     "iopub.status.busy": "2022-05-13T12:41:24.270298Z",
     "iopub.status.idle": "2022-05-13T12:46:04.961744Z",
     "shell.execute_reply": "2022-05-13T12:46:04.960821Z"
    },
    "papermill": {
     "duration": 281.435426,
     "end_time": "2022-05-13T12:46:04.964753",
     "exception": false,
     "start_time": "2022-05-13T12:41:23.529327",
     "status": "completed"
    },
    "tags": []
   },
   "outputs": [
    {
     "name": "stdout",
     "output_type": "stream",
     "text": [
      "Original summary:  start hà nội không chỉ đón chào gần phóng viên quốc tế mà còn chứng kiến sự xuất hiện của một đội ngũ người săn tin mới các bác xe ôm end \n",
      "Predicted summary:   start một người đàn ông đã bị bắt giữ một con cá voi quý hiếm hoi khi đang chới với một con cá voi biển quý hiếm end\n",
      "\n",
      "Original summary:  start nhà lãnh đạo bắc hàn ông kim jongun đã gửi một thông điệp cá nhân hiếm hoi chúc mừng chủ tịch trung quốc tập cận bình end \n",
      "Predicted summary:   start tổng thống mỹ donald trump đã có quyết định xử phạt hành vi phạm quy định về việc làm việc tại việt nam end\n",
      "\n",
      "Original summary:  start tháng đầu năm campuchia xuất sang việt nam tấn xoài tươi chiếm tổng lượng xoài xuất khẩu của quốc gia này end \n",
      "Predicted summary:   start các nhà nghiên cứu phát triển khai thác nước ngoài nước ngoài khơi nước ngoài khơi nước ngoài khơi nước ngoài khơi nước ngoài khơi nước ngoài khơi nước ngoài khơi nước ngoài khơi nước ngoài khơi nước ngoài khơi nước ngoài khơi nước ngoài khơi nước ngoài khơi nước ngoài khơi nước ngoài khơi nước ngoài khơi\n",
      "\n",
      "Original summary:  start hai hoa hậu thế hệ gen là trần tiểu vy lương thuỳ linh cùng xuất hiện ấn tượng trên tạp chí vogue mỹ trong các thiết kế mới nhất của ntk công trí end \n",
      "Predicted summary:   start mỹ end\n",
      "\n",
      "Original summary:  start tây ninh end \n",
      "Predicted summary:   start một con cá voi quý hiếm được biết đã được phát hiện một loài rắn khổng lồ với các loài rắn quý hiếm hiếm hoi được biết là một loài rắn khổng lồ end\n",
      "\n",
      "Original summary:  start một hố sâu chứa đầy nước nóng bất ngờ xuất hiện bên ngoài một trung tâm thương mại vùng siberia thuộc nga đã nuốt chửng hai chiếc xe hơi đậu phía trên end \n",
      "Predicted summary:   start một người đàn ông đã bị bắt giữ một con cá voi quý hiếm hoi khi đang chới với một con cá voi biển quý hiếm end\n",
      "\n",
      "Original summary:  start giá vàng sjc sáng nay chỉ giảm đồng một lượng dù thị trường kim loại quý thế giới đêm qua biến động mạnh end \n",
      "Predicted summary:   start giá vàng thế giới tăng vọt lên usdounce trong khi đó giá vàng thế giới tăng nhẹ lên usdounce trong khi đó giá vàng thế giới tăng nhẹ end\n",
      "\n",
      "Original summary:  start võ sĩ nghiệp dư người brazil lucas gabriel peres đã qua đời trong bệnh viện chỉ hai tuần sau khi bị knockout trong trận đấu ngày thuộc sự kiện của mỹ end \n",
      "Predicted summary:   start võ sĩ người mẫu xe tải chở khách sạn đã bị gãy chân chân ngã xuống sàn đấu giữa hai võ sĩ mma võ sĩ mma đã bị gãy chân chân end\n",
      "\n",
      "Original summary:  start mong muốn có một không gian xanh để gia đình nghỉ dưỡng cũng như giúp các con được trải nghiệm cuộc sống làng quê bình dị anh hiếu về đồng nai mua đất tự tay cải tạo thành khu nhà vườn đẹp mê end \n",
      "Predicted summary:   start mỹ end\n",
      "\n",
      "Original summary:  start đây là ảnh chụp kim jongnam khi còn nhỏ ông là anh trai của lãnh đạo bắc hàn kim jongun end \n",
      "Predicted summary:   start một người đàn ông đã bị bắt giữ một người đàn ông bị thương trong vụ nổ súng bắn chết end\n",
      "\n",
      "Original summary:  start ngân hàng trung ương nga tăng lãi suất chính lên để chống lạm phát end \n",
      "Predicted summary:   start các nhà đầu tư nước ngoài bán lẻ cổ phiếu của ngân hàng trung quốc đã tăng mạnh nhất trong tháng end\n",
      "\n",
      "Original summary:  start ngày cơ quan cảnh sát điều tra công an huyện ứng hoà hà nội đã tạm giữ hình sự đối tượng trịnh thị hằng sn trú tại xã hoà nam huyện ứng hoà để điều tra hành vi trộm cắp tài sản end \n",
      "Predicted summary:   start sau khi bị bắt giữ đối tượng đã dùng dao đâm chết người đàn ông bị thương tích end\n",
      "\n",
      "Original summary:  start sáng sớm khi đi thể dục một số người dân huyện đắk mil tỉnh đắk nông phát hiện thi thể một người đàn ông nằm giữa đường nghi do bị xe tô tông end \n",
      "Predicted summary:   start sau khi bị bắt giữ một người đàn ông bị thương tích khi bị bắt giữ đối tượng dùng dao đâm chết người đàn ông tử vong end\n",
      "\n",
      "Original summary:  start nhạc sĩ anh bằng đã qua đời tối ngày tại nhà riêng nam california hoa kỳ end \n",
      "Predicted summary:   start tp hcm end\n",
      "\n",
      "Original summary:  start tính liên kết của hệ thống ống dẫn nhiên liệu trên xe bentley bentayga đã bị nghi ngờ có lỗi từ năm end \n",
      "Predicted summary:   start một số tiền số tiền giang đã có thể hiện hành vi mua bán dâm tại việt nam đã được bán ra tại thị trường end\n",
      "\n"
     ]
    }
   ],
   "source": [
    "reference = []\n",
    "hypothesis = []\n",
    "# Testing on training data\n",
    "for i in range(0, 15):\n",
    "    print(\"Original summary: \", seq2summary(y_train_padded[i]))\n",
    "    print(\n",
    "        \"Predicted summary: \",\n",
    "        decode_sequence_seq2seq_model_with_just_lstm(\n",
    "            x_train_padded[i].reshape(1, max_text_len), encoder_model,\n",
    "            decoder_model\n",
    "        )\n",
    "    )\n",
    "    print()\n",
    "\n",
    "for i in range(0, 100):\n",
    "    reference.append(seq2summary(y_train_padded[i]))\n",
    "    hypothesis.append(decode_sequence_seq2seq_model_with_just_lstm(x_train_padded[i].reshape(1, max_text_len), encoder_model,decoder_model))"
   ]
  },
  {
   "cell_type": "markdown",
   "id": "f3f010ca",
   "metadata": {
    "papermill": {
     "duration": 0.700593,
     "end_time": "2022-05-13T12:46:06.364047",
     "exception": false,
     "start_time": "2022-05-13T12:46:05.663454",
     "status": "completed"
    },
    "tags": []
   },
   "source": [
    "# Calculating Rouge Scores"
   ]
  },
  {
   "cell_type": "code",
   "execution_count": 55,
   "id": "2207e4e8",
   "metadata": {
    "execution": {
     "iopub.execute_input": "2022-05-13T12:46:07.788597Z",
     "iopub.status.busy": "2022-05-13T12:46:07.788068Z",
     "iopub.status.idle": "2022-05-13T12:46:21.616213Z",
     "shell.execute_reply": "2022-05-13T12:46:21.615022Z"
    },
    "papermill": {
     "duration": 14.556603,
     "end_time": "2022-05-13T12:46:21.620301",
     "exception": false,
     "start_time": "2022-05-13T12:46:07.063698",
     "status": "completed"
    },
    "tags": []
   },
   "outputs": [
    {
     "name": "stdout",
     "output_type": "stream",
     "text": [
      "Collecting rouge\r\n",
      "  Downloading rouge-1.0.1-py3-none-any.whl (13 kB)\r\n",
      "Requirement already satisfied: six in /opt/conda/lib/python3.7/site-packages (from rouge) (1.16.0)\r\n",
      "Installing collected packages: rouge\r\n",
      "Successfully installed rouge-1.0.1\r\n",
      "\u001b[33mWARNING: Running pip as the 'root' user can result in broken permissions and conflicting behaviour with the system package manager. It is recommended to use a virtual environment instead: https://pip.pypa.io/warnings/venv\u001b[0m\u001b[33m\r\n",
      "\u001b[0m"
     ]
    }
   ],
   "source": [
    "! pip install rouge"
   ]
  },
  {
   "cell_type": "code",
   "execution_count": 56,
   "id": "c27b95fc",
   "metadata": {
    "execution": {
     "iopub.execute_input": "2022-05-13T12:46:23.054148Z",
     "iopub.status.busy": "2022-05-13T12:46:23.053843Z",
     "iopub.status.idle": "2022-05-13T12:46:23.068099Z",
     "shell.execute_reply": "2022-05-13T12:46:23.067382Z"
    },
    "papermill": {
     "duration": 0.720382,
     "end_time": "2022-05-13T12:46:23.070495",
     "exception": false,
     "start_time": "2022-05-13T12:46:22.350113",
     "status": "completed"
    },
    "tags": []
   },
   "outputs": [],
   "source": [
    "from rouge import Rouge"
   ]
  },
  {
   "cell_type": "code",
   "execution_count": 57,
   "id": "945aa798",
   "metadata": {
    "execution": {
     "iopub.execute_input": "2022-05-13T12:46:24.488769Z",
     "iopub.status.busy": "2022-05-13T12:46:24.487819Z",
     "iopub.status.idle": "2022-05-13T12:46:24.609132Z",
     "shell.execute_reply": "2022-05-13T12:46:24.608199Z"
    },
    "papermill": {
     "duration": 0.831185,
     "end_time": "2022-05-13T12:46:24.611366",
     "exception": false,
     "start_time": "2022-05-13T12:46:23.780181",
     "status": "completed"
    },
    "tags": []
   },
   "outputs": [
    {
     "data": {
      "text/plain": [
       "{'rouge-1': {'r': 0.18289051665490497,\n",
       "  'p': 0.30732711079860064,\n",
       "  'f': 0.20387932575348766},\n",
       " 'rouge-2': {'r': 0.03233100577189024,\n",
       "  'p': 0.04868511048585081,\n",
       "  'f': 0.03642072167369328},\n",
       " 'rouge-l': {'r': 0.175851516717744,\n",
       "  'p': 0.2962145584730451,\n",
       "  'f': 0.19541347374186252}}"
      ]
     },
     "execution_count": 57,
     "metadata": {},
     "output_type": "execute_result"
    }
   ],
   "source": [
    "score = Rouge()\n",
    "score.get_scores(hypothesis, reference, avg = True)"
   ]
  }
 ],
 "metadata": {
  "kernelspec": {
   "display_name": "Python 3",
   "language": "python",
   "name": "python3"
  },
  "language_info": {
   "codemirror_mode": {
    "name": "ipython",
    "version": 3
   },
   "file_extension": ".py",
   "mimetype": "text/x-python",
   "name": "python",
   "nbconvert_exporter": "python",
   "pygments_lexer": "ipython3",
   "version": "3.7.12"
  },
  "papermill": {
   "default_parameters": {},
   "duration": 14604.65977,
   "end_time": "2022-05-13T12:46:28.269244",
   "environment_variables": {},
   "exception": null,
   "input_path": "__notebook__.ipynb",
   "output_path": "__notebook__.ipynb",
   "parameters": {},
   "start_time": "2022-05-13T08:43:03.609474",
   "version": "2.3.4"
  }
 },
 "nbformat": 4,
 "nbformat_minor": 5
}
