{
 "cells": [
  {
   "cell_type": "code",
   "execution_count": 1,
   "id": "dc366c8b",
   "metadata": {
    "_cell_guid": "b1076dfc-b9ad-4769-8c92-a6c4dae69d19",
    "_uuid": "8f2839f25d086af736a60e9eeb907d3b93b6e0e5",
    "execution": {
     "iopub.execute_input": "2022-05-14T16:55:21.607416Z",
     "iopub.status.busy": "2022-05-14T16:55:21.606927Z",
     "iopub.status.idle": "2022-05-14T16:55:41.480393Z",
     "shell.execute_reply": "2022-05-14T16:55:41.479450Z"
    },
    "papermill": {
     "duration": 19.943952,
     "end_time": "2022-05-14T16:55:41.482743",
     "exception": false,
     "start_time": "2022-05-14T16:55:21.538791",
     "status": "completed"
    },
    "tags": []
   },
   "outputs": [],
   "source": [
    "%%capture\n",
    "# Install the vncorenlp python wrapper\n",
    "!pip install vncorenlp\n",
    "\n",
    "# Download VnCoreNLP-1.1.1.jar & its word segmentation component (i.e. RDRSegmenter) \n",
    "!mkdir -p vncorenlp/models/wordsegmenter\n",
    "!wget https://raw.githubusercontent.com/vncorenlp/VnCoreNLP/master/VnCoreNLP-1.1.1.jar\n",
    "!wget https://raw.githubusercontent.com/vncorenlp/VnCoreNLP/master/models/wordsegmenter/vi-vocab\n",
    "!wget https://raw.githubusercontent.com/vncorenlp/VnCoreNLP/master/models/wordsegmenter/wordsegmenter.rdr\n",
    "!mv VnCoreNLP-1.1.1.jar vncorenlp/ \n",
    "!mv vi-vocab vncorenlp/models/wordsegmenter/\n",
    "!mv wordsegmenter.rdr vncorenlp/models/wordsegmenter/"
   ]
  },
  {
   "cell_type": "code",
   "execution_count": 2,
   "id": "7ef62283",
   "metadata": {
    "execution": {
     "iopub.execute_input": "2022-05-14T16:55:41.579949Z",
     "iopub.status.busy": "2022-05-14T16:55:41.579706Z",
     "iopub.status.idle": "2022-05-14T16:55:51.489969Z",
     "shell.execute_reply": "2022-05-14T16:55:51.489100Z"
    },
    "papermill": {
     "duration": 9.967294,
     "end_time": "2022-05-14T16:55:51.492105",
     "exception": false,
     "start_time": "2022-05-14T16:55:41.524811",
     "status": "completed"
    },
    "tags": []
   },
   "outputs": [
    {
     "name": "stdout",
     "output_type": "stream",
     "text": [
      "\u001b[33mWARNING: Running pip as the 'root' user can result in broken permissions and conflicting behaviour with the system package manager. It is recommended to use a virtual environment instead: https://pip.pypa.io/warnings/venv\u001b[0m\u001b[33m\r\n",
      "\u001b[0m"
     ]
    }
   ],
   "source": [
    "!pip install openpyxl  --quiet"
   ]
  },
  {
   "cell_type": "code",
   "execution_count": 3,
   "id": "232574b5",
   "metadata": {
    "execution": {
     "iopub.execute_input": "2022-05-14T16:55:51.593897Z",
     "iopub.status.busy": "2022-05-14T16:55:51.593113Z",
     "iopub.status.idle": "2022-05-14T16:55:57.736118Z",
     "shell.execute_reply": "2022-05-14T16:55:57.735200Z"
    },
    "papermill": {
     "duration": 6.202258,
     "end_time": "2022-05-14T16:55:57.738765",
     "exception": false,
     "start_time": "2022-05-14T16:55:51.536507",
     "status": "completed"
    },
    "tags": []
   },
   "outputs": [],
   "source": [
    "import numpy as np\n",
    "import matplotlib.pyplot as plt\n",
    "import seaborn as sns\n",
    "import pandas as pd\n",
    "from collections import defaultdict\n",
    "import string\n",
    "import tensorflow as tf\n",
    "import re\n",
    "import os\n",
    "import time\n",
    "from tensorflow import keras\n",
    "from tensorflow.keras.layers import Dense, Input\n",
    "from tensorflow.keras.optimizers import Adam\n",
    "from tensorflow.keras.models import Model\n",
    "from tensorflow.keras.callbacks import ModelCheckpoint\n",
    "from sklearn.preprocessing import OneHotEncoder\n",
    "from sklearn.model_selection import train_test_split"
   ]
  },
  {
   "cell_type": "code",
   "execution_count": 4,
   "id": "371c22f5",
   "metadata": {
    "execution": {
     "iopub.execute_input": "2022-05-14T16:55:57.830215Z",
     "iopub.status.busy": "2022-05-14T16:55:57.829499Z",
     "iopub.status.idle": "2022-05-14T16:55:57.833723Z",
     "shell.execute_reply": "2022-05-14T16:55:57.833113Z"
    },
    "papermill": {
     "duration": 0.049479,
     "end_time": "2022-05-14T16:55:57.835277",
     "exception": false,
     "start_time": "2022-05-14T16:55:57.785798",
     "status": "completed"
    },
    "tags": []
   },
   "outputs": [],
   "source": [
    "ENCODER_LEN = 300\n",
    "DECODER_LEN = 60\n",
    "BATCH_SIZE = 64\n",
    "BUFFER_SIZE = BATCH_SIZE*8"
   ]
  },
  {
   "cell_type": "code",
   "execution_count": 5,
   "id": "34fdb75f",
   "metadata": {
    "execution": {
     "iopub.execute_input": "2022-05-14T16:55:57.920941Z",
     "iopub.status.busy": "2022-05-14T16:55:57.920734Z",
     "iopub.status.idle": "2022-05-14T16:56:10.587738Z",
     "shell.execute_reply": "2022-05-14T16:56:10.586606Z"
    },
    "papermill": {
     "duration": 12.713532,
     "end_time": "2022-05-14T16:56:10.591395",
     "exception": false,
     "start_time": "2022-05-14T16:55:57.877863",
     "status": "completed"
    },
    "tags": []
   },
   "outputs": [
    {
     "name": "stdout",
     "output_type": "stream",
     "text": [
      "Dataset size: 102681\n"
     ]
    },
    {
     "name": "stderr",
     "output_type": "stream",
     "text": [
      "/opt/conda/lib/python3.7/site-packages/ipykernel_launcher.py:2: FutureWarning: In a future version of pandas all arguments of DataFrame.drop except for the argument 'labels' will be keyword-only\n",
      "  \n"
     ]
    },
    {
     "data": {
      "text/html": [
       "<div>\n",
       "<style scoped>\n",
       "    .dataframe tbody tr th:only-of-type {\n",
       "        vertical-align: middle;\n",
       "    }\n",
       "\n",
       "    .dataframe tbody tr th {\n",
       "        vertical-align: top;\n",
       "    }\n",
       "\n",
       "    .dataframe thead th {\n",
       "        text-align: right;\n",
       "    }\n",
       "</style>\n",
       "<table border=\"1\" class=\"dataframe\">\n",
       "  <thead>\n",
       "    <tr style=\"text-align: right;\">\n",
       "      <th></th>\n",
       "      <th>Summary</th>\n",
       "      <th>Text</th>\n",
       "    </tr>\n",
       "  </thead>\n",
       "  <tbody>\n",
       "    <tr>\n",
       "      <th>0</th>\n",
       "      <td>Ngay khi bắt tay ai đó có thể chúng ta đã cảm ...</td>\n",
       "      <td>Tổng thống Mỹ Donald Trump và Tổng thống Pháp ...</td>\n",
       "    </tr>\n",
       "    <tr>\n",
       "      <th>1</th>\n",
       "      <td>Rời khỏi Việt Nam vào 10/2016, ông Vũ Đình Duy...</td>\n",
       "      <td>Vũ Đình Duy hồi tháng 5 xuất hiện trước tòa tạ...</td>\n",
       "    </tr>\n",
       "    <tr>\n",
       "      <th>2</th>\n",
       "      <td>Thủ tướng Iraq xác nhận với BBC rằng Syria khô...</td>\n",
       "      <td>Ông Maliki xác nhận các vụ không kích của Syri...</td>\n",
       "    </tr>\n",
       "    <tr>\n",
       "      <th>3</th>\n",
       "      <td>Người Việt Nam biết rất ít về ông Trump nhưng ...</td>\n",
       "      <td>Tiến sỹ Vũ Cao Phan tin rằng nếu được tiến hàn...</td>\n",
       "    </tr>\n",
       "    <tr>\n",
       "      <th>4</th>\n",
       "      <td>Bốn khoa học gia người Mỹ từng đoạt giải Nobel...</td>\n",
       "      <td>GS Jack Steinberger trao đổi với GS Lê Kim Ngọ...</td>\n",
       "    </tr>\n",
       "  </tbody>\n",
       "</table>\n",
       "</div>"
      ],
      "text/plain": [
       "                                             Summary  \\\n",
       "0  Ngay khi bắt tay ai đó có thể chúng ta đã cảm ...   \n",
       "1  Rời khỏi Việt Nam vào 10/2016, ông Vũ Đình Duy...   \n",
       "2  Thủ tướng Iraq xác nhận với BBC rằng Syria khô...   \n",
       "3  Người Việt Nam biết rất ít về ông Trump nhưng ...   \n",
       "4  Bốn khoa học gia người Mỹ từng đoạt giải Nobel...   \n",
       "\n",
       "                                                Text  \n",
       "0  Tổng thống Mỹ Donald Trump và Tổng thống Pháp ...  \n",
       "1  Vũ Đình Duy hồi tháng 5 xuất hiện trước tòa tạ...  \n",
       "2  Ông Maliki xác nhận các vụ không kích của Syri...  \n",
       "3  Tiến sỹ Vũ Cao Phan tin rằng nếu được tiến hàn...  \n",
       "4  GS Jack Steinberger trao đổi với GS Lê Kim Ngọ...  "
      ]
     },
     "execution_count": 5,
     "metadata": {},
     "output_type": "execute_result"
    }
   ],
   "source": [
    "filename = r\"../input/summary-vietnamese/data_summary.csv\"\n",
    "df = pd.read_csv(filename).drop('Unnamed: 0',1)\n",
    "print(f'Dataset size: {len(df)}')\n",
    "df.head(5)"
   ]
  },
  {
   "cell_type": "code",
   "execution_count": 6,
   "id": "f1ffdf61",
   "metadata": {
    "execution": {
     "iopub.execute_input": "2022-05-14T16:56:10.680191Z",
     "iopub.status.busy": "2022-05-14T16:56:10.679576Z",
     "iopub.status.idle": "2022-05-14T16:56:11.118536Z",
     "shell.execute_reply": "2022-05-14T16:56:11.117824Z"
    },
    "papermill": {
     "duration": 0.48538,
     "end_time": "2022-05-14T16:56:11.120667",
     "exception": false,
     "start_time": "2022-05-14T16:56:10.635287",
     "status": "completed"
    },
    "tags": []
   },
   "outputs": [
    {
     "name": "stdout",
     "output_type": "stream",
     "text": [
      "Dataset size: 96284\n"
     ]
    },
    {
     "data": {
      "text/html": [
       "<div>\n",
       "<style scoped>\n",
       "    .dataframe tbody tr th:only-of-type {\n",
       "        vertical-align: middle;\n",
       "    }\n",
       "\n",
       "    .dataframe tbody tr th {\n",
       "        vertical-align: top;\n",
       "    }\n",
       "\n",
       "    .dataframe thead th {\n",
       "        text-align: right;\n",
       "    }\n",
       "</style>\n",
       "<table border=\"1\" class=\"dataframe\">\n",
       "  <thead>\n",
       "    <tr style=\"text-align: right;\">\n",
       "      <th></th>\n",
       "      <th>Summary</th>\n",
       "      <th>Text</th>\n",
       "    </tr>\n",
       "  </thead>\n",
       "  <tbody>\n",
       "    <tr>\n",
       "      <th>0</th>\n",
       "      <td>Ngay khi bắt tay ai đó có thể chúng ta đã cảm ...</td>\n",
       "      <td>Tổng thống Mỹ Donald Trump và Tổng thống Pháp ...</td>\n",
       "    </tr>\n",
       "    <tr>\n",
       "      <th>1</th>\n",
       "      <td>Rời khỏi Việt Nam vào 10/2016, ông Vũ Đình Duy...</td>\n",
       "      <td>Vũ Đình Duy hồi tháng 5 xuất hiện trước tòa tạ...</td>\n",
       "    </tr>\n",
       "    <tr>\n",
       "      <th>2</th>\n",
       "      <td>Thủ tướng Iraq xác nhận với BBC rằng Syria khô...</td>\n",
       "      <td>Ông Maliki xác nhận các vụ không kích của Syri...</td>\n",
       "    </tr>\n",
       "    <tr>\n",
       "      <th>3</th>\n",
       "      <td>Người Việt Nam biết rất ít về ông Trump nhưng ...</td>\n",
       "      <td>Tiến sỹ Vũ Cao Phan tin rằng nếu được tiến hàn...</td>\n",
       "    </tr>\n",
       "    <tr>\n",
       "      <th>4</th>\n",
       "      <td>Bốn khoa học gia người Mỹ từng đoạt giải Nobel...</td>\n",
       "      <td>GS Jack Steinberger trao đổi với GS Lê Kim Ngọ...</td>\n",
       "    </tr>\n",
       "  </tbody>\n",
       "</table>\n",
       "</div>"
      ],
      "text/plain": [
       "                                             Summary  \\\n",
       "0  Ngay khi bắt tay ai đó có thể chúng ta đã cảm ...   \n",
       "1  Rời khỏi Việt Nam vào 10/2016, ông Vũ Đình Duy...   \n",
       "2  Thủ tướng Iraq xác nhận với BBC rằng Syria khô...   \n",
       "3  Người Việt Nam biết rất ít về ông Trump nhưng ...   \n",
       "4  Bốn khoa học gia người Mỹ từng đoạt giải Nobel...   \n",
       "\n",
       "                                                Text  \n",
       "0  Tổng thống Mỹ Donald Trump và Tổng thống Pháp ...  \n",
       "1  Vũ Đình Duy hồi tháng 5 xuất hiện trước tòa tạ...  \n",
       "2  Ông Maliki xác nhận các vụ không kích của Syri...  \n",
       "3  Tiến sỹ Vũ Cao Phan tin rằng nếu được tiến hàn...  \n",
       "4  GS Jack Steinberger trao đổi với GS Lê Kim Ngọ...  "
      ]
     },
     "execution_count": 6,
     "metadata": {},
     "output_type": "execute_result"
    }
   ],
   "source": [
    "'''Loại bỏ các giá trị trùng lặp và giá trị rỗng'''\n",
    "\n",
    "df.drop_duplicates(subset=['Text'],inplace=True) #dropping duplicates\n",
    "df.dropna(axis=0,inplace=True) #dropping na\n",
    "df = df.reset_index().drop('index', axis = 1)\n",
    "print(f'Dataset size: {len(df)}')\n",
    "df.head(5)"
   ]
  },
  {
   "cell_type": "markdown",
   "id": "bb8accc3",
   "metadata": {
    "papermill": {
     "duration": 0.043587,
     "end_time": "2022-05-14T16:56:11.208979",
     "exception": false,
     "start_time": "2022-05-14T16:56:11.165392",
     "status": "completed"
    },
    "tags": []
   },
   "source": [
    "# Data preparation"
   ]
  },
  {
   "cell_type": "code",
   "execution_count": 7,
   "id": "2923b5c0",
   "metadata": {
    "execution": {
     "iopub.execute_input": "2022-05-14T16:56:11.298413Z",
     "iopub.status.busy": "2022-05-14T16:56:11.298209Z",
     "iopub.status.idle": "2022-05-14T16:56:11.317798Z",
     "shell.execute_reply": "2022-05-14T16:56:11.317145Z"
    },
    "papermill": {
     "duration": 0.066336,
     "end_time": "2022-05-14T16:56:11.319406",
     "exception": false,
     "start_time": "2022-05-14T16:56:11.253070",
     "status": "completed"
    },
    "tags": []
   },
   "outputs": [],
   "source": [
    "def cleanWord(s):\n",
    "    miss = ['!','@','#','$','%','^','&','*','(',')','-','–','_','+','=','{','[','}',']','|',':',';','?','/','<','>','~','`','‘','’',',','()','“','\"', '...','”', '“”','\\\\', '>>', '>>>']\n",
    "    for i in miss:\n",
    "        s = s.replace(i,'')\n",
    "    return re.sub(r'\\'', '', s)\n",
    "\n",
    "def remove_link(string):\n",
    "    return re.sub(r'\\w+:\\/{2}[\\d\\w-]+(\\.[\\d\\w-]+)*(?:(?:\\/[^\\s/]*))*', '', string)\n",
    "\n",
    "def remove_extra_whitespace(string):\n",
    "    text = re.sub(r'\\s+', ' ', string).strip()\n",
    "    return text\n",
    "\n",
    "def lower_word(data):\n",
    "    return data.lower()\n",
    "\n",
    "# Remove numbers from text\n",
    "def rm_number_from_text(text):\n",
    "    text = re.sub('[0-9]+', '', text)\n",
    "    return ' '.join(text.split())  # to rm `extra` white space\n",
    "\n",
    "# Remove puncuation from word\n",
    "def rm_punc_from_word(word):\n",
    "    clean_alphabet_list = [alphabet for alphabet in word if alphabet not in string.punctuation]\n",
    "    return ''.join(clean_alphabet_list)\n",
    "\n",
    "# Remove puncuation from text\n",
    "def rm_punc_from_text(text):\n",
    "    clean_word_list = [rm_punc_from_word(word) for word in text]\n",
    "    return ''.join(clean_word_list)\n",
    "\n",
    "\n",
    "# Cleaning text\n",
    "def clean_text(text):\n",
    "    text = text.lower()\n",
    "    text = rm_number_from_text(text)\n",
    "    text = rm_punc_from_text(text)\n",
    "\n",
    "    # there are hyphen(–) in many titles, so replacing it with empty str\n",
    "    # this hyphen(–) is different from normal hyphen(-)\n",
    "    text = re.sub('–', '', text)\n",
    "    text = ' '.join(text.split())  # removing `extra` white spaces\n",
    "\n",
    "    # Removing unnecessary characters from text\n",
    "    text = re.sub(\"(\\\\t)\", ' ', str(text)).lower()\n",
    "    text = re.sub(\"(\\\\r)\", ' ', str(text)).lower()\n",
    "    text = re.sub(\"(\\\\n)\", ' ', str(text)).lower()\n",
    "\n",
    "    text = re.sub(\"(__+)\", ' ', str(text)).lower()\n",
    "    text = re.sub(\"(--+)\", ' ', str(text)).lower()\n",
    "    text = re.sub(\"(~~+)\", ' ', str(text)).lower()\n",
    "    text = re.sub(\"(\\+\\++)\", ' ', str(text)).lower()\n",
    "    text = re.sub(\"(\\.\\.+)\", ' ', str(text)).lower()\n",
    "\n",
    "    text = re.sub(r\"[<>()|&©ø\\[\\]\\'\\\",;?~*!]\", ' ', str(text)).lower()\n",
    "\n",
    "    text = re.sub(\"(mailto:)\", ' ', str(text)).lower()\n",
    "    text = re.sub(r\"(\\\\x9\\d)\", ' ', str(text)).lower()\n",
    "    text = re.sub(\"([iI][nN][cC]\\d+)\", 'INC_NUM', str(text)).lower()\n",
    "    text = re.sub(\"([cC][mM]\\d+)|([cC][hH][gG]\\d+)\", 'CM_NUM',str(text)).lower()\n",
    "\n",
    "    text = re.sub(\"(\\.\\s+)\", ' ', str(text)).lower()\n",
    "    text = re.sub(\"(\\-\\s+)\", ' ', str(text)).lower()\n",
    "    text = re.sub(\"(\\:\\s+)\", ' ', str(text)).lower()\n",
    "    text = re.sub(\"(\\s+.\\s+)\", ' ', str(text)).lower()\n",
    "\n",
    "    try:\n",
    "        url = re.search(r'((https*:\\/*)([^\\/\\s]+))(.[^\\s]+)', str(text))\n",
    "        repl_url = url.group(3)\n",
    "        text = re.sub(r'((https*:\\/*)([^\\/\\s]+))(.[^\\s]+)', repl_url, str(text))\n",
    "    except Exception as e:\n",
    "        pass\n",
    "\n",
    "    text = re.sub(\"(\\s+)\", ' ', str(text)).lower()\n",
    "    text = re.sub(\"(\\s+.\\s+)\", ' ', str(text)).lower()\n",
    "\n",
    "    return text\n",
    "\n",
    "def solve(string):\n",
    "    func = [lower_word, remove_link, remove_extra_whitespace, cleanWord, clean_text]\n",
    "    for i in func:\n",
    "        string = i(string)\n",
    "    return string"
   ]
  },
  {
   "cell_type": "code",
   "execution_count": 8,
   "id": "e3066234",
   "metadata": {
    "execution": {
     "iopub.execute_input": "2022-05-14T16:56:11.416604Z",
     "iopub.status.busy": "2022-05-14T16:56:11.416091Z",
     "iopub.status.idle": "2022-05-14T17:03:57.905830Z",
     "shell.execute_reply": "2022-05-14T17:03:57.905106Z"
    },
    "papermill": {
     "duration": 466.586149,
     "end_time": "2022-05-14T17:03:57.949676",
     "exception": false,
     "start_time": "2022-05-14T16:56:11.363527",
     "status": "completed"
    },
    "tags": []
   },
   "outputs": [
    {
     "data": {
      "text/html": [
       "<div>\n",
       "<style scoped>\n",
       "    .dataframe tbody tr th:only-of-type {\n",
       "        vertical-align: middle;\n",
       "    }\n",
       "\n",
       "    .dataframe tbody tr th {\n",
       "        vertical-align: top;\n",
       "    }\n",
       "\n",
       "    .dataframe thead th {\n",
       "        text-align: right;\n",
       "    }\n",
       "</style>\n",
       "<table border=\"1\" class=\"dataframe\">\n",
       "  <thead>\n",
       "    <tr style=\"text-align: right;\">\n",
       "      <th></th>\n",
       "      <th>Summary</th>\n",
       "      <th>Text</th>\n",
       "    </tr>\n",
       "  </thead>\n",
       "  <tbody>\n",
       "    <tr>\n",
       "      <th>0</th>\n",
       "      <td>ngay khi bắt tay ai đó có thể chúng ta đã cảm ...</td>\n",
       "      <td>tổng thống mỹ donald trump và tổng thống pháp ...</td>\n",
       "    </tr>\n",
       "    <tr>\n",
       "      <th>1</th>\n",
       "      <td>rời khỏi việt nam vào ông vũ đình duy tới sống...</td>\n",
       "      <td>vũ đình duy hồi tháng xuất hiện trước tòa tại ...</td>\n",
       "    </tr>\n",
       "    <tr>\n",
       "      <th>2</th>\n",
       "      <td>thủ tướng iraq xác nhận với bbc rằng syria khô...</td>\n",
       "      <td>ông maliki xác nhận các vụ không kích của syri...</td>\n",
       "    </tr>\n",
       "    <tr>\n",
       "      <th>3</th>\n",
       "      <td>người việt nam biết rất ít về ông trump nhưng ...</td>\n",
       "      <td>tiến sỹ vũ cao phan tin rằng nếu được tiến hàn...</td>\n",
       "    </tr>\n",
       "    <tr>\n",
       "      <th>4</th>\n",
       "      <td>bốn khoa học gia người mỹ từng đoạt giải nobel...</td>\n",
       "      <td>gs jack steinberger trao đổi với gs lê kim ngọ...</td>\n",
       "    </tr>\n",
       "  </tbody>\n",
       "</table>\n",
       "</div>"
      ],
      "text/plain": [
       "                                             Summary  \\\n",
       "0  ngay khi bắt tay ai đó có thể chúng ta đã cảm ...   \n",
       "1  rời khỏi việt nam vào ông vũ đình duy tới sống...   \n",
       "2  thủ tướng iraq xác nhận với bbc rằng syria khô...   \n",
       "3  người việt nam biết rất ít về ông trump nhưng ...   \n",
       "4  bốn khoa học gia người mỹ từng đoạt giải nobel...   \n",
       "\n",
       "                                                Text  \n",
       "0  tổng thống mỹ donald trump và tổng thống pháp ...  \n",
       "1  vũ đình duy hồi tháng xuất hiện trước tòa tại ...  \n",
       "2  ông maliki xác nhận các vụ không kích của syri...  \n",
       "3  tiến sỹ vũ cao phan tin rằng nếu được tiến hàn...  \n",
       "4  gs jack steinberger trao đổi với gs lê kim ngọ...  "
      ]
     },
     "execution_count": 8,
     "metadata": {},
     "output_type": "execute_result"
    }
   ],
   "source": [
    "df.Text = df.Text.apply(lambda x: solve(str(x)))\n",
    "df.Summary = df.Summary.apply(lambda x: solve(str(x)))\n",
    "df.head(5)"
   ]
  },
  {
   "cell_type": "markdown",
   "id": "68b9a5be",
   "metadata": {
    "papermill": {
     "duration": 0.046298,
     "end_time": "2022-05-14T17:03:58.043837",
     "exception": false,
     "start_time": "2022-05-14T17:03:57.997539",
     "status": "completed"
    },
    "tags": []
   },
   "source": [
    "Finding what should be the **maximum length** of **Text** and **Summary** that will be feed or accepted by the learning algorithm"
   ]
  },
  {
   "cell_type": "code",
   "execution_count": 9,
   "id": "b4c26c0b",
   "metadata": {
    "execution": {
     "iopub.execute_input": "2022-05-14T17:03:58.137075Z",
     "iopub.status.busy": "2022-05-14T17:03:58.136459Z",
     "iopub.status.idle": "2022-05-14T17:04:04.419678Z",
     "shell.execute_reply": "2022-05-14T17:04:04.419008Z"
    },
    "papermill": {
     "duration": 6.332468,
     "end_time": "2022-05-14T17:04:04.421482",
     "exception": false,
     "start_time": "2022-05-14T17:03:58.089014",
     "status": "completed"
    },
    "tags": []
   },
   "outputs": [
    {
     "data": {
      "image/png": "[encoded data removed]",
      "text/plain": [
       "<Figure size 1152x288 with 2 Axes>"
      ]
     },
     "metadata": {
      "needs_background": "light"
     },
     "output_type": "display_data"
    }
   ],
   "source": [
    "text_count = [len(sentence.split()) for sentence in df.Text]\n",
    "summary_count = [len(sentence.split()) for sentence in df.Summary]\n",
    "\n",
    "pd.DataFrame({'Text': text_count, 'Summary': summary_count}).hist(bins=100, figsize=(16, 4))\n",
    "plt.show()"
   ]
  },
  {
   "cell_type": "code",
   "execution_count": 10,
   "id": "a9b731ce",
   "metadata": {
    "execution": {
     "iopub.execute_input": "2022-05-14T17:04:04.513054Z",
     "iopub.status.busy": "2022-05-14T17:04:04.512856Z",
     "iopub.status.idle": "2022-05-14T17:04:10.016325Z",
     "shell.execute_reply": "2022-05-14T17:04:10.014593Z"
    },
    "papermill": {
     "duration": 5.551552,
     "end_time": "2022-05-14T17:04:10.018360",
     "exception": false,
     "start_time": "2022-05-14T17:04:04.466808",
     "status": "completed"
    },
    "tags": []
   },
   "outputs": [
    {
     "name": "stdout",
     "output_type": "stream",
     "text": [
      "0.99\n",
      "0.15\n"
     ]
    }
   ],
   "source": [
    "# To check how many rows in a column has length (of the text) <= limit\n",
    "def get_word_percent(column, limit):\n",
    "    count = 0\n",
    "    for sentence in column:\n",
    "        if len(sentence.split()) <= limit:\n",
    "            count += 1\n",
    "\n",
    "    return round(count / len(column), 2)\n",
    "\n",
    "\n",
    "# Check how many % of summary have 0-60 words\n",
    "print(get_word_percent(df.Summary, 60))\n",
    "\n",
    "# Check how many % of text have 0-300 words\n",
    "print(get_word_percent(df.Text, 300))"
   ]
  },
  {
   "cell_type": "code",
   "execution_count": 11,
   "id": "11ad0aa7",
   "metadata": {
    "execution": {
     "iopub.execute_input": "2022-05-14T17:04:10.111837Z",
     "iopub.status.busy": "2022-05-14T17:04:10.111620Z",
     "iopub.status.idle": "2022-05-14T17:04:10.115078Z",
     "shell.execute_reply": "2022-05-14T17:04:10.114402Z"
    },
    "papermill": {
     "duration": 0.052392,
     "end_time": "2022-05-14T17:04:10.116808",
     "exception": false,
     "start_time": "2022-05-14T17:04:10.064416",
     "status": "completed"
    },
    "tags": []
   },
   "outputs": [],
   "source": [
    "max_text_len = 300\n",
    "max_summary_len = 60"
   ]
  },
  {
   "cell_type": "code",
   "execution_count": 12,
   "id": "141e1f99",
   "metadata": {
    "execution": {
     "iopub.execute_input": "2022-05-14T17:04:10.209430Z",
     "iopub.status.busy": "2022-05-14T17:04:10.209238Z",
     "iopub.status.idle": "2022-05-14T17:04:16.206539Z",
     "shell.execute_reply": "2022-05-14T17:04:16.205667Z"
    },
    "papermill": {
     "duration": 6.04594,
     "end_time": "2022-05-14T17:04:16.208433",
     "exception": false,
     "start_time": "2022-05-14T17:04:10.162493",
     "status": "completed"
    },
    "tags": []
   },
   "outputs": [
    {
     "name": "stdout",
     "output_type": "stream",
     "text": [
      "Dataset size: 14664\n"
     ]
    },
    {
     "data": {
      "text/html": [
       "<div>\n",
       "<style scoped>\n",
       "    .dataframe tbody tr th:only-of-type {\n",
       "        vertical-align: middle;\n",
       "    }\n",
       "\n",
       "    .dataframe tbody tr th {\n",
       "        vertical-align: top;\n",
       "    }\n",
       "\n",
       "    .dataframe thead th {\n",
       "        text-align: right;\n",
       "    }\n",
       "</style>\n",
       "<table border=\"1\" class=\"dataframe\">\n",
       "  <thead>\n",
       "    <tr style=\"text-align: right;\">\n",
       "      <th></th>\n",
       "      <th>Text</th>\n",
       "      <th>Summary</th>\n",
       "    </tr>\n",
       "  </thead>\n",
       "  <tbody>\n",
       "    <tr>\n",
       "      <th>0</th>\n",
       "      <td>ông maliki xác nhận các vụ không kích của syri...</td>\n",
       "      <td>thủ tướng iraq xác nhận với bbc rằng syria khô...</td>\n",
       "    </tr>\n",
       "    <tr>\n",
       "      <th>1</th>\n",
       "      <td>lý quang diệu được cho là người đứng đằng sau...</td>\n",
       "      <td>chính phủ singapore cho hay cựu thủ tướng ngườ...</td>\n",
       "    </tr>\n",
       "    <tr>\n",
       "      <th>2</th>\n",
       "      <td>ông hà kim ngọc thứ trưởng bộ ngoại giao phát ...</td>\n",
       "      <td>kết thúc phiên kiểm định định kỳ phổ quát về t...</td>\n",
       "    </tr>\n",
       "    <tr>\n",
       "      <th>3</th>\n",
       "      <td>hai bàn thắng của luis suarez hiệp một tạo lợi...</td>\n",
       "      <td>hlv manchester city manuel pellegrini tin rằng...</td>\n",
       "    </tr>\n",
       "    <tr>\n",
       "      <th>4</th>\n",
       "      <td>thủ hiến tiểu bang nam úc ông jay weatherill l...</td>\n",
       "      <td>một chính khách gốc việt từng là dân tỵ nạn ...</td>\n",
       "    </tr>\n",
       "  </tbody>\n",
       "</table>\n",
       "</div>"
      ],
      "text/plain": [
       "                                                Text  \\\n",
       "0  ông maliki xác nhận các vụ không kích của syri...   \n",
       "1  lý quang diệu được cho là người đứng đằng sau...   \n",
       "2  ông hà kim ngọc thứ trưởng bộ ngoại giao phát ...   \n",
       "3  hai bàn thắng của luis suarez hiệp một tạo lợi...   \n",
       "4  thủ hiến tiểu bang nam úc ông jay weatherill l...   \n",
       "\n",
       "                                             Summary  \n",
       "0  thủ tướng iraq xác nhận với bbc rằng syria khô...  \n",
       "1  chính phủ singapore cho hay cựu thủ tướng ngườ...  \n",
       "2  kết thúc phiên kiểm định định kỳ phổ quát về t...  \n",
       "3  hlv manchester city manuel pellegrini tin rằng...  \n",
       "4  một chính khách gốc việt từng là dân tỵ nạn ...  "
      ]
     },
     "execution_count": 12,
     "metadata": {},
     "output_type": "execute_result"
    }
   ],
   "source": [
    "# select the summary and text between their defined max lens respectively\n",
    "def trim_text_and_summary(df, max_text_len, max_summary_len):\n",
    "    cleaned_text = np.array(df['Text'])\n",
    "    cleaned_summary = np.array(df['Summary'])\n",
    "\n",
    "    short_text = []\n",
    "    short_summary = []\n",
    "\n",
    "    for i in range(len(cleaned_text)):\n",
    "        if len(cleaned_text[i].split()) <= max_text_len and len(\n",
    "            cleaned_summary[i].split()\n",
    "        ) <= max_summary_len:\n",
    "            short_text.append(cleaned_text[i])\n",
    "            short_summary.append(cleaned_summary[i])\n",
    "\n",
    "    df = pd.DataFrame({'Text': short_text, 'Summary': short_summary})\n",
    "    return df\n",
    "\n",
    "\n",
    "df = trim_text_and_summary(df, max_text_len, max_summary_len)\n",
    "print(f'Dataset size: {len(df)}')\n",
    "df.head(5)"
   ]
  },
  {
   "cell_type": "code",
   "execution_count": 13,
   "id": "b41e0fbe",
   "metadata": {
    "execution": {
     "iopub.execute_input": "2022-05-14T17:04:16.304287Z",
     "iopub.status.busy": "2022-05-14T17:04:16.302948Z",
     "iopub.status.idle": "2022-05-14T17:04:21.817215Z",
     "shell.execute_reply": "2022-05-14T17:04:21.816230Z"
    },
    "papermill": {
     "duration": 5.56514,
     "end_time": "2022-05-14T17:04:21.820895",
     "exception": false,
     "start_time": "2022-05-14T17:04:16.255755",
     "status": "completed"
    },
    "tags": []
   },
   "outputs": [],
   "source": [
    "from vncorenlp import VnCoreNLP\n",
    "rdrsegmenter = VnCoreNLP(\"./vncorenlp/VnCoreNLP-1.1.1.jar\", annotators=\"wseg\", max_heap_size='-Xmx2g') "
   ]
  },
  {
   "cell_type": "code",
   "execution_count": 14,
   "id": "eedb37cd",
   "metadata": {
    "execution": {
     "iopub.execute_input": "2022-05-14T17:04:21.923285Z",
     "iopub.status.busy": "2022-05-14T17:04:21.923000Z",
     "iopub.status.idle": "2022-05-14T17:04:21.927532Z",
     "shell.execute_reply": "2022-05-14T17:04:21.926854Z"
    },
    "papermill": {
     "duration": 0.056207,
     "end_time": "2022-05-14T17:04:21.929228",
     "exception": false,
     "start_time": "2022-05-14T17:04:21.873021",
     "status": "completed"
    },
    "tags": []
   },
   "outputs": [],
   "source": [
    "def read_content(string):\n",
    "    original = rdrsegmenter.tokenize(string)\n",
    "    original = ' '.join([' '.join(x) for x in original])\n",
    "\n",
    "    return original"
   ]
  },
  {
   "cell_type": "code",
   "execution_count": 15,
   "id": "6d9fa555",
   "metadata": {
    "execution": {
     "iopub.execute_input": "2022-05-14T17:04:22.026366Z",
     "iopub.status.busy": "2022-05-14T17:04:22.026096Z",
     "iopub.status.idle": "2022-05-14T17:06:45.006705Z",
     "shell.execute_reply": "2022-05-14T17:06:45.006026Z"
    },
    "papermill": {
     "duration": 143.076502,
     "end_time": "2022-05-14T17:06:45.053501",
     "exception": false,
     "start_time": "2022-05-14T17:04:21.976999",
     "status": "completed"
    },
    "tags": []
   },
   "outputs": [
    {
     "data": {
      "text/html": [
       "<div>\n",
       "<style scoped>\n",
       "    .dataframe tbody tr th:only-of-type {\n",
       "        vertical-align: middle;\n",
       "    }\n",
       "\n",
       "    .dataframe tbody tr th {\n",
       "        vertical-align: top;\n",
       "    }\n",
       "\n",
       "    .dataframe thead th {\n",
       "        text-align: right;\n",
       "    }\n",
       "</style>\n",
       "<table border=\"1\" class=\"dataframe\">\n",
       "  <thead>\n",
       "    <tr style=\"text-align: right;\">\n",
       "      <th></th>\n",
       "      <th>Text</th>\n",
       "      <th>Summary</th>\n",
       "    </tr>\n",
       "  </thead>\n",
       "  <tbody>\n",
       "    <tr>\n",
       "      <th>0</th>\n",
       "      <td>ông maliki xác_nhận các vụ không_kích của syri...</td>\n",
       "      <td>thủ_tướng iraq xác_nhận với bbc rằng syria khô...</td>\n",
       "    </tr>\n",
       "    <tr>\n",
       "      <th>1</th>\n",
       "      <td>lý quang diệu được cho là người đứng đằng sau...</td>\n",
       "      <td>chính_phủ singapore cho_hay cựu thủ_tướng ngườ...</td>\n",
       "    </tr>\n",
       "    <tr>\n",
       "      <th>2</th>\n",
       "      <td>ông hà kim ngọc thứ_trưởng bộ ngoại_giao phát_...</td>\n",
       "      <td>kết_thúc phiên kiểm_định định_kỳ phổ_quát về t...</td>\n",
       "    </tr>\n",
       "    <tr>\n",
       "      <th>3</th>\n",
       "      <td>hai bàn thắng của luis suarez hiệp một tạo lợi...</td>\n",
       "      <td>hlv manchester city manuel pellegrini tin rằng...</td>\n",
       "    </tr>\n",
       "    <tr>\n",
       "      <th>4</th>\n",
       "      <td>thủ_hiến tiểu_bang nam úc ông jay weatherill l...</td>\n",
       "      <td>một chính_khách gốc việt từng là dân tỵ nạn ...</td>\n",
       "    </tr>\n",
       "  </tbody>\n",
       "</table>\n",
       "</div>"
      ],
      "text/plain": [
       "                                                Text  \\\n",
       "0  ông maliki xác_nhận các vụ không_kích của syri...   \n",
       "1  lý quang diệu được cho là người đứng đằng sau...   \n",
       "2  ông hà kim ngọc thứ_trưởng bộ ngoại_giao phát_...   \n",
       "3  hai bàn thắng của luis suarez hiệp một tạo lợi...   \n",
       "4  thủ_hiến tiểu_bang nam úc ông jay weatherill l...   \n",
       "\n",
       "                                             Summary  \n",
       "0  thủ_tướng iraq xác_nhận với bbc rằng syria khô...  \n",
       "1  chính_phủ singapore cho_hay cựu thủ_tướng ngườ...  \n",
       "2  kết_thúc phiên kiểm_định định_kỳ phổ_quát về t...  \n",
       "3  hlv manchester city manuel pellegrini tin rằng...  \n",
       "4  một chính_khách gốc việt từng là dân tỵ nạn ...  "
      ]
     },
     "execution_count": 15,
     "metadata": {},
     "output_type": "execute_result"
    }
   ],
   "source": [
    "df.Text = df.Text.apply(lambda x: read_content(str(x)))\n",
    "df.Summary = df.Summary.apply(lambda x: read_content(str(x)))\n",
    "df.head(5)"
   ]
  },
  {
   "cell_type": "code",
   "execution_count": 16,
   "id": "72e17ac3",
   "metadata": {
    "execution": {
     "iopub.execute_input": "2022-05-14T17:06:45.148795Z",
     "iopub.status.busy": "2022-05-14T17:06:45.148483Z",
     "iopub.status.idle": "2022-05-14T17:06:45.196563Z",
     "shell.execute_reply": "2022-05-14T17:06:45.195880Z"
    },
    "papermill": {
     "duration": 0.097923,
     "end_time": "2022-05-14T17:06:45.198416",
     "exception": false,
     "start_time": "2022-05-14T17:06:45.100493",
     "status": "completed"
    },
    "tags": []
   },
   "outputs": [],
   "source": [
    "article = df['Text']\n",
    "summary = df['Summary']\n",
    "article = article.apply(lambda x: '<SOS> ' + x + ' <EOS>')\n",
    "summary = summary.apply(lambda x: '<SOS> ' + x + ' <EOS>')"
   ]
  },
  {
   "cell_type": "code",
   "execution_count": 17,
   "id": "61c88173",
   "metadata": {
    "execution": {
     "iopub.execute_input": "2022-05-14T17:06:45.293627Z",
     "iopub.status.busy": "2022-05-14T17:06:45.293219Z",
     "iopub.status.idle": "2022-05-14T17:06:52.446260Z",
     "shell.execute_reply": "2022-05-14T17:06:52.445538Z"
    },
    "papermill": {
     "duration": 7.202686,
     "end_time": "2022-05-14T17:06:52.448252",
     "exception": false,
     "start_time": "2022-05-14T17:06:45.245566",
     "status": "completed"
    },
    "tags": []
   },
   "outputs": [],
   "source": [
    "filters = '!\"#$%&()*+,-./:;=?@[\\\\]^`{|}~\\t\\n'\n",
    "oov_token = '<unk>'\n",
    "article_tokenizer = tf.keras.preprocessing.text.Tokenizer(oov_token=oov_token)\n",
    "summary_tokenizer = tf.keras.preprocessing.text.Tokenizer(filters=filters, oov_token=oov_token)\n",
    "article_tokenizer.fit_on_texts(article)\n",
    "summary_tokenizer.fit_on_texts(summary)\n",
    "inputs = article_tokenizer.texts_to_sequences(article)\n",
    "targets = summary_tokenizer.texts_to_sequences(summary)"
   ]
  },
  {
   "cell_type": "code",
   "execution_count": 18,
   "id": "271f0c23",
   "metadata": {
    "execution": {
     "iopub.execute_input": "2022-05-14T17:06:52.544239Z",
     "iopub.status.busy": "2022-05-14T17:06:52.543648Z",
     "iopub.status.idle": "2022-05-14T17:06:52.548458Z",
     "shell.execute_reply": "2022-05-14T17:06:52.547763Z"
    },
    "papermill": {
     "duration": 0.055304,
     "end_time": "2022-05-14T17:06:52.550998",
     "exception": false,
     "start_time": "2022-05-14T17:06:52.495694",
     "status": "completed"
    },
    "tags": []
   },
   "outputs": [
    {
     "name": "stdout",
     "output_type": "stream",
     "text": [
      "32935 17737\n"
     ]
    }
   ],
   "source": [
    "ENCODER_VOCAB = len(article_tokenizer.word_index) + 1\n",
    "DECODER_VOCAB = len(summary_tokenizer.word_index) + 1\n",
    "print(ENCODER_VOCAB, DECODER_VOCAB)"
   ]
  },
  {
   "cell_type": "code",
   "execution_count": 19,
   "id": "1c17fc9d",
   "metadata": {
    "execution": {
     "iopub.execute_input": "2022-05-14T17:06:52.647242Z",
     "iopub.status.busy": "2022-05-14T17:06:52.646671Z",
     "iopub.status.idle": "2022-05-14T17:06:55.787028Z",
     "shell.execute_reply": "2022-05-14T17:06:55.786243Z"
    },
    "papermill": {
     "duration": 3.190793,
     "end_time": "2022-05-14T17:06:55.789794",
     "exception": false,
     "start_time": "2022-05-14T17:06:52.599001",
     "status": "completed"
    },
    "tags": []
   },
   "outputs": [
    {
     "name": "stderr",
     "output_type": "stream",
     "text": [
      "2022-05-14 17:06:53.105891: I tensorflow/stream_executor/cuda/cuda_gpu_executor.cc:937] successful NUMA node read from SysFS had negative value (-1), but there must be at least one NUMA node, so returning NUMA node zero\n",
      "2022-05-14 17:06:53.232632: I tensorflow/stream_executor/cuda/cuda_gpu_executor.cc:937] successful NUMA node read from SysFS had negative value (-1), but there must be at least one NUMA node, so returning NUMA node zero\n",
      "2022-05-14 17:06:53.233531: I tensorflow/stream_executor/cuda/cuda_gpu_executor.cc:937] successful NUMA node read from SysFS had negative value (-1), but there must be at least one NUMA node, so returning NUMA node zero\n",
      "2022-05-14 17:06:53.237324: I tensorflow/core/platform/cpu_feature_guard.cc:142] This TensorFlow binary is optimized with oneAPI Deep Neural Network Library (oneDNN) to use the following CPU instructions in performance-critical operations:  AVX2 AVX512F FMA\n",
      "To enable them in other operations, rebuild TensorFlow with the appropriate compiler flags.\n",
      "2022-05-14 17:06:53.237658: I tensorflow/stream_executor/cuda/cuda_gpu_executor.cc:937] successful NUMA node read from SysFS had negative value (-1), but there must be at least one NUMA node, so returning NUMA node zero\n",
      "2022-05-14 17:06:53.238767: I tensorflow/stream_executor/cuda/cuda_gpu_executor.cc:937] successful NUMA node read from SysFS had negative value (-1), but there must be at least one NUMA node, so returning NUMA node zero\n",
      "2022-05-14 17:06:53.239608: I tensorflow/stream_executor/cuda/cuda_gpu_executor.cc:937] successful NUMA node read from SysFS had negative value (-1), but there must be at least one NUMA node, so returning NUMA node zero\n",
      "2022-05-14 17:06:55.435429: I tensorflow/stream_executor/cuda/cuda_gpu_executor.cc:937] successful NUMA node read from SysFS had negative value (-1), but there must be at least one NUMA node, so returning NUMA node zero\n",
      "2022-05-14 17:06:55.436274: I tensorflow/stream_executor/cuda/cuda_gpu_executor.cc:937] successful NUMA node read from SysFS had negative value (-1), but there must be at least one NUMA node, so returning NUMA node zero\n",
      "2022-05-14 17:06:55.436975: I tensorflow/stream_executor/cuda/cuda_gpu_executor.cc:937] successful NUMA node read from SysFS had negative value (-1), but there must be at least one NUMA node, so returning NUMA node zero\n",
      "2022-05-14 17:06:55.438301: I tensorflow/core/common_runtime/gpu/gpu_device.cc:1510] Created device /job:localhost/replica:0/task:0/device:GPU:0 with 15403 MB memory:  -> device: 0, name: Tesla P100-PCIE-16GB, pci bus id: 0000:00:04.0, compute capability: 6.0\n"
     ]
    }
   ],
   "source": [
    "inputs = tf.keras.preprocessing.sequence.pad_sequences(inputs, maxlen=ENCODER_LEN, padding='post', truncating='post')\n",
    "targets = tf.keras.preprocessing.sequence.pad_sequences(targets, maxlen=DECODER_LEN, padding='post', truncating='post')\n",
    "inputs = tf.cast(inputs, dtype=tf.int64)\n",
    "targets = tf.cast(targets, dtype=tf.int64)"
   ]
  },
  {
   "cell_type": "code",
   "execution_count": 20,
   "id": "75562a6f",
   "metadata": {
    "execution": {
     "iopub.execute_input": "2022-05-14T17:06:55.889232Z",
     "iopub.status.busy": "2022-05-14T17:06:55.888593Z",
     "iopub.status.idle": "2022-05-14T17:06:55.939529Z",
     "shell.execute_reply": "2022-05-14T17:06:55.938818Z"
    },
    "papermill": {
     "duration": 0.102162,
     "end_time": "2022-05-14T17:06:55.941525",
     "exception": false,
     "start_time": "2022-05-14T17:06:55.839363",
     "status": "completed"
    },
    "tags": []
   },
   "outputs": [],
   "source": [
    "dataset = tf.data.Dataset.from_tensor_slices((inputs, targets)).shuffle(BUFFER_SIZE).batch(BATCH_SIZE)"
   ]
  },
  {
   "cell_type": "code",
   "execution_count": 21,
   "id": "b22dd062",
   "metadata": {
    "execution": {
     "iopub.execute_input": "2022-05-14T17:06:56.040244Z",
     "iopub.status.busy": "2022-05-14T17:06:56.039595Z",
     "iopub.status.idle": "2022-05-14T17:06:56.050269Z",
     "shell.execute_reply": "2022-05-14T17:06:56.049585Z"
    },
    "papermill": {
     "duration": 0.061945,
     "end_time": "2022-05-14T17:06:56.051886",
     "exception": false,
     "start_time": "2022-05-14T17:06:55.989941",
     "status": "completed"
    },
    "tags": []
   },
   "outputs": [],
   "source": [
    "def get_angles(position, i, d_model):\n",
    "    angle_rates = 1 / np.power(10000, (2 * (i // 2)) / np.float32(d_model))\n",
    "    return position * angle_rates\n",
    "\n",
    "def positional_encoding(position, d_model):\n",
    "    angle_rads = get_angles(\n",
    "        np.arange(position)[:, np.newaxis],\n",
    "        np.arange(d_model)[np.newaxis, :],\n",
    "        d_model\n",
    "    )\n",
    "\n",
    "    angle_rads[:, 0::2] = np.sin(angle_rads[:, 0::2])\n",
    "\n",
    "    angle_rads[:, 1::2] = np.cos(angle_rads[:, 1::2])\n",
    "\n",
    "    pos_encoding = angle_rads[np.newaxis, ...]\n",
    "\n",
    "    return tf.cast(pos_encoding, dtype=tf.float32)\n",
    "\n",
    "def create_padding_mask(seq):\n",
    "    seq = tf.cast(tf.math.equal(seq, 0), tf.float32)\n",
    "    return seq[:, tf.newaxis, tf.newaxis, :]\n",
    "\n",
    "def create_look_ahead_mask(size):\n",
    "    mask = 1 - tf.linalg.band_part(tf.ones((size, size)), -1, 0)\n",
    "    return mask\n",
    "\n",
    "def scaled_dot_product_attention(q, k, v, mask):\n",
    "    matmul_qk = tf.matmul(q, k, transpose_b=True)\n",
    "\n",
    "    dk = tf.cast(tf.shape(k)[-1], tf.float32)\n",
    "    scaled_attention_logits = matmul_qk / tf.math.sqrt(dk)\n",
    "\n",
    "    if mask is not None:\n",
    "        scaled_attention_logits += (mask * -1e9)  \n",
    "\n",
    "    attention_weights = tf.nn.softmax(scaled_attention_logits, axis=-1)\n",
    "\n",
    "    output = tf.matmul(attention_weights, v)\n",
    "    return output, attention_weights"
   ]
  },
  {
   "cell_type": "code",
   "execution_count": 22,
   "id": "f08b8e3d",
   "metadata": {
    "execution": {
     "iopub.execute_input": "2022-05-14T17:06:56.149394Z",
     "iopub.status.busy": "2022-05-14T17:06:56.148804Z",
     "iopub.status.idle": "2022-05-14T17:06:56.160183Z",
     "shell.execute_reply": "2022-05-14T17:06:56.159559Z"
    },
    "papermill": {
     "duration": 0.061818,
     "end_time": "2022-05-14T17:06:56.161771",
     "exception": false,
     "start_time": "2022-05-14T17:06:56.099953",
     "status": "completed"
    },
    "tags": []
   },
   "outputs": [],
   "source": [
    "class MultiHeadAttention(tf.keras.layers.Layer):\n",
    "    def __init__(self, d_model, num_heads):\n",
    "        super(MultiHeadAttention, self).__init__()\n",
    "        self.num_heads = num_heads\n",
    "        self.d_model = d_model\n",
    "\n",
    "        assert d_model % self.num_heads == 0\n",
    "\n",
    "        self.depth = d_model // self.num_heads\n",
    "\n",
    "        self.wq = tf.keras.layers.Dense(d_model)\n",
    "        self.wk = tf.keras.layers.Dense(d_model)\n",
    "        self.wv = tf.keras.layers.Dense(d_model)\n",
    "\n",
    "        self.dense = tf.keras.layers.Dense(d_model)\n",
    "        \n",
    "    def split_heads(self, x, batch_size):\n",
    "        x = tf.reshape(x, (batch_size, -1, self.num_heads, self.depth))\n",
    "        return tf.transpose(x, perm=[0, 2, 1, 3])\n",
    "    \n",
    "    def call(self, v, k, q, mask):\n",
    "        batch_size = tf.shape(q)[0]\n",
    "\n",
    "        q = self.wq(q)\n",
    "        k = self.wk(k)\n",
    "        v = self.wv(v)\n",
    "\n",
    "        q = self.split_heads(q, batch_size)\n",
    "        k = self.split_heads(k, batch_size)\n",
    "        v = self.split_heads(v, batch_size)\n",
    "\n",
    "        scaled_attention, attention_weights = scaled_dot_product_attention(\n",
    "            q, k, v, mask)\n",
    "\n",
    "        scaled_attention = tf.transpose(scaled_attention, perm=[0, 2, 1, 3])\n",
    "        \n",
    "        concat_attention = tf.reshape(scaled_attention, (batch_size, -1, self.d_model))\n",
    "        output = self.dense(concat_attention)\n",
    "            \n",
    "        return output, attention_weights\n",
    "    \n",
    "def point_wise_feed_forward_network(d_model, dff):\n",
    "    return tf.keras.Sequential([\n",
    "        tf.keras.layers.Dense(dff, activation='relu'),\n",
    "        tf.keras.layers.Dense(d_model)\n",
    "    ])"
   ]
  },
  {
   "cell_type": "code",
   "execution_count": 23,
   "id": "fd05f8bd",
   "metadata": {
    "execution": {
     "iopub.execute_input": "2022-05-14T17:06:56.259628Z",
     "iopub.status.busy": "2022-05-14T17:06:56.259436Z",
     "iopub.status.idle": "2022-05-14T17:06:56.266860Z",
     "shell.execute_reply": "2022-05-14T17:06:56.266143Z"
    },
    "papermill": {
     "duration": 0.058087,
     "end_time": "2022-05-14T17:06:56.268497",
     "exception": false,
     "start_time": "2022-05-14T17:06:56.210410",
     "status": "completed"
    },
    "tags": []
   },
   "outputs": [],
   "source": [
    "class EncoderLayer(tf.keras.layers.Layer):\n",
    "    def __init__(self, d_model, num_heads, dff, rate=0.1):\n",
    "        super(EncoderLayer, self).__init__()\n",
    "\n",
    "        self.mha = MultiHeadAttention(d_model, num_heads)\n",
    "        self.ffn = point_wise_feed_forward_network(d_model, dff)\n",
    "\n",
    "        self.layernorm1 = tf.keras.layers.LayerNormalization(epsilon=1e-6)\n",
    "        self.layernorm2 = tf.keras.layers.LayerNormalization(epsilon=1e-6)\n",
    "\n",
    "        self.dropout1 = tf.keras.layers.Dropout(rate)\n",
    "        self.dropout2 = tf.keras.layers.Dropout(rate)\n",
    "    \n",
    "    def call(self, x, training, mask):\n",
    "        attn_output, _ = self.mha(x, x, x, mask)\n",
    "        attn_output = self.dropout1(attn_output, training=training)\n",
    "        out1 = self.layernorm1(x + attn_output)\n",
    "\n",
    "        ffn_output = self.ffn(out1)\n",
    "        ffn_output = self.dropout2(ffn_output, training=training)\n",
    "        out2 = self.layernorm2(out1 + ffn_output)\n",
    "\n",
    "        return out2"
   ]
  },
  {
   "cell_type": "code",
   "execution_count": 24,
   "id": "03c29551",
   "metadata": {
    "execution": {
     "iopub.execute_input": "2022-05-14T17:06:56.365351Z",
     "iopub.status.busy": "2022-05-14T17:06:56.364964Z",
     "iopub.status.idle": "2022-05-14T17:06:56.374241Z",
     "shell.execute_reply": "2022-05-14T17:06:56.373594Z"
    },
    "papermill": {
     "duration": 0.059986,
     "end_time": "2022-05-14T17:06:56.375890",
     "exception": false,
     "start_time": "2022-05-14T17:06:56.315904",
     "status": "completed"
    },
    "tags": []
   },
   "outputs": [],
   "source": [
    "class DecoderLayer(tf.keras.layers.Layer):\n",
    "    def __init__(self, d_model, num_heads, dff, rate=0.1):\n",
    "        super(DecoderLayer, self).__init__()\n",
    "\n",
    "        self.mha1 = MultiHeadAttention(d_model, num_heads)\n",
    "        self.mha2 = MultiHeadAttention(d_model, num_heads)\n",
    "\n",
    "        self.ffn = point_wise_feed_forward_network(d_model, dff)\n",
    "\n",
    "        self.layernorm1 = tf.keras.layers.LayerNormalization(epsilon=1e-6)\n",
    "        self.layernorm2 = tf.keras.layers.LayerNormalization(epsilon=1e-6)\n",
    "        self.layernorm3 = tf.keras.layers.LayerNormalization(epsilon=1e-6)\n",
    "\n",
    "        self.dropout1 = tf.keras.layers.Dropout(rate)\n",
    "        self.dropout2 = tf.keras.layers.Dropout(rate)\n",
    "        self.dropout3 = tf.keras.layers.Dropout(rate)\n",
    "    \n",
    "    \n",
    "    def call(self, x, enc_output, training, look_ahead_mask, padding_mask):\n",
    "        attn1, attn_weights_block1 = self.mha1(x, x, x, look_ahead_mask)\n",
    "        attn1 = self.dropout1(attn1, training=training)\n",
    "        out1 = self.layernorm1(attn1 + x)\n",
    "\n",
    "        attn2, attn_weights_block2 = self.mha2(enc_output, enc_output, out1, padding_mask)\n",
    "        attn2 = self.dropout2(attn2, training=training)\n",
    "        out2 = self.layernorm2(attn2 + out1)\n",
    "\n",
    "        ffn_output = self.ffn(out2)\n",
    "        ffn_output = self.dropout3(ffn_output, training=training)\n",
    "        out3 = self.layernorm3(ffn_output + out2)\n",
    "\n",
    "        return out3, attn_weights_block1, attn_weights_block2"
   ]
  },
  {
   "cell_type": "code",
   "execution_count": 25,
   "id": "52fbb4a1",
   "metadata": {
    "execution": {
     "iopub.execute_input": "2022-05-14T17:06:56.472982Z",
     "iopub.status.busy": "2022-05-14T17:06:56.472793Z",
     "iopub.status.idle": "2022-05-14T17:06:56.487640Z",
     "shell.execute_reply": "2022-05-14T17:06:56.487022Z"
    },
    "papermill": {
     "duration": 0.065194,
     "end_time": "2022-05-14T17:06:56.489280",
     "exception": false,
     "start_time": "2022-05-14T17:06:56.424086",
     "status": "completed"
    },
    "tags": []
   },
   "outputs": [],
   "source": [
    "class Encoder(tf.keras.layers.Layer):\n",
    "    def __init__(self, num_layers, d_model, num_heads, dff, input_vocab_size, maximum_position_encoding, rate=0.1):\n",
    "        super(Encoder, self).__init__()\n",
    "\n",
    "        self.d_model = d_model\n",
    "        self.num_layers = num_layers\n",
    "\n",
    "        self.embedding = tf.keras.layers.Embedding(input_vocab_size, d_model)\n",
    "        self.pos_encoding = positional_encoding(maximum_position_encoding, self.d_model)\n",
    "\n",
    "        self.enc_layers = [EncoderLayer(d_model, num_heads, dff, rate) for _ in range(num_layers)]\n",
    "\n",
    "        self.dropout = tf.keras.layers.Dropout(rate)\n",
    "        \n",
    "    def call(self, x, training, mask):\n",
    "        seq_len = tf.shape(x)[1]\n",
    "\n",
    "        x = self.embedding(x)\n",
    "        x *= tf.math.sqrt(tf.cast(self.d_model, tf.float32))\n",
    "        x += self.pos_encoding[:, :seq_len, :]\n",
    "\n",
    "        x = self.dropout(x, training=training)\n",
    "    \n",
    "        for i in range(self.num_layers):\n",
    "            x = self.enc_layers[i](x, training, mask)\n",
    "    \n",
    "        return x\n",
    "    \n",
    "class Decoder(tf.keras.layers.Layer):\n",
    "        \n",
    "    def __init__(self, num_layers, d_model, num_heads, dff, target_vocab_size, maximum_position_encoding, rate=0.1):\n",
    "        super(Decoder, self).__init__()\n",
    "\n",
    "        self.d_model = d_model\n",
    "        self.num_layers = num_layers\n",
    "\n",
    "        self.embedding = tf.keras.layers.Embedding(target_vocab_size, d_model)\n",
    "        self.pos_encoding = positional_encoding(maximum_position_encoding, d_model)\n",
    "\n",
    "        self.dec_layers = [DecoderLayer(d_model, num_heads, dff, rate) for _ in range(num_layers)]\n",
    "        self.dropout = tf.keras.layers.Dropout(rate)\n",
    "    \n",
    "    def call(self, x, enc_output, training, look_ahead_mask, padding_mask):\n",
    "        seq_len = tf.shape(x)[1]\n",
    "        attention_weights = {}\n",
    "\n",
    "        x = self.embedding(x)\n",
    "        x *= tf.math.sqrt(tf.cast(self.d_model, tf.float32))\n",
    "        x += self.pos_encoding[:, :seq_len, :]\n",
    "\n",
    "        x = self.dropout(x, training=training)\n",
    "\n",
    "        for i in range(self.num_layers):\n",
    "            x, block1, block2 = self.dec_layers[i](x, enc_output, training, look_ahead_mask, padding_mask)\n",
    "\n",
    "            attention_weights['decoder_layer{}_block1'.format(i+1)] = block1\n",
    "            attention_weights['decoder_layer{}_block2'.format(i+1)] = block2\n",
    "    \n",
    "        return x, attention_weights"
   ]
  },
  {
   "cell_type": "code",
   "execution_count": 26,
   "id": "677aed7a",
   "metadata": {
    "execution": {
     "iopub.execute_input": "2022-05-14T17:06:56.607655Z",
     "iopub.status.busy": "2022-05-14T17:06:56.607336Z",
     "iopub.status.idle": "2022-05-14T17:06:56.623973Z",
     "shell.execute_reply": "2022-05-14T17:06:56.623249Z"
    },
    "papermill": {
     "duration": 0.089342,
     "end_time": "2022-05-14T17:06:56.626504",
     "exception": false,
     "start_time": "2022-05-14T17:06:56.537162",
     "status": "completed"
    },
    "tags": []
   },
   "outputs": [],
   "source": [
    "class Transformer(tf.keras.Model):\n",
    "    def __init__(self, num_layers, d_model, num_heads, dff, input_vocab_size, target_vocab_size, pe_input, pe_target, rate=0.1):\n",
    "        super(Transformer, self).__init__()\n",
    "\n",
    "        self.encoder = Encoder(num_layers, d_model, num_heads, dff, input_vocab_size, pe_input, rate)\n",
    "\n",
    "        self.decoder = Decoder(num_layers, d_model, num_heads, dff, target_vocab_size, pe_target, rate)\n",
    "\n",
    "        self.final_layer = tf.keras.layers.Dense(target_vocab_size)\n",
    "    \n",
    "    def call(self, inp, tar, training, enc_padding_mask, look_ahead_mask, dec_padding_mask):\n",
    "        enc_output = self.encoder(inp, training, enc_padding_mask)\n",
    "\n",
    "        dec_output, attention_weights = self.decoder(tar, enc_output, training, look_ahead_mask, dec_padding_mask)\n",
    "\n",
    "        final_output = self.final_layer(dec_output)\n",
    "\n",
    "        return final_output, attention_weights"
   ]
  },
  {
   "cell_type": "code",
   "execution_count": 27,
   "id": "abf5ef0d",
   "metadata": {
    "execution": {
     "iopub.execute_input": "2022-05-14T17:06:56.793871Z",
     "iopub.status.busy": "2022-05-14T17:06:56.793588Z",
     "iopub.status.idle": "2022-05-14T17:06:56.797798Z",
     "shell.execute_reply": "2022-05-14T17:06:56.797211Z"
    },
    "papermill": {
     "duration": 0.090927,
     "end_time": "2022-05-14T17:06:56.801439",
     "exception": false,
     "start_time": "2022-05-14T17:06:56.710512",
     "status": "completed"
    },
    "tags": []
   },
   "outputs": [],
   "source": [
    "num_layers = 3\n",
    "d_model = 128\n",
    "dff = 512\n",
    "num_heads = 4\n",
    "dropout_rate = 0.2\n",
    "EPOCHS = 30"
   ]
  },
  {
   "cell_type": "markdown",
   "id": "e9985c92",
   "metadata": {
    "papermill": {
     "duration": 0.121663,
     "end_time": "2022-05-14T17:06:57.004106",
     "exception": false,
     "start_time": "2022-05-14T17:06:56.882443",
     "status": "completed"
    },
    "tags": []
   },
   "source": [
    "# Custom Learning Rate"
   ]
  },
  {
   "cell_type": "code",
   "execution_count": 28,
   "id": "2fd9cfde",
   "metadata": {
    "execution": {
     "iopub.execute_input": "2022-05-14T17:06:57.287647Z",
     "iopub.status.busy": "2022-05-14T17:06:57.287339Z",
     "iopub.status.idle": "2022-05-14T17:06:57.296890Z",
     "shell.execute_reply": "2022-05-14T17:06:57.296257Z"
    },
    "papermill": {
     "duration": 0.103035,
     "end_time": "2022-05-14T17:06:57.299163",
     "exception": false,
     "start_time": "2022-05-14T17:06:57.196128",
     "status": "completed"
    },
    "tags": []
   },
   "outputs": [],
   "source": [
    "class CustomSchedule(tf.keras.optimizers.schedules.LearningRateSchedule):\n",
    "    def __init__(self, d_model, warmup_steps=4000):\n",
    "        super(CustomSchedule, self).__init__()\n",
    "\n",
    "        self.d_model = d_model\n",
    "        self.d_model = tf.cast(self.d_model, tf.float32)\n",
    "\n",
    "        self.warmup_steps = warmup_steps\n",
    "    \n",
    "    def __call__(self, step):\n",
    "        arg1 = tf.math.rsqrt(step)\n",
    "        arg2 = step * (self.warmup_steps ** -1.5)\n",
    "\n",
    "        return tf.math.rsqrt(self.d_model) * tf.math.minimum(arg1, arg2)"
   ]
  },
  {
   "cell_type": "code",
   "execution_count": 29,
   "id": "1a93d346",
   "metadata": {
    "execution": {
     "iopub.execute_input": "2022-05-14T17:06:57.463193Z",
     "iopub.status.busy": "2022-05-14T17:06:57.462897Z",
     "iopub.status.idle": "2022-05-14T17:06:57.470679Z",
     "shell.execute_reply": "2022-05-14T17:06:57.470060Z"
    },
    "papermill": {
     "duration": 0.096437,
     "end_time": "2022-05-14T17:06:57.472933",
     "exception": false,
     "start_time": "2022-05-14T17:06:57.376496",
     "status": "completed"
    },
    "tags": []
   },
   "outputs": [],
   "source": [
    "learning_rate = CustomSchedule(d_model)\n",
    "\n",
    "optimizer = tf.keras.optimizers.Adam(learning_rate, beta_1=0.9, beta_2=0.98, epsilon=1e-9)"
   ]
  },
  {
   "cell_type": "code",
   "execution_count": 30,
   "id": "d3afb46d",
   "metadata": {
    "execution": {
     "iopub.execute_input": "2022-05-14T17:06:57.634027Z",
     "iopub.status.busy": "2022-05-14T17:06:57.633750Z",
     "iopub.status.idle": "2022-05-14T17:06:58.172366Z",
     "shell.execute_reply": "2022-05-14T17:06:58.171706Z"
    },
    "papermill": {
     "duration": 0.622301,
     "end_time": "2022-05-14T17:06:58.174773",
     "exception": false,
     "start_time": "2022-05-14T17:06:57.552472",
     "status": "completed"
    },
    "tags": []
   },
   "outputs": [
    {
     "data": {
      "text/plain": [
       "Text(0.5, 0, 'Train Step')"
      ]
     },
     "execution_count": 30,
     "metadata": {},
     "output_type": "execute_result"
    },
    {
     "data": {
      "image/png": "[encoded data removed]",
      "text/plain": [
       "<Figure size 432x288 with 1 Axes>"
      ]
     },
     "metadata": {
      "needs_background": "light"
     },
     "output_type": "display_data"
    }
   ],
   "source": [
    "temp_learning_rate_schedule = CustomSchedule(d_model)\n",
    "\n",
    "plt.plot(temp_learning_rate_schedule(tf.range(40000, dtype=tf.float32)))\n",
    "plt.ylabel(\"Learning Rate\")\n",
    "plt.xlabel(\"Train Step\")"
   ]
  },
  {
   "cell_type": "markdown",
   "id": "1124765d",
   "metadata": {
    "papermill": {
     "duration": 0.048713,
     "end_time": "2022-05-14T17:06:58.278839",
     "exception": false,
     "start_time": "2022-05-14T17:06:58.230126",
     "status": "completed"
    },
    "tags": []
   },
   "source": [
    "# Custom Loss and Accuracy"
   ]
  },
  {
   "cell_type": "code",
   "execution_count": 31,
   "id": "4f682234",
   "metadata": {
    "execution": {
     "iopub.execute_input": "2022-05-14T17:06:58.378608Z",
     "iopub.status.busy": "2022-05-14T17:06:58.378358Z",
     "iopub.status.idle": "2022-05-14T17:06:58.385950Z",
     "shell.execute_reply": "2022-05-14T17:06:58.385183Z"
    },
    "papermill": {
     "duration": 0.060365,
     "end_time": "2022-05-14T17:06:58.387889",
     "exception": false,
     "start_time": "2022-05-14T17:06:58.327524",
     "status": "completed"
    },
    "tags": []
   },
   "outputs": [],
   "source": [
    "loss_object = tf.keras.losses.SparseCategoricalCrossentropy(from_logits=True, reduction='none')\n",
    "def loss_function(real, pred):\n",
    "    mask = tf.math.logical_not(tf.math.equal(real, 0))\n",
    "    loss_ = loss_object(real, pred)\n",
    "\n",
    "    mask = tf.cast(mask, dtype=loss_.dtype)\n",
    "    loss_ *= mask\n",
    "\n",
    "    return tf.reduce_sum(loss_)/tf.reduce_sum(mask)\n",
    "\n",
    "\n",
    "def accuracy_function(real, pred):\n",
    "    accuracies = tf.equal(real, tf.argmax(pred, axis=2))\n",
    "    #accuracies = tf.cast(accuracies, dtype= tf.float32)\n",
    "\n",
    "    mask = tf.math.logical_not(tf.math.equal(real, 0))\n",
    "    accuracies = tf.math.logical_and(mask, accuracies)\n",
    "\n",
    "    accuracies = tf.cast(accuracies, dtype=tf.float32)\n",
    "    mask = tf.cast(mask, dtype=tf.float32)\n",
    "    return tf.reduce_sum(accuracies)/tf.reduce_sum(mask)"
   ]
  },
  {
   "cell_type": "code",
   "execution_count": 32,
   "id": "1c930c05",
   "metadata": {
    "execution": {
     "iopub.execute_input": "2022-05-14T17:06:58.486762Z",
     "iopub.status.busy": "2022-05-14T17:06:58.486576Z",
     "iopub.status.idle": "2022-05-14T17:06:58.514379Z",
     "shell.execute_reply": "2022-05-14T17:06:58.513778Z"
    },
    "papermill": {
     "duration": 0.079014,
     "end_time": "2022-05-14T17:06:58.516068",
     "exception": false,
     "start_time": "2022-05-14T17:06:58.437054",
     "status": "completed"
    },
    "tags": []
   },
   "outputs": [],
   "source": [
    "train_loss = tf.keras.metrics.Mean(name='train_loss')\n",
    "train_accuracy = tf.keras.metrics.Mean(name='train_accuracy')"
   ]
  },
  {
   "cell_type": "code",
   "execution_count": 33,
   "id": "5c0ddffb",
   "metadata": {
    "execution": {
     "iopub.execute_input": "2022-05-14T17:06:58.615236Z",
     "iopub.status.busy": "2022-05-14T17:06:58.615036Z",
     "iopub.status.idle": "2022-05-14T17:06:58.703952Z",
     "shell.execute_reply": "2022-05-14T17:06:58.703288Z"
    },
    "papermill": {
     "duration": 0.14037,
     "end_time": "2022-05-14T17:06:58.705959",
     "exception": false,
     "start_time": "2022-05-14T17:06:58.565589",
     "status": "completed"
    },
    "tags": []
   },
   "outputs": [],
   "source": [
    "transformer = Transformer(\n",
    "    num_layers=num_layers,\n",
    "    d_model=d_model,\n",
    "    num_heads=num_heads,\n",
    "    dff=dff,\n",
    "    input_vocab_size=ENCODER_VOCAB,\n",
    "    target_vocab_size=DECODER_VOCAB,\n",
    "    pe_input=1000,\n",
    "    pe_target=1000,\n",
    "    rate=dropout_rate)"
   ]
  },
  {
   "cell_type": "code",
   "execution_count": 34,
   "id": "9b9cc55c",
   "metadata": {
    "execution": {
     "iopub.execute_input": "2022-05-14T17:06:58.804984Z",
     "iopub.status.busy": "2022-05-14T17:06:58.804788Z",
     "iopub.status.idle": "2022-05-14T17:06:58.809151Z",
     "shell.execute_reply": "2022-05-14T17:06:58.808525Z"
    },
    "papermill": {
     "duration": 0.05613,
     "end_time": "2022-05-14T17:06:58.810907",
     "exception": false,
     "start_time": "2022-05-14T17:06:58.754777",
     "status": "completed"
    },
    "tags": []
   },
   "outputs": [],
   "source": [
    "def create_masks(inp, tar):\n",
    "    enc_padding_mask = create_padding_mask(inp)\n",
    "    dec_padding_mask = create_padding_mask(inp)\n",
    "\n",
    "    look_ahead_mask = create_look_ahead_mask(tf.shape(tar)[1])\n",
    "    dec_target_padding_mask = create_padding_mask(tar)\n",
    "    combined_mask = tf.maximum(dec_target_padding_mask, look_ahead_mask)\n",
    "  \n",
    "    return enc_padding_mask, combined_mask, dec_padding_mask"
   ]
  },
  {
   "cell_type": "code",
   "execution_count": 35,
   "id": "f7993fd9",
   "metadata": {
    "execution": {
     "iopub.execute_input": "2022-05-14T17:06:58.910019Z",
     "iopub.status.busy": "2022-05-14T17:06:58.909705Z",
     "iopub.status.idle": "2022-05-14T17:06:58.917063Z",
     "shell.execute_reply": "2022-05-14T17:06:58.916340Z"
    },
    "papermill": {
     "duration": 0.059159,
     "end_time": "2022-05-14T17:06:58.918725",
     "exception": false,
     "start_time": "2022-05-14T17:06:58.859566",
     "status": "completed"
    },
    "tags": []
   },
   "outputs": [],
   "source": [
    "checkpoint_path = \"checkpoints\"\n",
    "\n",
    "ckpt = tf.train.Checkpoint(transformer=transformer, optimizer=optimizer)\n",
    "\n",
    "ckpt_manager = tf.train.CheckpointManager(ckpt, checkpoint_path, max_to_keep=5)\n",
    "\n",
    "if ckpt_manager.latest_checkpoint:\n",
    "    ckpt.restore(ckpt_manager.latest_checkpoint)\n",
    "    print ('Latest checkpoint restored!!')"
   ]
  },
  {
   "cell_type": "code",
   "execution_count": 36,
   "id": "365e1576",
   "metadata": {
    "execution": {
     "iopub.execute_input": "2022-05-14T17:06:59.019883Z",
     "iopub.status.busy": "2022-05-14T17:06:59.019184Z",
     "iopub.status.idle": "2022-05-14T17:06:59.025742Z",
     "shell.execute_reply": "2022-05-14T17:06:59.025053Z"
    },
    "papermill": {
     "duration": 0.058677,
     "end_time": "2022-05-14T17:06:59.027462",
     "exception": false,
     "start_time": "2022-05-14T17:06:58.968785",
     "status": "completed"
    },
    "tags": []
   },
   "outputs": [],
   "source": [
    "@tf.function\n",
    "def train_step(inp, tar):\n",
    "    tar_inp = tar[:, :-1]\n",
    "    tar_real = tar[:, 1:]\n",
    "\n",
    "    enc_padding_mask, combined_mask, dec_padding_mask = create_masks(inp, tar_inp)\n",
    "\n",
    "    with tf.GradientTape() as tape:\n",
    "        predictions, _ = transformer(\n",
    "            inp, tar_inp, \n",
    "            True, \n",
    "            enc_padding_mask, \n",
    "            combined_mask, \n",
    "            dec_padding_mask\n",
    "        )\n",
    "        loss = loss_function(tar_real, predictions)\n",
    "\n",
    "    gradients = tape.gradient(loss, transformer.trainable_variables)    \n",
    "    optimizer.apply_gradients(zip(gradients, transformer.trainable_variables))\n",
    "\n",
    "    train_loss(loss)\n",
    "    train_accuracy(accuracy_function(tar_real, predictions))"
   ]
  },
  {
   "cell_type": "markdown",
   "id": "cfb32ce6",
   "metadata": {
    "papermill": {
     "duration": 0.048526,
     "end_time": "2022-05-14T17:06:59.125448",
     "exception": false,
     "start_time": "2022-05-14T17:06:59.076922",
     "status": "completed"
    },
    "tags": []
   },
   "source": [
    "# Training the Model"
   ]
  },
  {
   "cell_type": "code",
   "execution_count": 37,
   "id": "481991a7",
   "metadata": {
    "execution": {
     "iopub.execute_input": "2022-05-14T17:06:59.224738Z",
     "iopub.status.busy": "2022-05-14T17:06:59.224530Z",
     "iopub.status.idle": "2022-05-14T17:22:53.891817Z",
     "shell.execute_reply": "2022-05-14T17:22:53.890959Z"
    },
    "papermill": {
     "duration": 954.720957,
     "end_time": "2022-05-14T17:22:53.895015",
     "exception": false,
     "start_time": "2022-05-14T17:06:59.174058",
     "status": "completed"
    },
    "tags": []
   },
   "outputs": [
    {
     "name": "stderr",
     "output_type": "stream",
     "text": [
      "2022-05-14 17:07:04.411996: I tensorflow/compiler/mlir/mlir_graph_optimization_pass.cc:185] None of the MLIR Optimization Passes are enabled (registered 2)\n"
     ]
    },
    {
     "name": "stdout",
     "output_type": "stream",
     "text": [
      "Epoch 1 Batch 0 Loss 9.7937 Accuracy 0.0000\n",
      "Epoch 1 Batch 100 Loss 9.7037 Accuracy 0.0328\n",
      "Epoch 1 Batch 200 Loss 9.5180 Accuracy 0.0380\n",
      "Epoch 1 Loss 9.4386 Accuracy 0.0386\n",
      "Time taken for 1 epoch: 41.53263783454895 secs\n",
      "\n",
      "Epoch 2 Batch 0 Loss 8.8213 Accuracy 0.0386\n",
      "Epoch 2 Batch 100 Loss 8.4018 Accuracy 0.0465\n",
      "Epoch 2 Batch 200 Loss 8.1119 Accuracy 0.0457\n",
      "Epoch 2 Loss 8.0341 Accuracy 0.0455\n",
      "Time taken for 1 epoch: 31.448057651519775 secs\n",
      "\n",
      "Epoch 3 Batch 0 Loss 7.5781 Accuracy 0.0455\n",
      "Epoch 3 Batch 100 Loss 7.4654 Accuracy 0.0489\n",
      "Epoch 3 Batch 200 Loss 7.4929 Accuracy 0.0482\n",
      "Epoch 3 Loss 7.4713 Accuracy 0.0483\n",
      "Time taken for 1 epoch: 31.416637182235718 secs\n",
      "\n",
      "Epoch 4 Batch 0 Loss 7.5099 Accuracy 0.0482\n",
      "Epoch 4 Batch 100 Loss 7.2872 Accuracy 0.0510\n",
      "Epoch 4 Batch 200 Loss 7.3044 Accuracy 0.0511\n",
      "Epoch 4 Loss 7.2742 Accuracy 0.0513\n",
      "Time taken for 1 epoch: 31.419694423675537 secs\n",
      "\n",
      "Epoch 5 Batch 0 Loss 7.3028 Accuracy 0.0513\n",
      "Epoch 5 Batch 100 Loss 6.9309 Accuracy 0.0541\n",
      "Epoch 5 Batch 200 Loss 6.9451 Accuracy 0.0549\n",
      "Saving checkpoint for epoch 5 at checkpoints/ckpt-1\n",
      "Epoch 5 Loss 6.9091 Accuracy 0.0554\n",
      "Time taken for 1 epoch: 31.844143390655518 secs\n",
      "\n",
      "Epoch 6 Batch 0 Loss 6.9840 Accuracy 0.0554\n",
      "Epoch 6 Batch 100 Loss 6.5463 Accuracy 0.0586\n",
      "Epoch 6 Batch 200 Loss 6.5761 Accuracy 0.0601\n",
      "Epoch 6 Loss 6.5430 Accuracy 0.0608\n",
      "Time taken for 1 epoch: 31.392009019851685 secs\n",
      "\n",
      "Epoch 7 Batch 0 Loss 6.6021 Accuracy 0.0608\n",
      "Epoch 7 Batch 100 Loss 6.2063 Accuracy 0.0644\n",
      "Epoch 7 Batch 200 Loss 6.2383 Accuracy 0.0665\n",
      "Epoch 7 Loss 6.1977 Accuracy 0.0675\n",
      "Time taken for 1 epoch: 31.418433904647827 secs\n",
      "\n",
      "Epoch 8 Batch 0 Loss 6.2679 Accuracy 0.0675\n",
      "Epoch 8 Batch 100 Loss 5.8895 Accuracy 0.0713\n",
      "Epoch 8 Batch 200 Loss 5.9353 Accuracy 0.0738\n",
      "Epoch 8 Loss 5.8851 Accuracy 0.0750\n",
      "Time taken for 1 epoch: 31.392719268798828 secs\n",
      "\n",
      "Epoch 9 Batch 0 Loss 5.9608 Accuracy 0.0750\n",
      "Epoch 9 Batch 100 Loss 5.5921 Accuracy 0.0791\n",
      "Epoch 9 Batch 200 Loss 5.6407 Accuracy 0.0819\n",
      "Epoch 9 Loss 5.5927 Accuracy 0.0831\n",
      "Time taken for 1 epoch: 31.409181833267212 secs\n",
      "\n",
      "Epoch 10 Batch 0 Loss 5.9098 Accuracy 0.0831\n",
      "Epoch 10 Batch 100 Loss 5.3259 Accuracy 0.0871\n",
      "Epoch 10 Batch 200 Loss 5.3824 Accuracy 0.0901\n",
      "Saving checkpoint for epoch 10 at checkpoints/ckpt-2\n",
      "Epoch 10 Loss 5.3273 Accuracy 0.0914\n",
      "Time taken for 1 epoch: 31.77120280265808 secs\n",
      "\n",
      "Epoch 11 Batch 0 Loss 5.7035 Accuracy 0.0914\n",
      "Epoch 11 Batch 100 Loss 5.0618 Accuracy 0.0955\n",
      "Epoch 11 Batch 200 Loss 5.1214 Accuracy 0.0986\n",
      "Epoch 11 Loss 5.0652 Accuracy 0.0999\n",
      "Time taken for 1 epoch: 31.407734155654907 secs\n",
      "\n",
      "Epoch 12 Batch 0 Loss 5.4337 Accuracy 0.0999\n",
      "Epoch 12 Batch 100 Loss 4.8041 Accuracy 0.1041\n",
      "Epoch 12 Batch 200 Loss 4.8740 Accuracy 0.1072\n",
      "Epoch 12 Loss 4.8174 Accuracy 0.1086\n",
      "Time taken for 1 epoch: 31.405505895614624 secs\n",
      "\n",
      "Epoch 13 Batch 0 Loss 5.1686 Accuracy 0.1086\n",
      "Epoch 13 Batch 100 Loss 4.5610 Accuracy 0.1128\n",
      "Epoch 13 Batch 200 Loss 4.6425 Accuracy 0.1160\n",
      "Epoch 13 Loss 4.5871 Accuracy 0.1173\n",
      "Time taken for 1 epoch: 31.39983892440796 secs\n",
      "\n",
      "Epoch 14 Batch 0 Loss 4.9061 Accuracy 0.1173\n",
      "Epoch 14 Batch 100 Loss 4.3228 Accuracy 0.1216\n",
      "Epoch 14 Batch 200 Loss 4.4111 Accuracy 0.1248\n",
      "Epoch 14 Loss 4.3601 Accuracy 0.1261\n",
      "Time taken for 1 epoch: 31.39841628074646 secs\n",
      "\n",
      "Epoch 15 Batch 0 Loss 4.8694 Accuracy 0.1261\n",
      "Epoch 15 Batch 100 Loss 4.1012 Accuracy 0.1304\n",
      "Epoch 15 Batch 200 Loss 4.2022 Accuracy 0.1337\n",
      "Saving checkpoint for epoch 15 at checkpoints/ckpt-3\n",
      "Epoch 15 Loss 4.1483 Accuracy 0.1350\n",
      "Time taken for 1 epoch: 31.784632682800293 secs\n",
      "\n",
      "Epoch 16 Batch 0 Loss 4.5519 Accuracy 0.1350\n",
      "Epoch 16 Batch 100 Loss 3.9044 Accuracy 0.1393\n",
      "Epoch 16 Batch 200 Loss 4.0134 Accuracy 0.1425\n",
      "Epoch 16 Loss 3.9625 Accuracy 0.1439\n",
      "Time taken for 1 epoch: 31.399699449539185 secs\n",
      "\n",
      "Epoch 17 Batch 0 Loss 4.4514 Accuracy 0.1439\n",
      "Epoch 17 Batch 100 Loss 3.7087 Accuracy 0.1481\n",
      "Epoch 17 Batch 200 Loss 3.8326 Accuracy 0.1513\n",
      "Epoch 17 Loss 3.7840 Accuracy 0.1526\n",
      "Time taken for 1 epoch: 31.407371520996094 secs\n",
      "\n",
      "Epoch 18 Batch 0 Loss 4.2410 Accuracy 0.1527\n",
      "Epoch 18 Batch 100 Loss 3.5417 Accuracy 0.1569\n",
      "Epoch 18 Batch 200 Loss 3.6739 Accuracy 0.1600\n",
      "Epoch 18 Loss 3.6290 Accuracy 0.1613\n",
      "Time taken for 1 epoch: 31.386654376983643 secs\n",
      "\n",
      "Epoch 19 Batch 0 Loss 4.0397 Accuracy 0.1613\n",
      "Epoch 19 Batch 100 Loss 3.3556 Accuracy 0.1655\n",
      "Epoch 19 Batch 200 Loss 3.5009 Accuracy 0.1687\n",
      "Epoch 19 Loss 3.4568 Accuracy 0.1700\n",
      "Time taken for 1 epoch: 31.401227235794067 secs\n",
      "\n",
      "Epoch 20 Batch 0 Loss 3.9090 Accuracy 0.1700\n",
      "Epoch 20 Batch 100 Loss 3.1910 Accuracy 0.1743\n",
      "Epoch 20 Batch 200 Loss 3.3393 Accuracy 0.1775\n",
      "Saving checkpoint for epoch 20 at checkpoints/ckpt-4\n",
      "Epoch 20 Loss 3.3016 Accuracy 0.1788\n",
      "Time taken for 1 epoch: 31.766707181930542 secs\n",
      "\n",
      "Epoch 21 Batch 0 Loss 3.6758 Accuracy 0.1788\n",
      "Epoch 21 Batch 100 Loss 3.0370 Accuracy 0.1831\n",
      "Epoch 21 Batch 200 Loss 3.1967 Accuracy 0.1862\n",
      "Epoch 21 Loss 3.1618 Accuracy 0.1875\n",
      "Time taken for 1 epoch: 31.393362522125244 secs\n",
      "\n",
      "Epoch 22 Batch 0 Loss 3.4813 Accuracy 0.1875\n",
      "Epoch 22 Batch 100 Loss 2.9109 Accuracy 0.1918\n",
      "Epoch 22 Batch 200 Loss 3.0740 Accuracy 0.1949\n",
      "Epoch 22 Loss 3.0429 Accuracy 0.1962\n",
      "Time taken for 1 epoch: 31.400158166885376 secs\n",
      "\n",
      "Epoch 23 Batch 0 Loss 3.3826 Accuracy 0.1962\n",
      "Epoch 23 Batch 100 Loss 2.7863 Accuracy 0.2004\n",
      "Epoch 23 Batch 200 Loss 2.9553 Accuracy 0.2035\n",
      "Epoch 23 Loss 2.9275 Accuracy 0.2047\n",
      "Time taken for 1 epoch: 31.39759874343872 secs\n",
      "\n",
      "Epoch 24 Batch 0 Loss 3.2364 Accuracy 0.2047\n",
      "Epoch 24 Batch 100 Loss 2.6781 Accuracy 0.2089\n",
      "Epoch 24 Batch 200 Loss 2.8513 Accuracy 0.2120\n",
      "Epoch 24 Loss 2.8224 Accuracy 0.2132\n",
      "Time taken for 1 epoch: 31.409650325775146 secs\n",
      "\n",
      "Epoch 25 Batch 0 Loss 3.4037 Accuracy 0.2132\n",
      "Epoch 25 Batch 100 Loss 2.5755 Accuracy 0.2174\n",
      "Epoch 25 Batch 200 Loss 2.7538 Accuracy 0.2204\n",
      "Saving checkpoint for epoch 25 at checkpoints/ckpt-5\n",
      "Epoch 25 Loss 2.7316 Accuracy 0.2215\n",
      "Time taken for 1 epoch: 31.76219129562378 secs\n",
      "\n",
      "Epoch 26 Batch 0 Loss 3.2648 Accuracy 0.2216\n",
      "Epoch 26 Batch 100 Loss 2.4940 Accuracy 0.2256\n",
      "Epoch 26 Batch 200 Loss 2.6721 Accuracy 0.2286\n",
      "Epoch 26 Loss 2.6463 Accuracy 0.2297\n",
      "Time taken for 1 epoch: 31.38611888885498 secs\n",
      "\n",
      "Epoch 27 Batch 0 Loss 2.8836 Accuracy 0.2298\n",
      "Epoch 27 Batch 100 Loss 2.4146 Accuracy 0.2337\n",
      "Epoch 27 Batch 200 Loss 2.5944 Accuracy 0.2366\n",
      "Epoch 27 Loss 2.5728 Accuracy 0.2377\n",
      "Time taken for 1 epoch: 31.400242567062378 secs\n",
      "\n",
      "Epoch 28 Batch 0 Loss 3.0168 Accuracy 0.2377\n",
      "Epoch 28 Batch 100 Loss 2.3465 Accuracy 0.2416\n",
      "Epoch 28 Batch 200 Loss 2.5224 Accuracy 0.2444\n",
      "Epoch 28 Loss 2.5022 Accuracy 0.2455\n",
      "Time taken for 1 epoch: 31.39923405647278 secs\n",
      "\n",
      "Epoch 29 Batch 0 Loss 2.8339 Accuracy 0.2455\n",
      "Epoch 29 Batch 100 Loss 2.2726 Accuracy 0.2493\n",
      "Epoch 29 Batch 200 Loss 2.4458 Accuracy 0.2521\n",
      "Epoch 29 Loss 2.4297 Accuracy 0.2531\n",
      "Time taken for 1 epoch: 31.398504495620728 secs\n",
      "\n",
      "Epoch 30 Batch 0 Loss 2.7461 Accuracy 0.2531\n",
      "Epoch 30 Batch 100 Loss 2.1954 Accuracy 0.2568\n",
      "Epoch 30 Batch 200 Loss 2.3842 Accuracy 0.2595\n",
      "Saving checkpoint for epoch 30 at checkpoints/ckpt-6\n",
      "Epoch 30 Loss 2.3708 Accuracy 0.2605\n",
      "Time taken for 1 epoch: 31.90864634513855 secs\n",
      "\n"
     ]
    }
   ],
   "source": [
    "for epoch in range(EPOCHS):\n",
    "    start = time.time()\n",
    "\n",
    "    train_loss.reset_states()\n",
    "  \n",
    "    for (batch, (inp, tar)) in enumerate(dataset):\n",
    "        train_step(inp, tar)\n",
    "    \n",
    "        if batch % 100 == 0:\n",
    "            print(f'Epoch {epoch + 1} Batch {batch} Loss {train_loss.result():.4f} Accuracy {train_accuracy.result():.4f}')\n",
    "      \n",
    "    if (epoch + 1) % 5 == 0:\n",
    "        ckpt_save_path = ckpt_manager.save()\n",
    "        print ('Saving checkpoint for epoch {} at {}'.format(epoch+1, ckpt_save_path))\n",
    "   \n",
    "    print(f'Epoch {epoch + 1} Loss {train_loss.result():.4f} Accuracy {train_accuracy.result():.4f}')\n",
    "    print ('Time taken for 1 epoch: {} secs\\n'.format(time.time() - start))"
   ]
  },
  {
   "cell_type": "markdown",
   "id": "c8efc23f",
   "metadata": {
    "papermill": {
     "duration": 0.214713,
     "end_time": "2022-05-14T17:22:54.415603",
     "exception": false,
     "start_time": "2022-05-14T17:22:54.200890",
     "status": "completed"
    },
    "tags": []
   },
   "source": [
    "# Evaluation"
   ]
  },
  {
   "cell_type": "code",
   "execution_count": 38,
   "id": "3c8e6d0c",
   "metadata": {
    "execution": {
     "iopub.execute_input": "2022-05-14T17:22:54.667876Z",
     "iopub.status.busy": "2022-05-14T17:22:54.667568Z",
     "iopub.status.idle": "2022-05-14T17:22:54.678337Z",
     "shell.execute_reply": "2022-05-14T17:22:54.677725Z"
    },
    "papermill": {
     "duration": 0.142534,
     "end_time": "2022-05-14T17:22:54.682461",
     "exception": false,
     "start_time": "2022-05-14T17:22:54.539927",
     "status": "completed"
    },
    "tags": []
   },
   "outputs": [],
   "source": [
    "def evaluate(input_article):\n",
    "    input_article = article_tokenizer.texts_to_sequences([input_article])\n",
    "    input_article = tf.keras.preprocessing.sequence.pad_sequences(input_article, maxlen=ENCODER_LEN, \n",
    "                                                                   padding='post', truncating='post')\n",
    "\n",
    "    encoder_input = tf.expand_dims(input_article[0], 0)\n",
    "\n",
    "    decoder_input = [summary_tokenizer.word_index['<sos>']]\n",
    "    output = tf.expand_dims(decoder_input, 0)\n",
    "    \n",
    "    for i in range(DECODER_LEN):\n",
    "        enc_padding_mask, combined_mask, dec_padding_mask = create_masks(encoder_input, output)\n",
    "\n",
    "        predictions, attention_weights = transformer(\n",
    "            encoder_input, \n",
    "            output,\n",
    "            False,\n",
    "            enc_padding_mask,\n",
    "            combined_mask,\n",
    "            dec_padding_mask\n",
    "        )\n",
    "\n",
    "        predictions = predictions[: ,-1:, :]\n",
    "        predicted_id = tf.cast(tf.argmax(predictions, axis=-1), tf.int32)\n",
    "\n",
    "        if predicted_id == summary_tokenizer.word_index['<eos>']:\n",
    "            return tf.squeeze(output, axis=0), attention_weights\n",
    "\n",
    "        output = tf.concat([output, predicted_id], axis=-1)\n",
    "\n",
    "    return tf.squeeze(output, axis=0), attention_weights"
   ]
  },
  {
   "cell_type": "code",
   "execution_count": 39,
   "id": "b5898126",
   "metadata": {
    "execution": {
     "iopub.execute_input": "2022-05-14T17:22:54.934011Z",
     "iopub.status.busy": "2022-05-14T17:22:54.933505Z",
     "iopub.status.idle": "2022-05-14T17:22:54.938669Z",
     "shell.execute_reply": "2022-05-14T17:22:54.938063Z"
    },
    "papermill": {
     "duration": 0.134705,
     "end_time": "2022-05-14T17:22:54.941995",
     "exception": false,
     "start_time": "2022-05-14T17:22:54.807290",
     "status": "completed"
    },
    "tags": []
   },
   "outputs": [],
   "source": [
    "def summarize(input_article):\n",
    "    summarized = evaluate(input_article=input_article)[0].numpy()\n",
    "    summarized = np.expand_dims(summarized[1:], 0)  \n",
    "    return summary_tokenizer.sequences_to_texts(summarized)[0]"
   ]
  },
  {
   "cell_type": "markdown",
   "id": "f26b4a20",
   "metadata": {
    "papermill": {
     "duration": 0.128246,
     "end_time": "2022-05-14T17:22:55.197278",
     "exception": false,
     "start_time": "2022-05-14T17:22:55.069032",
     "status": "completed"
    },
    "tags": []
   },
   "source": [
    "# Predictions"
   ]
  },
  {
   "cell_type": "code",
   "execution_count": 40,
   "id": "af104e73",
   "metadata": {
    "execution": {
     "iopub.execute_input": "2022-05-14T17:22:55.363198Z",
     "iopub.status.busy": "2022-05-14T17:22:55.362940Z",
     "iopub.status.idle": "2022-05-14T17:22:55.368326Z",
     "shell.execute_reply": "2022-05-14T17:22:55.367545Z"
    },
    "papermill": {
     "duration": 0.085887,
     "end_time": "2022-05-14T17:22:55.371000",
     "exception": false,
     "start_time": "2022-05-14T17:22:55.285113",
     "status": "completed"
    },
    "tags": []
   },
   "outputs": [
    {
     "data": {
      "text/plain": [
       "'<SOS> trong dịp này ông cũng bày_tỏ cam_kết mạnh_mẽ của chính_phủ anh trong việc phòng_chống nạn mua_bán người và ngăn_chặn những thảm_kịch tương_tự tái_diễn đợt đầu_tiên vận_chuyển thi_hài nạn_nhân trong vụ xe_tải anh về tới việt_nam thi_hài được chuyển từ sân_bay london heathrow hôm và về tới sân_bay nội bài hà_nội vào sáng hôm thứ tư bản tin bảo_hộ công_dân của bộ ngoại_giao việt_nam xác_nhận việc tiếp_nhận thi_hài này sáng ngày thực_hiện chỉ_đạo của thủ_tướng chính_phủ bộ ngoại_giao đã phối_hợp với các cơ_quan_chức_năng và địa_phương trong nước đưa trong tổng_số thi hàidi hài của các nạn_nhân thiệt_mạng tại hạt essex đông bắc london anh về tới sân_bay nội bài ngay sau khi hạ_cánh đại_diện các địa_phương có người bị nạn là nghệ_an hà_tĩnh và quảng_bình đã tiếp_nhận và đưa nạn_nhân về địa_phương để bàn_giao cho gia_đình bản tin này mô_tả hiện các cơ_quan_chức_năng của việt_nam và anh đang tiếp_tục phối_hợp chặt_chẽ để sớm đưa các nạn_nhân còn lại về nước truyền_thông trong nước đưa tin người_nhà nạn_nhân không ra sân_bay nội bài vì lý_do an_ninh <EOS>'"
      ]
     },
     "execution_count": 40,
     "metadata": {},
     "output_type": "execute_result"
    }
   ],
   "source": [
    "article[16]"
   ]
  },
  {
   "cell_type": "code",
   "execution_count": 41,
   "id": "9e522fef",
   "metadata": {
    "execution": {
     "iopub.execute_input": "2022-05-14T17:22:55.526071Z",
     "iopub.status.busy": "2022-05-14T17:22:55.525883Z",
     "iopub.status.idle": "2022-05-14T17:22:57.288732Z",
     "shell.execute_reply": "2022-05-14T17:22:57.286945Z"
    },
    "papermill": {
     "duration": 1.842623,
     "end_time": "2022-05-14T17:22:57.290616",
     "exception": false,
     "start_time": "2022-05-14T17:22:55.447993",
     "status": "completed"
    },
    "tags": []
   },
   "outputs": [
    {
     "name": "stdout",
     "output_type": "stream",
     "text": [
      "Original summary :   đại_sứ anh tại việt_nam ngài gareth ward chia buồn cùng nạn_nhân thảm_kịch người trên xe thùng  \n",
      "Predicted Summary :  một cặp vợ_chồng trẻ tuổi đã bị cục đăng_kiểm đức_thọ hà_tĩnh phát_hiện và một trong một cụ_già trên đường đi qua\n"
     ]
    }
   ],
   "source": [
    "print(\"Original summary : \", summary[16][5:-5],\"\\nPredicted Summary : \", summarize(article[16]))"
   ]
  },
  {
   "cell_type": "code",
   "execution_count": 42,
   "id": "63b787d5",
   "metadata": {
    "execution": {
     "iopub.execute_input": "2022-05-14T17:22:57.446016Z",
     "iopub.status.busy": "2022-05-14T17:22:57.445798Z",
     "iopub.status.idle": "2022-05-14T17:22:59.265628Z",
     "shell.execute_reply": "2022-05-14T17:22:59.263974Z"
    },
    "papermill": {
     "duration": 1.899495,
     "end_time": "2022-05-14T17:22:59.267507",
     "exception": false,
     "start_time": "2022-05-14T17:22:57.368012",
     "status": "completed"
    },
    "tags": []
   },
   "outputs": [
    {
     "name": "stdout",
     "output_type": "stream",
     "text": [
      "Original summary :   uỷ_ban châu_âu công_bố kế_hoạch cho_phép người tị_nạn vào châu_âu trong hai năm tới để đối_phó khủng_hoảng di_dân  \n",
      "Predicted Summary :  một chuyên_gia về trụ_sở của tờ china daily của nga đã có thêm nhiều loại xe khác nhau thông_qua nền_tảng game tại khu_vực\n"
     ]
    }
   ],
   "source": [
    "print(\"Original summary : \", summary[15][5:-5],\"\\nPredicted Summary : \", summarize(article[15]))"
   ]
  },
  {
   "cell_type": "markdown",
   "id": "3bdcdfb0",
   "metadata": {
    "papermill": {
     "duration": 0.077072,
     "end_time": "2022-05-14T17:22:59.422600",
     "exception": false,
     "start_time": "2022-05-14T17:22:59.345528",
     "status": "completed"
    },
    "tags": []
   },
   "source": [
    "# Calculating Rouge Scores"
   ]
  },
  {
   "cell_type": "code",
   "execution_count": 43,
   "id": "1d72a955",
   "metadata": {
    "execution": {
     "iopub.execute_input": "2022-05-14T17:22:59.577210Z",
     "iopub.status.busy": "2022-05-14T17:22:59.576668Z",
     "iopub.status.idle": "2022-05-14T17:25:58.305195Z",
     "shell.execute_reply": "2022-05-14T17:25:58.304414Z"
    },
    "papermill": {
     "duration": 178.808506,
     "end_time": "2022-05-14T17:25:58.307744",
     "exception": false,
     "start_time": "2022-05-14T17:22:59.499238",
     "status": "completed"
    },
    "tags": []
   },
   "outputs": [],
   "source": [
    "reference = []\n",
    "hypothesis = []\n",
    "\n",
    "\n",
    "for i in range(0, 100):\n",
    "    reference.append(summary[i][5:-5])\n",
    "    hypothesis.append(summarize(article[i]))"
   ]
  },
  {
   "cell_type": "code",
   "execution_count": 44,
   "id": "30d5609a",
   "metadata": {
    "execution": {
     "iopub.execute_input": "2022-05-14T17:25:58.463817Z",
     "iopub.status.busy": "2022-05-14T17:25:58.463593Z",
     "iopub.status.idle": "2022-05-14T17:26:07.850023Z",
     "shell.execute_reply": "2022-05-14T17:26:07.849196Z"
    },
    "papermill": {
     "duration": 9.466794,
     "end_time": "2022-05-14T17:26:07.852542",
     "exception": false,
     "start_time": "2022-05-14T17:25:58.385748",
     "status": "completed"
    },
    "tags": []
   },
   "outputs": [
    {
     "name": "stdout",
     "output_type": "stream",
     "text": [
      "Collecting rouge\r\n",
      "  Downloading rouge-1.0.1-py3-none-any.whl (13 kB)\r\n",
      "Requirement already satisfied: six in /opt/conda/lib/python3.7/site-packages (from rouge) (1.16.0)\r\n",
      "Installing collected packages: rouge\r\n",
      "Successfully installed rouge-1.0.1\r\n",
      "\u001b[33mWARNING: Running pip as the 'root' user can result in broken permissions and conflicting behaviour with the system package manager. It is recommended to use a virtual environment instead: https://pip.pypa.io/warnings/venv\u001b[0m\u001b[33m\r\n",
      "\u001b[0m"
     ]
    }
   ],
   "source": [
    "! pip install rouge"
   ]
  },
  {
   "cell_type": "code",
   "execution_count": 45,
   "id": "998259da",
   "metadata": {
    "execution": {
     "iopub.execute_input": "2022-05-14T17:26:08.012741Z",
     "iopub.status.busy": "2022-05-14T17:26:08.012508Z",
     "iopub.status.idle": "2022-05-14T17:26:08.020819Z",
     "shell.execute_reply": "2022-05-14T17:26:08.020215Z"
    },
    "papermill": {
     "duration": 0.090044,
     "end_time": "2022-05-14T17:26:08.022510",
     "exception": false,
     "start_time": "2022-05-14T17:26:07.932466",
     "status": "completed"
    },
    "tags": []
   },
   "outputs": [],
   "source": [
    "from rouge import Rouge"
   ]
  },
  {
   "cell_type": "code",
   "execution_count": 46,
   "id": "9cfe5712",
   "metadata": {
    "execution": {
     "iopub.execute_input": "2022-05-14T17:26:08.180886Z",
     "iopub.status.busy": "2022-05-14T17:26:08.180499Z",
     "iopub.status.idle": "2022-05-14T17:26:08.248128Z",
     "shell.execute_reply": "2022-05-14T17:26:08.247383Z"
    },
    "papermill": {
     "duration": 0.148437,
     "end_time": "2022-05-14T17:26:08.249818",
     "exception": false,
     "start_time": "2022-05-14T17:26:08.101381",
     "status": "completed"
    },
    "tags": []
   },
   "outputs": [
    {
     "data": {
      "text/plain": [
       "{'rouge-1': {'r': 0.0948441733622093,\n",
       "  'p': 0.09105246388697155,\n",
       "  'f': 0.08983147148830435},\n",
       " 'rouge-2': {'r': 0.006848283960048666,\n",
       "  'p': 0.006755654472262615,\n",
       "  'f': 0.006644484537027826},\n",
       " 'rouge-l': {'r': 0.07519482602442515,\n",
       "  'p': 0.07293393369559728,\n",
       "  'f': 0.07162781743731786}}"
      ]
     },
     "execution_count": 46,
     "metadata": {},
     "output_type": "execute_result"
    }
   ],
   "source": [
    "score = Rouge()\n",
    "score.get_scores(hypothesis, reference, avg = True)"
   ]
  }
 ],
 "metadata": {
  "kernelspec": {
   "display_name": "Python 3",
   "language": "python",
   "name": "python3"
  },
  "language_info": {
   "codemirror_mode": {
    "name": "ipython",
    "version": 3
   },
   "file_extension": ".py",
   "mimetype": "text/x-python",
   "name": "python",
   "nbconvert_exporter": "python",
   "pygments_lexer": "ipython3",
   "version": "3.7.12"
  },
  "papermill": {
   "default_parameters": {},
   "duration": 1857.73127,
   "end_time": "2022-05-14T17:26:11.353086",
   "environment_variables": {},
   "exception": null,
   "input_path": "__notebook__.ipynb",
   "output_path": "__notebook__.ipynb",
   "parameters": {},
   "start_time": "2022-05-14T16:55:13.621816",
   "version": "2.3.4"
  }
 },
 "nbformat": 4,
 "nbformat_minor": 5
}
