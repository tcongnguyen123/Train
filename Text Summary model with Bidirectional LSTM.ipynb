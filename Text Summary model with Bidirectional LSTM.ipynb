{
 "cells": [
  {
   "cell_type": "code",
   "execution_count": 1,
   "id": "333f7bc3",
   "metadata": {
    "execution": {
     "iopub.execute_input": "2022-05-14T02:27:28.547791Z",
     "iopub.status.busy": "2022-05-14T02:27:28.547374Z",
     "iopub.status.idle": "2022-05-14T02:27:50.863303Z",
     "shell.execute_reply": "2022-05-14T02:27:50.862301Z"
    },
    "papermill": {
     "duration": 22.384735,
     "end_time": "2022-05-14T02:27:50.865824",
     "exception": false,
     "start_time": "2022-05-14T02:27:28.481089",
     "status": "completed"
    },
    "tags": []
   },
   "outputs": [],
   "source": [
    "%%capture\n",
    "# Install the vncorenlp python wrapper\n",
    "!pip install vncorenlp\n",
    "\n",
    "# Download VnCoreNLP-1.1.1.jar & its word segmentation component (i.e. RDRSegmenter) \n",
    "!mkdir -p vncorenlp/models/wordsegmenter\n",
    "!wget https://raw.githubusercontent.com/vncorenlp/VnCoreNLP/master/VnCoreNLP-1.1.1.jar\n",
    "!wget https://raw.githubusercontent.com/vncorenlp/VnCoreNLP/master/models/wordsegmenter/vi-vocab\n",
    "!wget https://raw.githubusercontent.com/vncorenlp/VnCoreNLP/master/models/wordsegmenter/wordsegmenter.rdr\n",
    "!mv VnCoreNLP-1.1.1.jar vncorenlp/ \n",
    "!mv vi-vocab vncorenlp/models/wordsegmenter/\n",
    "!mv wordsegmenter.rdr vncorenlp/models/wordsegmenter/"
   ]
  },
  {
   "cell_type": "code",
   "execution_count": 2,
   "id": "fd43dcfd",
   "metadata": {
    "execution": {
     "iopub.execute_input": "2022-05-14T02:27:50.999818Z",
     "iopub.status.busy": "2022-05-14T02:27:50.999524Z",
     "iopub.status.idle": "2022-05-14T02:27:59.221370Z",
     "shell.execute_reply": "2022-05-14T02:27:59.220381Z"
    },
    "papermill": {
     "duration": 8.291924,
     "end_time": "2022-05-14T02:27:59.224646",
     "exception": false,
     "start_time": "2022-05-14T02:27:50.932722",
     "status": "completed"
    },
    "tags": []
   },
   "outputs": [],
   "source": [
    "import os\n",
    "import re\n",
    "import pickle\n",
    "import string\n",
    "import unicodedata\n",
    "from random import randint\n",
    "\n",
    "import numpy as np\n",
    "import pandas as pd\n",
    "import seaborn as sns\n",
    "import matplotlib.pyplot as plt\n",
    "\n",
    "from nltk.corpus import stopwords\n",
    "from wordcloud import STOPWORDS, WordCloud\n",
    "\n",
    "from sklearn.model_selection import train_test_split\n",
    "\n",
    "import tensorflow as tf\n",
    "from tensorflow.keras import Input, Model\n",
    "from tensorflow.keras.preprocessing.text import Tokenizer\n",
    "from tensorflow.keras.preprocessing.sequence import pad_sequences\n",
    "from tensorflow.keras.callbacks import EarlyStopping, ReduceLROnPlateau\n",
    "from tensorflow.keras.layers import LSTM, Bidirectional, Dense, Embedding, TimeDistributed"
   ]
  },
  {
   "cell_type": "code",
   "execution_count": 3,
   "id": "39a59ac9",
   "metadata": {
    "execution": {
     "iopub.execute_input": "2022-05-14T02:27:59.358059Z",
     "iopub.status.busy": "2022-05-14T02:27:59.357391Z",
     "iopub.status.idle": "2022-05-14T02:28:13.630843Z",
     "shell.execute_reply": "2022-05-14T02:28:13.629655Z"
    },
    "papermill": {
     "duration": 14.343018,
     "end_time": "2022-05-14T02:28:13.634035",
     "exception": false,
     "start_time": "2022-05-14T02:27:59.291017",
     "status": "completed"
    },
    "tags": []
   },
   "outputs": [
    {
     "name": "stdout",
     "output_type": "stream",
     "text": [
      "Dataset size: 102681\n"
     ]
    },
    {
     "name": "stderr",
     "output_type": "stream",
     "text": [
      "/opt/conda/lib/python3.7/site-packages/ipykernel_launcher.py:2: FutureWarning: In a future version of pandas all arguments of DataFrame.drop except for the argument 'labels' will be keyword-only\n",
      "  \n"
     ]
    },
    {
     "data": {
      "text/html": [
       "<div>\n",
       "<style scoped>\n",
       "    .dataframe tbody tr th:only-of-type {\n",
       "        vertical-align: middle;\n",
       "    }\n",
       "\n",
       "    .dataframe tbody tr th {\n",
       "        vertical-align: top;\n",
       "    }\n",
       "\n",
       "    .dataframe thead th {\n",
       "        text-align: right;\n",
       "    }\n",
       "</style>\n",
       "<table border=\"1\" class=\"dataframe\">\n",
       "  <thead>\n",
       "    <tr style=\"text-align: right;\">\n",
       "      <th></th>\n",
       "      <th>Summary</th>\n",
       "      <th>Text</th>\n",
       "    </tr>\n",
       "  </thead>\n",
       "  <tbody>\n",
       "    <tr>\n",
       "      <th>0</th>\n",
       "      <td>Ngay khi bắt tay ai đó có thể chúng ta đã cảm ...</td>\n",
       "      <td>Tổng thống Mỹ Donald Trump và Tổng thống Pháp ...</td>\n",
       "    </tr>\n",
       "    <tr>\n",
       "      <th>1</th>\n",
       "      <td>Rời khỏi Việt Nam vào 10/2016, ông Vũ Đình Duy...</td>\n",
       "      <td>Vũ Đình Duy hồi tháng 5 xuất hiện trước tòa tạ...</td>\n",
       "    </tr>\n",
       "    <tr>\n",
       "      <th>2</th>\n",
       "      <td>Thủ tướng Iraq xác nhận với BBC rằng Syria khô...</td>\n",
       "      <td>Ông Maliki xác nhận các vụ không kích của Syri...</td>\n",
       "    </tr>\n",
       "    <tr>\n",
       "      <th>3</th>\n",
       "      <td>Người Việt Nam biết rất ít về ông Trump nhưng ...</td>\n",
       "      <td>Tiến sỹ Vũ Cao Phan tin rằng nếu được tiến hàn...</td>\n",
       "    </tr>\n",
       "    <tr>\n",
       "      <th>4</th>\n",
       "      <td>Bốn khoa học gia người Mỹ từng đoạt giải Nobel...</td>\n",
       "      <td>GS Jack Steinberger trao đổi với GS Lê Kim Ngọ...</td>\n",
       "    </tr>\n",
       "  </tbody>\n",
       "</table>\n",
       "</div>"
      ],
      "text/plain": [
       "                                             Summary  \\\n",
       "0  Ngay khi bắt tay ai đó có thể chúng ta đã cảm ...   \n",
       "1  Rời khỏi Việt Nam vào 10/2016, ông Vũ Đình Duy...   \n",
       "2  Thủ tướng Iraq xác nhận với BBC rằng Syria khô...   \n",
       "3  Người Việt Nam biết rất ít về ông Trump nhưng ...   \n",
       "4  Bốn khoa học gia người Mỹ từng đoạt giải Nobel...   \n",
       "\n",
       "                                                Text  \n",
       "0  Tổng thống Mỹ Donald Trump và Tổng thống Pháp ...  \n",
       "1  Vũ Đình Duy hồi tháng 5 xuất hiện trước tòa tạ...  \n",
       "2  Ông Maliki xác nhận các vụ không kích của Syri...  \n",
       "3  Tiến sỹ Vũ Cao Phan tin rằng nếu được tiến hàn...  \n",
       "4  GS Jack Steinberger trao đổi với GS Lê Kim Ngọ...  "
      ]
     },
     "execution_count": 3,
     "metadata": {},
     "output_type": "execute_result"
    }
   ],
   "source": [
    "filename = r\"../input/summary-vietnamese/data_summary.csv\"\n",
    "df = pd.read_csv(filename).drop('Unnamed: 0',1)\n",
    "print(f'Dataset size: {len(df)}')\n",
    "df.head(5)"
   ]
  },
  {
   "cell_type": "code",
   "execution_count": 4,
   "id": "1480db5c",
   "metadata": {
    "execution": {
     "iopub.execute_input": "2022-05-14T02:28:13.763353Z",
     "iopub.status.busy": "2022-05-14T02:28:13.762498Z",
     "iopub.status.idle": "2022-05-14T02:28:14.285471Z",
     "shell.execute_reply": "2022-05-14T02:28:14.284497Z"
    },
    "papermill": {
     "duration": 0.589972,
     "end_time": "2022-05-14T02:28:14.287839",
     "exception": false,
     "start_time": "2022-05-14T02:28:13.697867",
     "status": "completed"
    },
    "tags": []
   },
   "outputs": [
    {
     "name": "stdout",
     "output_type": "stream",
     "text": [
      "Dataset size: 96284\n"
     ]
    },
    {
     "data": {
      "text/html": [
       "<div>\n",
       "<style scoped>\n",
       "    .dataframe tbody tr th:only-of-type {\n",
       "        vertical-align: middle;\n",
       "    }\n",
       "\n",
       "    .dataframe tbody tr th {\n",
       "        vertical-align: top;\n",
       "    }\n",
       "\n",
       "    .dataframe thead th {\n",
       "        text-align: right;\n",
       "    }\n",
       "</style>\n",
       "<table border=\"1\" class=\"dataframe\">\n",
       "  <thead>\n",
       "    <tr style=\"text-align: right;\">\n",
       "      <th></th>\n",
       "      <th>Summary</th>\n",
       "      <th>Text</th>\n",
       "    </tr>\n",
       "  </thead>\n",
       "  <tbody>\n",
       "    <tr>\n",
       "      <th>0</th>\n",
       "      <td>Ngay khi bắt tay ai đó có thể chúng ta đã cảm ...</td>\n",
       "      <td>Tổng thống Mỹ Donald Trump và Tổng thống Pháp ...</td>\n",
       "    </tr>\n",
       "    <tr>\n",
       "      <th>1</th>\n",
       "      <td>Rời khỏi Việt Nam vào 10/2016, ông Vũ Đình Duy...</td>\n",
       "      <td>Vũ Đình Duy hồi tháng 5 xuất hiện trước tòa tạ...</td>\n",
       "    </tr>\n",
       "    <tr>\n",
       "      <th>2</th>\n",
       "      <td>Thủ tướng Iraq xác nhận với BBC rằng Syria khô...</td>\n",
       "      <td>Ông Maliki xác nhận các vụ không kích của Syri...</td>\n",
       "    </tr>\n",
       "    <tr>\n",
       "      <th>3</th>\n",
       "      <td>Người Việt Nam biết rất ít về ông Trump nhưng ...</td>\n",
       "      <td>Tiến sỹ Vũ Cao Phan tin rằng nếu được tiến hàn...</td>\n",
       "    </tr>\n",
       "    <tr>\n",
       "      <th>4</th>\n",
       "      <td>Bốn khoa học gia người Mỹ từng đoạt giải Nobel...</td>\n",
       "      <td>GS Jack Steinberger trao đổi với GS Lê Kim Ngọ...</td>\n",
       "    </tr>\n",
       "  </tbody>\n",
       "</table>\n",
       "</div>"
      ],
      "text/plain": [
       "                                             Summary  \\\n",
       "0  Ngay khi bắt tay ai đó có thể chúng ta đã cảm ...   \n",
       "1  Rời khỏi Việt Nam vào 10/2016, ông Vũ Đình Duy...   \n",
       "2  Thủ tướng Iraq xác nhận với BBC rằng Syria khô...   \n",
       "3  Người Việt Nam biết rất ít về ông Trump nhưng ...   \n",
       "4  Bốn khoa học gia người Mỹ từng đoạt giải Nobel...   \n",
       "\n",
       "                                                Text  \n",
       "0  Tổng thống Mỹ Donald Trump và Tổng thống Pháp ...  \n",
       "1  Vũ Đình Duy hồi tháng 5 xuất hiện trước tòa tạ...  \n",
       "2  Ông Maliki xác nhận các vụ không kích của Syri...  \n",
       "3  Tiến sỹ Vũ Cao Phan tin rằng nếu được tiến hàn...  \n",
       "4  GS Jack Steinberger trao đổi với GS Lê Kim Ngọ...  "
      ]
     },
     "execution_count": 4,
     "metadata": {},
     "output_type": "execute_result"
    }
   ],
   "source": [
    "'''Loại bỏ các giá trị trùng lặp và giá trị rỗng'''\n",
    "\n",
    "df.drop_duplicates(subset=['Text'],inplace=True) #dropping duplicates\n",
    "df.dropna(axis=0,inplace=True) #dropping na\n",
    "df = df.reset_index().drop('index', axis = 1)\n",
    "print(f'Dataset size: {len(df)}')\n",
    "df.head(5)"
   ]
  },
  {
   "cell_type": "markdown",
   "id": "a0dd29d0",
   "metadata": {
    "papermill": {
     "duration": 0.063846,
     "end_time": "2022-05-14T02:28:14.416534",
     "exception": false,
     "start_time": "2022-05-14T02:28:14.352688",
     "status": "completed"
    },
    "tags": []
   },
   "source": [
    "# Data preparation"
   ]
  },
  {
   "cell_type": "code",
   "execution_count": 5,
   "id": "23797051",
   "metadata": {
    "execution": {
     "iopub.execute_input": "2022-05-14T02:28:14.546831Z",
     "iopub.status.busy": "2022-05-14T02:28:14.546495Z",
     "iopub.status.idle": "2022-05-14T02:28:14.571263Z",
     "shell.execute_reply": "2022-05-14T02:28:14.570378Z"
    },
    "papermill": {
     "duration": 0.09193,
     "end_time": "2022-05-14T02:28:14.573082",
     "exception": false,
     "start_time": "2022-05-14T02:28:14.481152",
     "status": "completed"
    },
    "tags": []
   },
   "outputs": [],
   "source": [
    "def cleanWord(s):\n",
    "    miss = ['!','@','#','$','%','^','&','*','(',')','-','–','_','+','=','{','[','}',']','|',':',';','?','/','<','>','~','`','‘','’',',','()','“','\"', '...','”', '“”','\\\\', '>>', '>>>']\n",
    "    for i in miss:\n",
    "        s = s.replace(i,'')\n",
    "    return re.sub(r'\\'', '', s)\n",
    "\n",
    "def remove_link(string):\n",
    "    return re.sub(r'\\w+:\\/{2}[\\d\\w-]+(\\.[\\d\\w-]+)*(?:(?:\\/[^\\s/]*))*', '', string)\n",
    "\n",
    "def remove_extra_whitespace(string):\n",
    "    text = re.sub(r'\\s+', ' ', string).strip()\n",
    "    return text\n",
    "\n",
    "def lower_word(data):\n",
    "    return data.lower()\n",
    "\n",
    "# Remove numbers from text\n",
    "def rm_number_from_text(text):\n",
    "    text = re.sub('[0-9]+', '', text)\n",
    "    return ' '.join(text.split())  # to rm `extra` white space\n",
    "\n",
    "# Remove puncuation from word\n",
    "def rm_punc_from_word(word):\n",
    "    clean_alphabet_list = [alphabet for alphabet in word if alphabet not in string.punctuation]\n",
    "    return ''.join(clean_alphabet_list)\n",
    "\n",
    "# Remove puncuation from text\n",
    "def rm_punc_from_text(text):\n",
    "    clean_word_list = [rm_punc_from_word(word) for word in text]\n",
    "    return ''.join(clean_word_list)\n",
    "\n",
    "\n",
    "# Cleaning text\n",
    "def clean_text(text):\n",
    "    text = text.lower()\n",
    "    text = rm_number_from_text(text)\n",
    "    text = rm_punc_from_text(text)\n",
    "\n",
    "    # there are hyphen(–) in many titles, so replacing it with empty str\n",
    "    # this hyphen(–) is different from normal hyphen(-)\n",
    "    text = re.sub('–', '', text)\n",
    "    text = ' '.join(text.split())  # removing `extra` white spaces\n",
    "\n",
    "    # Removing unnecessary characters from text\n",
    "    text = re.sub(\"(\\\\t)\", ' ', str(text)).lower()\n",
    "    text = re.sub(\"(\\\\r)\", ' ', str(text)).lower()\n",
    "    text = re.sub(\"(\\\\n)\", ' ', str(text)).lower()\n",
    "\n",
    "    text = re.sub(\"(__+)\", ' ', str(text)).lower()\n",
    "    text = re.sub(\"(--+)\", ' ', str(text)).lower()\n",
    "    text = re.sub(\"(~~+)\", ' ', str(text)).lower()\n",
    "    text = re.sub(\"(\\+\\++)\", ' ', str(text)).lower()\n",
    "    text = re.sub(\"(\\.\\.+)\", ' ', str(text)).lower()\n",
    "\n",
    "    text = re.sub(r\"[<>()|&©ø\\[\\]\\'\\\",;?~*!]\", ' ', str(text)).lower()\n",
    "\n",
    "    text = re.sub(\"(mailto:)\", ' ', str(text)).lower()\n",
    "    text = re.sub(r\"(\\\\x9\\d)\", ' ', str(text)).lower()\n",
    "    text = re.sub(\"([iI][nN][cC]\\d+)\", 'INC_NUM', str(text)).lower()\n",
    "    text = re.sub(\"([cC][mM]\\d+)|([cC][hH][gG]\\d+)\", 'CM_NUM',str(text)).lower()\n",
    "\n",
    "    text = re.sub(\"(\\.\\s+)\", ' ', str(text)).lower()\n",
    "    text = re.sub(\"(\\-\\s+)\", ' ', str(text)).lower()\n",
    "    text = re.sub(\"(\\:\\s+)\", ' ', str(text)).lower()\n",
    "    text = re.sub(\"(\\s+.\\s+)\", ' ', str(text)).lower()\n",
    "\n",
    "    try:\n",
    "        url = re.search(r'((https*:\\/*)([^\\/\\s]+))(.[^\\s]+)', str(text))\n",
    "        repl_url = url.group(3)\n",
    "        text = re.sub(r'((https*:\\/*)([^\\/\\s]+))(.[^\\s]+)', repl_url, str(text))\n",
    "    except Exception as e:\n",
    "        pass\n",
    "\n",
    "    text = re.sub(\"(\\s+)\", ' ', str(text)).lower()\n",
    "    text = re.sub(\"(\\s+.\\s+)\", ' ', str(text)).lower()\n",
    "\n",
    "    return text\n",
    "\n",
    "def solve(string):\n",
    "    func = [lower_word, remove_link, remove_extra_whitespace, cleanWord, clean_text]\n",
    "    for i in func:\n",
    "        string = i(string)\n",
    "    return string"
   ]
  },
  {
   "cell_type": "code",
   "execution_count": 6,
   "id": "c82e9f48",
   "metadata": {
    "execution": {
     "iopub.execute_input": "2022-05-14T02:28:14.702515Z",
     "iopub.status.busy": "2022-05-14T02:28:14.702079Z",
     "iopub.status.idle": "2022-05-14T02:37:00.719097Z",
     "shell.execute_reply": "2022-05-14T02:37:00.718256Z"
    },
    "papermill": {
     "duration": 526.148715,
     "end_time": "2022-05-14T02:37:00.785603",
     "exception": false,
     "start_time": "2022-05-14T02:28:14.636888",
     "status": "completed"
    },
    "tags": []
   },
   "outputs": [
    {
     "data": {
      "text/html": [
       "<div>\n",
       "<style scoped>\n",
       "    .dataframe tbody tr th:only-of-type {\n",
       "        vertical-align: middle;\n",
       "    }\n",
       "\n",
       "    .dataframe tbody tr th {\n",
       "        vertical-align: top;\n",
       "    }\n",
       "\n",
       "    .dataframe thead th {\n",
       "        text-align: right;\n",
       "    }\n",
       "</style>\n",
       "<table border=\"1\" class=\"dataframe\">\n",
       "  <thead>\n",
       "    <tr style=\"text-align: right;\">\n",
       "      <th></th>\n",
       "      <th>Summary</th>\n",
       "      <th>Text</th>\n",
       "    </tr>\n",
       "  </thead>\n",
       "  <tbody>\n",
       "    <tr>\n",
       "      <th>0</th>\n",
       "      <td>ngay khi bắt tay ai đó có thể chúng ta đã cảm ...</td>\n",
       "      <td>tổng thống mỹ donald trump và tổng thống pháp ...</td>\n",
       "    </tr>\n",
       "    <tr>\n",
       "      <th>1</th>\n",
       "      <td>rời khỏi việt nam vào ông vũ đình duy tới sống...</td>\n",
       "      <td>vũ đình duy hồi tháng xuất hiện trước tòa tại ...</td>\n",
       "    </tr>\n",
       "    <tr>\n",
       "      <th>2</th>\n",
       "      <td>thủ tướng iraq xác nhận với bbc rằng syria khô...</td>\n",
       "      <td>ông maliki xác nhận các vụ không kích của syri...</td>\n",
       "    </tr>\n",
       "    <tr>\n",
       "      <th>3</th>\n",
       "      <td>người việt nam biết rất ít về ông trump nhưng ...</td>\n",
       "      <td>tiến sỹ vũ cao phan tin rằng nếu được tiến hàn...</td>\n",
       "    </tr>\n",
       "    <tr>\n",
       "      <th>4</th>\n",
       "      <td>bốn khoa học gia người mỹ từng đoạt giải nobel...</td>\n",
       "      <td>gs jack steinberger trao đổi với gs lê kim ngọ...</td>\n",
       "    </tr>\n",
       "  </tbody>\n",
       "</table>\n",
       "</div>"
      ],
      "text/plain": [
       "                                             Summary  \\\n",
       "0  ngay khi bắt tay ai đó có thể chúng ta đã cảm ...   \n",
       "1  rời khỏi việt nam vào ông vũ đình duy tới sống...   \n",
       "2  thủ tướng iraq xác nhận với bbc rằng syria khô...   \n",
       "3  người việt nam biết rất ít về ông trump nhưng ...   \n",
       "4  bốn khoa học gia người mỹ từng đoạt giải nobel...   \n",
       "\n",
       "                                                Text  \n",
       "0  tổng thống mỹ donald trump và tổng thống pháp ...  \n",
       "1  vũ đình duy hồi tháng xuất hiện trước tòa tại ...  \n",
       "2  ông maliki xác nhận các vụ không kích của syri...  \n",
       "3  tiến sỹ vũ cao phan tin rằng nếu được tiến hàn...  \n",
       "4  gs jack steinberger trao đổi với gs lê kim ngọ...  "
      ]
     },
     "execution_count": 6,
     "metadata": {},
     "output_type": "execute_result"
    }
   ],
   "source": [
    "df.Text = df.Text.apply(lambda x: solve(str(x)))\n",
    "df.Summary = df.Summary.apply(lambda x: solve(str(x)))\n",
    "df.head(5)"
   ]
  },
  {
   "cell_type": "markdown",
   "id": "ae3c1cd5",
   "metadata": {
    "papermill": {
     "duration": 0.063665,
     "end_time": "2022-05-14T02:37:00.914330",
     "exception": false,
     "start_time": "2022-05-14T02:37:00.850665",
     "status": "completed"
    },
    "tags": []
   },
   "source": [
    "Finding what should be the **maximum length** of **Text** and **Summary** that will be feed or accepted by the learning algorithm"
   ]
  },
  {
   "cell_type": "code",
   "execution_count": 7,
   "id": "0262eaec",
   "metadata": {
    "execution": {
     "iopub.execute_input": "2022-05-14T02:37:01.044702Z",
     "iopub.status.busy": "2022-05-14T02:37:01.044434Z",
     "iopub.status.idle": "2022-05-14T02:37:08.285180Z",
     "shell.execute_reply": "2022-05-14T02:37:08.284243Z"
    },
    "papermill": {
     "duration": 7.309196,
     "end_time": "2022-05-14T02:37:08.287463",
     "exception": false,
     "start_time": "2022-05-14T02:37:00.978267",
     "status": "completed"
    },
    "tags": []
   },
   "outputs": [
    {
     "data": {
      "image/png": "[encoded data removed]",
      "text/plain": [
       "<Figure size 1152x288 with 2 Axes>"
      ]
     },
     "metadata": {
      "needs_background": "light"
     },
     "output_type": "display_data"
    }
   ],
   "source": [
    "text_count = [len(sentence.split()) for sentence in df.Text]\n",
    "summary_count = [len(sentence.split()) for sentence in df.Summary]\n",
    "\n",
    "pd.DataFrame({'Text': text_count, 'Summary': summary_count}).hist(bins=100, figsize=(16, 4))\n",
    "plt.show()"
   ]
  },
  {
   "cell_type": "code",
   "execution_count": 8,
   "id": "3c610cd5",
   "metadata": {
    "execution": {
     "iopub.execute_input": "2022-05-14T02:37:08.422321Z",
     "iopub.status.busy": "2022-05-14T02:37:08.422017Z",
     "iopub.status.idle": "2022-05-14T02:37:14.936137Z",
     "shell.execute_reply": "2022-05-14T02:37:14.934736Z"
    },
    "papermill": {
     "duration": 6.583619,
     "end_time": "2022-05-14T02:37:14.938694",
     "exception": false,
     "start_time": "2022-05-14T02:37:08.355075",
     "status": "completed"
    },
    "tags": []
   },
   "outputs": [
    {
     "name": "stdout",
     "output_type": "stream",
     "text": [
      "0.99\n",
      "0.15\n"
     ]
    }
   ],
   "source": [
    "# To check how many rows in a column has length (of the text) <= limit\n",
    "def get_word_percent(column, limit):\n",
    "    count = 0\n",
    "    for sentence in column:\n",
    "        if len(sentence.split()) <= limit:\n",
    "            count += 1\n",
    "\n",
    "    return round(count / len(column), 2)\n",
    "\n",
    "\n",
    "# Check how many % of summary have 0-60 words\n",
    "print(get_word_percent(df.Summary, 60))\n",
    "\n",
    "# Check how many % of text have 0-300 words\n",
    "print(get_word_percent(df.Text, 300))"
   ]
  },
  {
   "cell_type": "code",
   "execution_count": 9,
   "id": "388af1b2",
   "metadata": {
    "execution": {
     "iopub.execute_input": "2022-05-14T02:37:15.075623Z",
     "iopub.status.busy": "2022-05-14T02:37:15.075311Z",
     "iopub.status.idle": "2022-05-14T02:37:15.079519Z",
     "shell.execute_reply": "2022-05-14T02:37:15.078433Z"
    },
    "papermill": {
     "duration": 0.075331,
     "end_time": "2022-05-14T02:37:15.081509",
     "exception": false,
     "start_time": "2022-05-14T02:37:15.006178",
     "status": "completed"
    },
    "tags": []
   },
   "outputs": [],
   "source": [
    "max_text_len = 300\n",
    "max_summary_len = 60"
   ]
  },
  {
   "cell_type": "code",
   "execution_count": 10,
   "id": "d0654e31",
   "metadata": {
    "execution": {
     "iopub.execute_input": "2022-05-14T02:37:15.218113Z",
     "iopub.status.busy": "2022-05-14T02:37:15.217841Z",
     "iopub.status.idle": "2022-05-14T02:37:21.471419Z",
     "shell.execute_reply": "2022-05-14T02:37:21.470412Z"
    },
    "papermill": {
     "duration": 6.324704,
     "end_time": "2022-05-14T02:37:21.473555",
     "exception": false,
     "start_time": "2022-05-14T02:37:15.148851",
     "status": "completed"
    },
    "tags": []
   },
   "outputs": [
    {
     "name": "stdout",
     "output_type": "stream",
     "text": [
      "Dataset size: 14664\n"
     ]
    },
    {
     "data": {
      "text/html": [
       "<div>\n",
       "<style scoped>\n",
       "    .dataframe tbody tr th:only-of-type {\n",
       "        vertical-align: middle;\n",
       "    }\n",
       "\n",
       "    .dataframe tbody tr th {\n",
       "        vertical-align: top;\n",
       "    }\n",
       "\n",
       "    .dataframe thead th {\n",
       "        text-align: right;\n",
       "    }\n",
       "</style>\n",
       "<table border=\"1\" class=\"dataframe\">\n",
       "  <thead>\n",
       "    <tr style=\"text-align: right;\">\n",
       "      <th></th>\n",
       "      <th>Text</th>\n",
       "      <th>Summary</th>\n",
       "    </tr>\n",
       "  </thead>\n",
       "  <tbody>\n",
       "    <tr>\n",
       "      <th>0</th>\n",
       "      <td>ông maliki xác nhận các vụ không kích của syri...</td>\n",
       "      <td>thủ tướng iraq xác nhận với bbc rằng syria khô...</td>\n",
       "    </tr>\n",
       "    <tr>\n",
       "      <th>1</th>\n",
       "      <td>lý quang diệu được cho là người đứng đằng sau...</td>\n",
       "      <td>chính phủ singapore cho hay cựu thủ tướng ngườ...</td>\n",
       "    </tr>\n",
       "    <tr>\n",
       "      <th>2</th>\n",
       "      <td>ông hà kim ngọc thứ trưởng bộ ngoại giao phát ...</td>\n",
       "      <td>kết thúc phiên kiểm định định kỳ phổ quát về t...</td>\n",
       "    </tr>\n",
       "    <tr>\n",
       "      <th>3</th>\n",
       "      <td>hai bàn thắng của luis suarez hiệp một tạo lợi...</td>\n",
       "      <td>hlv manchester city manuel pellegrini tin rằng...</td>\n",
       "    </tr>\n",
       "    <tr>\n",
       "      <th>4</th>\n",
       "      <td>thủ hiến tiểu bang nam úc ông jay weatherill l...</td>\n",
       "      <td>một chính khách gốc việt từng là dân tỵ nạn ...</td>\n",
       "    </tr>\n",
       "  </tbody>\n",
       "</table>\n",
       "</div>"
      ],
      "text/plain": [
       "                                                Text  \\\n",
       "0  ông maliki xác nhận các vụ không kích của syri...   \n",
       "1  lý quang diệu được cho là người đứng đằng sau...   \n",
       "2  ông hà kim ngọc thứ trưởng bộ ngoại giao phát ...   \n",
       "3  hai bàn thắng của luis suarez hiệp một tạo lợi...   \n",
       "4  thủ hiến tiểu bang nam úc ông jay weatherill l...   \n",
       "\n",
       "                                             Summary  \n",
       "0  thủ tướng iraq xác nhận với bbc rằng syria khô...  \n",
       "1  chính phủ singapore cho hay cựu thủ tướng ngườ...  \n",
       "2  kết thúc phiên kiểm định định kỳ phổ quát về t...  \n",
       "3  hlv manchester city manuel pellegrini tin rằng...  \n",
       "4  một chính khách gốc việt từng là dân tỵ nạn ...  "
      ]
     },
     "execution_count": 10,
     "metadata": {},
     "output_type": "execute_result"
    }
   ],
   "source": [
    "# select the summary and text between their defined max lens respectively\n",
    "def trim_text_and_summary(df, max_text_len, max_summary_len):\n",
    "    cleaned_text = np.array(df['Text'])\n",
    "    cleaned_summary = np.array(df['Summary'])\n",
    "\n",
    "    short_text = []\n",
    "    short_summary = []\n",
    "\n",
    "    for i in range(len(cleaned_text)):\n",
    "        if len(cleaned_text[i].split()) <= max_text_len and len(\n",
    "            cleaned_summary[i].split()\n",
    "        ) <= max_summary_len:\n",
    "            short_text.append(cleaned_text[i])\n",
    "            short_summary.append(cleaned_summary[i])\n",
    "\n",
    "    df = pd.DataFrame({'Text': short_text, 'Summary': short_summary})\n",
    "    return df\n",
    "\n",
    "\n",
    "df = trim_text_and_summary(df, max_text_len, max_summary_len)\n",
    "print(f'Dataset size: {len(df)}')\n",
    "df.head(5)"
   ]
  },
  {
   "cell_type": "code",
   "execution_count": 11,
   "id": "0da2175a",
   "metadata": {
    "execution": {
     "iopub.execute_input": "2022-05-14T02:37:21.614366Z",
     "iopub.status.busy": "2022-05-14T02:37:21.613840Z",
     "iopub.status.idle": "2022-05-14T02:37:27.190848Z",
     "shell.execute_reply": "2022-05-14T02:37:27.189658Z"
    },
    "papermill": {
     "duration": 5.649191,
     "end_time": "2022-05-14T02:37:27.193813",
     "exception": false,
     "start_time": "2022-05-14T02:37:21.544622",
     "status": "completed"
    },
    "tags": []
   },
   "outputs": [],
   "source": [
    "from vncorenlp import VnCoreNLP\n",
    "rdrsegmenter = VnCoreNLP(\"./vncorenlp/VnCoreNLP-1.1.1.jar\", annotators=\"wseg\", max_heap_size='-Xmx2g') "
   ]
  },
  {
   "cell_type": "code",
   "execution_count": 12,
   "id": "d7865a5d",
   "metadata": {
    "execution": {
     "iopub.execute_input": "2022-05-14T02:37:27.336441Z",
     "iopub.status.busy": "2022-05-14T02:37:27.335375Z",
     "iopub.status.idle": "2022-05-14T02:37:27.342249Z",
     "shell.execute_reply": "2022-05-14T02:37:27.341323Z"
    },
    "papermill": {
     "duration": 0.081889,
     "end_time": "2022-05-14T02:37:27.344441",
     "exception": false,
     "start_time": "2022-05-14T02:37:27.262552",
     "status": "completed"
    },
    "tags": []
   },
   "outputs": [],
   "source": [
    "def read_content(string):\n",
    "    original = rdrsegmenter.tokenize(string)\n",
    "    original = ' '.join([' '.join(x) for x in original])\n",
    "\n",
    "    return original"
   ]
  },
  {
   "cell_type": "code",
   "execution_count": 13,
   "id": "6cac9deb",
   "metadata": {
    "execution": {
     "iopub.execute_input": "2022-05-14T02:37:27.484486Z",
     "iopub.status.busy": "2022-05-14T02:37:27.484026Z",
     "iopub.status.idle": "2022-05-14T02:40:14.744319Z",
     "shell.execute_reply": "2022-05-14T02:40:14.743399Z"
    },
    "papermill": {
     "duration": 167.401451,
     "end_time": "2022-05-14T02:40:14.815908",
     "exception": false,
     "start_time": "2022-05-14T02:37:27.414457",
     "status": "completed"
    },
    "tags": []
   },
   "outputs": [
    {
     "data": {
      "text/html": [
       "<div>\n",
       "<style scoped>\n",
       "    .dataframe tbody tr th:only-of-type {\n",
       "        vertical-align: middle;\n",
       "    }\n",
       "\n",
       "    .dataframe tbody tr th {\n",
       "        vertical-align: top;\n",
       "    }\n",
       "\n",
       "    .dataframe thead th {\n",
       "        text-align: right;\n",
       "    }\n",
       "</style>\n",
       "<table border=\"1\" class=\"dataframe\">\n",
       "  <thead>\n",
       "    <tr style=\"text-align: right;\">\n",
       "      <th></th>\n",
       "      <th>Text</th>\n",
       "      <th>Summary</th>\n",
       "    </tr>\n",
       "  </thead>\n",
       "  <tbody>\n",
       "    <tr>\n",
       "      <th>0</th>\n",
       "      <td>ông maliki xác_nhận các vụ không_kích của syri...</td>\n",
       "      <td>thủ_tướng iraq xác_nhận với bbc rằng syria khô...</td>\n",
       "    </tr>\n",
       "    <tr>\n",
       "      <th>1</th>\n",
       "      <td>lý quang diệu được cho là người đứng đằng sau...</td>\n",
       "      <td>chính_phủ singapore cho_hay cựu thủ_tướng ngườ...</td>\n",
       "    </tr>\n",
       "    <tr>\n",
       "      <th>2</th>\n",
       "      <td>ông hà kim ngọc thứ_trưởng bộ ngoại_giao phát_...</td>\n",
       "      <td>kết_thúc phiên kiểm_định định_kỳ phổ_quát về t...</td>\n",
       "    </tr>\n",
       "    <tr>\n",
       "      <th>3</th>\n",
       "      <td>hai bàn thắng của luis suarez hiệp một tạo lợi...</td>\n",
       "      <td>hlv manchester city manuel pellegrini tin rằng...</td>\n",
       "    </tr>\n",
       "    <tr>\n",
       "      <th>4</th>\n",
       "      <td>thủ_hiến tiểu_bang nam úc ông jay weatherill l...</td>\n",
       "      <td>một chính_khách gốc việt từng là dân tỵ nạn ...</td>\n",
       "    </tr>\n",
       "  </tbody>\n",
       "</table>\n",
       "</div>"
      ],
      "text/plain": [
       "                                                Text  \\\n",
       "0  ông maliki xác_nhận các vụ không_kích của syri...   \n",
       "1  lý quang diệu được cho là người đứng đằng sau...   \n",
       "2  ông hà kim ngọc thứ_trưởng bộ ngoại_giao phát_...   \n",
       "3  hai bàn thắng của luis suarez hiệp một tạo lợi...   \n",
       "4  thủ_hiến tiểu_bang nam úc ông jay weatherill l...   \n",
       "\n",
       "                                             Summary  \n",
       "0  thủ_tướng iraq xác_nhận với bbc rằng syria khô...  \n",
       "1  chính_phủ singapore cho_hay cựu thủ_tướng ngườ...  \n",
       "2  kết_thúc phiên kiểm_định định_kỳ phổ_quát về t...  \n",
       "3  hlv manchester city manuel pellegrini tin rằng...  \n",
       "4  một chính_khách gốc việt từng là dân tỵ nạn ...  "
      ]
     },
     "execution_count": 13,
     "metadata": {},
     "output_type": "execute_result"
    }
   ],
   "source": [
    "df.Text = df.Text.apply(lambda x: read_content(str(x)))\n",
    "df.Summary = df.Summary.apply(lambda x: read_content(str(x)))\n",
    "df.head(5)"
   ]
  },
  {
   "cell_type": "code",
   "execution_count": 14,
   "id": "ae546dbd",
   "metadata": {
    "execution": {
     "iopub.execute_input": "2022-05-14T02:40:14.956019Z",
     "iopub.status.busy": "2022-05-14T02:40:14.955731Z",
     "iopub.status.idle": "2022-05-14T02:40:14.987241Z",
     "shell.execute_reply": "2022-05-14T02:40:14.986259Z"
    },
    "papermill": {
     "duration": 0.104017,
     "end_time": "2022-05-14T02:40:14.989545",
     "exception": false,
     "start_time": "2022-05-14T02:40:14.885528",
     "status": "completed"
    },
    "tags": []
   },
   "outputs": [],
   "source": [
    "df.Summary = df.Summary.apply(lambda x: f'_START_ {x} _END_')\n",
    "start_token = 'sostok'\n",
    "end_token = 'eostok'\n",
    "df.Summary  = df.Summary.apply(lambda x: f'{start_token} {x} {end_token}')"
   ]
  },
  {
   "cell_type": "markdown",
   "id": "a7e3ee85",
   "metadata": {
    "papermill": {
     "duration": 0.068807,
     "end_time": "2022-05-14T02:40:15.129037",
     "exception": false,
     "start_time": "2022-05-14T02:40:15.060230",
     "status": "completed"
    },
    "tags": []
   },
   "source": [
    "# Training build_vocab with 2 method of skipgam and CBOW"
   ]
  },
  {
   "cell_type": "code",
   "execution_count": 15,
   "id": "f4373523",
   "metadata": {
    "execution": {
     "iopub.execute_input": "2022-05-14T02:40:15.273653Z",
     "iopub.status.busy": "2022-05-14T02:40:15.273387Z",
     "iopub.status.idle": "2022-05-14T02:40:15.427037Z",
     "shell.execute_reply": "2022-05-14T02:40:15.426104Z"
    },
    "papermill": {
     "duration": 0.228451,
     "end_time": "2022-05-14T02:40:15.429552",
     "exception": false,
     "start_time": "2022-05-14T02:40:15.201101",
     "status": "completed"
    },
    "tags": []
   },
   "outputs": [],
   "source": [
    "from tqdm import tqdm\n",
    "tqdm.pandas(desc=\"progress-bar\")\n",
    "import gensim\n",
    "from gensim.models.word2vec import Word2Vec\n",
    "from gensim.models.doc2vec import TaggedDocument\n",
    "import multiprocessing\n",
    "from sklearn import utils"
   ]
  },
  {
   "cell_type": "code",
   "execution_count": 16,
   "id": "2c618110",
   "metadata": {
    "execution": {
     "iopub.execute_input": "2022-05-14T02:40:15.577324Z",
     "iopub.status.busy": "2022-05-14T02:40:15.576625Z",
     "iopub.status.idle": "2022-05-14T02:40:15.582379Z",
     "shell.execute_reply": "2022-05-14T02:40:15.581449Z"
    },
    "papermill": {
     "duration": 0.078402,
     "end_time": "2022-05-14T02:40:15.584796",
     "exception": false,
     "start_time": "2022-05-14T02:40:15.506394",
     "status": "completed"
    },
    "tags": []
   },
   "outputs": [],
   "source": [
    "def labelize_text_ug(tweets,label):\n",
    "    result = []\n",
    "    prefix = label\n",
    "    for i, t in zip(tweets.index, tweets):\n",
    "        result.append(TaggedDocument(t.split(), [prefix + '_%s' % i]))\n",
    "    return result"
   ]
  },
  {
   "cell_type": "code",
   "execution_count": 17,
   "id": "8b5254e5",
   "metadata": {
    "execution": {
     "iopub.execute_input": "2022-05-14T02:40:15.725693Z",
     "iopub.status.busy": "2022-05-14T02:40:15.724753Z",
     "iopub.status.idle": "2022-05-14T02:40:16.665184Z",
     "shell.execute_reply": "2022-05-14T02:40:16.664440Z"
    },
    "papermill": {
     "duration": 1.012734,
     "end_time": "2022-05-14T02:40:16.667508",
     "exception": false,
     "start_time": "2022-05-14T02:40:15.654774",
     "status": "completed"
    },
    "tags": []
   },
   "outputs": [],
   "source": [
    "all_x = pd.concat([df.Text,df.Summary])\n",
    "all_x_w2v = labelize_text_ug(all_x, 'all')"
   ]
  },
  {
   "cell_type": "code",
   "execution_count": 18,
   "id": "c1de709e",
   "metadata": {
    "execution": {
     "iopub.execute_input": "2022-05-14T02:40:16.806968Z",
     "iopub.status.busy": "2022-05-14T02:40:16.806562Z",
     "iopub.status.idle": "2022-05-14T02:40:18.661136Z",
     "shell.execute_reply": "2022-05-14T02:40:18.660078Z"
    },
    "papermill": {
     "duration": 1.927465,
     "end_time": "2022-05-14T02:40:18.663445",
     "exception": false,
     "start_time": "2022-05-14T02:40:16.735980",
     "status": "completed"
    },
    "tags": []
   },
   "outputs": [
    {
     "name": "stderr",
     "output_type": "stream",
     "text": [
      "100%|██████████| 29328/29328 [00:00<00:00, 1164861.58it/s]\n"
     ]
    }
   ],
   "source": [
    "cores = multiprocessing.cpu_count()\n",
    "model_ug_cbow = Word2Vec(sg=0, vector_size=150, negative=5, window=2, min_count=2, workers=cores, alpha=0.065, min_alpha=0.065)\n",
    "model_ug_cbow.build_vocab([x.words for x in tqdm(all_x_w2v)])"
   ]
  },
  {
   "cell_type": "code",
   "execution_count": 19,
   "id": "3e2c9c85",
   "metadata": {
    "execution": {
     "iopub.execute_input": "2022-05-14T02:40:18.834848Z",
     "iopub.status.busy": "2022-05-14T02:40:18.834323Z",
     "iopub.status.idle": "2022-05-14T02:41:42.075922Z",
     "shell.execute_reply": "2022-05-14T02:41:42.075273Z"
    },
    "papermill": {
     "duration": 83.331041,
     "end_time": "2022-05-14T02:41:42.078184",
     "exception": false,
     "start_time": "2022-05-14T02:40:18.747143",
     "status": "completed"
    },
    "tags": []
   },
   "outputs": [
    {
     "name": "stderr",
     "output_type": "stream",
     "text": [
      "100%|██████████| 29328/29328 [00:00<00:00, 1169880.05it/s]\n",
      "100%|██████████| 29328/29328 [00:00<00:00, 1148718.75it/s]\n",
      "100%|██████████| 29328/29328 [00:00<00:00, 1171506.71it/s]\n",
      "100%|██████████| 29328/29328 [00:00<00:00, 1122246.38it/s]\n",
      "100%|██████████| 29328/29328 [00:00<00:00, 1106568.20it/s]\n",
      "100%|██████████| 29328/29328 [00:00<00:00, 1130196.14it/s]\n",
      "100%|██████████| 29328/29328 [00:00<00:00, 1143869.18it/s]\n",
      "100%|██████████| 29328/29328 [00:00<00:00, 1173059.59it/s]\n",
      "100%|██████████| 29328/29328 [00:00<00:00, 1116967.81it/s]\n",
      "100%|██████████| 29328/29328 [00:00<00:00, 1152755.58it/s]\n",
      "100%|██████████| 29328/29328 [00:00<00:00, 1177078.11it/s]\n",
      "100%|██████████| 29328/29328 [00:00<00:00, 1101958.70it/s]\n",
      "100%|██████████| 29328/29328 [00:00<00:00, 1185381.05it/s]\n",
      "100%|██████████| 29328/29328 [00:00<00:00, 1210257.26it/s]\n",
      "100%|██████████| 29328/29328 [00:00<00:00, 1186284.14it/s]\n",
      "100%|██████████| 29328/29328 [00:00<00:00, 1181010.86it/s]\n",
      "100%|██████████| 29328/29328 [00:00<00:00, 1193118.79it/s]\n",
      "100%|██████████| 29328/29328 [00:00<00:00, 1158225.97it/s]\n",
      "100%|██████████| 29328/29328 [00:00<00:00, 1160914.95it/s]\n",
      "100%|██████████| 29328/29328 [00:00<00:00, 1193234.53it/s]\n",
      "100%|██████████| 29328/29328 [00:00<00:00, 1154529.95it/s]\n",
      "100%|██████████| 29328/29328 [00:00<00:00, 1144784.68it/s]\n",
      "100%|██████████| 29328/29328 [00:00<00:00, 984580.61it/s]\n",
      "100%|██████████| 29328/29328 [00:00<00:00, 1202190.61it/s]\n",
      "100%|██████████| 29328/29328 [00:00<00:00, 1187601.23it/s]\n",
      "100%|██████████| 29328/29328 [00:00<00:00, 1179889.38it/s]\n",
      "100%|██████████| 29328/29328 [00:00<00:00, 1196298.09it/s]\n",
      "100%|██████████| 29328/29328 [00:00<00:00, 1193755.62it/s]\n",
      "100%|██████████| 29328/29328 [00:00<00:00, 1203896.65it/s]\n",
      "100%|██████████| 29328/29328 [00:00<00:00, 1194799.16it/s]\n"
     ]
    },
    {
     "name": "stdout",
     "output_type": "stream",
     "text": [
      "CPU times: user 5min 2s, sys: 1.27 s, total: 5min 4s\n",
      "Wall time: 1min 23s\n"
     ]
    }
   ],
   "source": [
    "%%time\n",
    "for epoch in range(30):\n",
    "    model_ug_cbow.train(utils.shuffle([x.words for x in tqdm(all_x_w2v)]), total_examples=len(all_x_w2v), epochs=1)\n",
    "    model_ug_cbow.alpha -= 0.002\n",
    "    model_ug_cbow.min_alpha = model_ug_cbow.alpha"
   ]
  },
  {
   "cell_type": "code",
   "execution_count": 20,
   "id": "edbc1387",
   "metadata": {
    "execution": {
     "iopub.execute_input": "2022-05-14T02:41:42.289712Z",
     "iopub.status.busy": "2022-05-14T02:41:42.288971Z",
     "iopub.status.idle": "2022-05-14T02:41:44.007490Z",
     "shell.execute_reply": "2022-05-14T02:41:44.006602Z"
    },
    "papermill": {
     "duration": 1.828436,
     "end_time": "2022-05-14T02:41:44.009990",
     "exception": false,
     "start_time": "2022-05-14T02:41:42.181554",
     "status": "completed"
    },
    "tags": []
   },
   "outputs": [
    {
     "name": "stderr",
     "output_type": "stream",
     "text": [
      "100%|██████████| 29328/29328 [00:00<00:00, 1161539.78it/s]\n"
     ]
    }
   ],
   "source": [
    "model_ug_sg = Word2Vec(sg=1, vector_size=150, negative=5, window=2, min_count=2, workers=cores, alpha=0.065, min_alpha=0.065)\n",
    "model_ug_sg.build_vocab([x.words for x in tqdm(all_x_w2v)])"
   ]
  },
  {
   "cell_type": "code",
   "execution_count": 21,
   "id": "968b27d6",
   "metadata": {
    "execution": {
     "iopub.execute_input": "2022-05-14T02:41:44.225391Z",
     "iopub.status.busy": "2022-05-14T02:41:44.225013Z",
     "iopub.status.idle": "2022-05-14T02:44:39.059455Z",
     "shell.execute_reply": "2022-05-14T02:44:39.058397Z"
    },
    "papermill": {
     "duration": 175.081295,
     "end_time": "2022-05-14T02:44:39.198557",
     "exception": false,
     "start_time": "2022-05-14T02:41:44.117262",
     "status": "completed"
    },
    "tags": []
   },
   "outputs": [
    {
     "name": "stderr",
     "output_type": "stream",
     "text": [
      "100%|██████████| 29328/29328 [00:00<00:00, 1160575.40it/s]\n",
      "100%|██████████| 29328/29328 [00:00<00:00, 1111306.78it/s]\n",
      "100%|██████████| 29328/29328 [00:00<00:00, 1175289.95it/s]\n",
      "100%|██████████| 29328/29328 [00:00<00:00, 1193454.49it/s]\n",
      "100%|██████████| 29328/29328 [00:00<00:00, 1115812.77it/s]\n",
      "100%|██████████| 29328/29328 [00:00<00:00, 1100795.08it/s]\n",
      "100%|██████████| 29328/29328 [00:00<00:00, 1172556.41it/s]\n",
      "100%|██████████| 29328/29328 [00:00<00:00, 1153663.72it/s]\n",
      "100%|██████████| 29328/29328 [00:00<00:00, 1149663.52it/s]\n",
      "100%|██████████| 29328/29328 [00:00<00:00, 1165921.50it/s]\n",
      "100%|██████████| 29328/29328 [00:00<00:00, 1107295.35it/s]\n",
      "100%|██████████| 29328/29328 [00:00<00:00, 1175851.68it/s]\n",
      "100%|██████████| 29328/29328 [00:00<00:00, 1216865.98it/s]\n",
      "100%|██████████| 29328/29328 [00:00<00:00, 1191073.98it/s]\n",
      "100%|██████████| 29328/29328 [00:00<00:00, 1199061.77it/s]\n",
      "100%|██████████| 29328/29328 [00:00<00:00, 1103243.51it/s]\n",
      "100%|██████████| 29328/29328 [00:00<00:00, 1176706.53it/s]\n",
      "100%|██████████| 29328/29328 [00:00<00:00, 1172467.00it/s]\n",
      "100%|██████████| 29328/29328 [00:00<00:00, 1196833.51it/s]\n",
      "100%|██████████| 29328/29328 [00:00<00:00, 1176717.79it/s]\n",
      "100%|██████████| 29328/29328 [00:00<00:00, 1142148.61it/s]\n",
      "100%|██████████| 29328/29328 [00:00<00:00, 1168746.30it/s]\n",
      "100%|██████████| 29328/29328 [00:00<00:00, 1123989.62it/s]\n",
      "100%|██████████| 29328/29328 [00:00<00:00, 1166773.04it/s]\n",
      "100%|██████████| 29328/29328 [00:00<00:00, 1010893.27it/s]\n",
      "100%|██████████| 29328/29328 [00:00<00:00, 1125861.92it/s]\n",
      "100%|██████████| 29328/29328 [00:00<00:00, 1149760.23it/s]\n",
      "100%|██████████| 29328/29328 [00:00<00:00, 1153826.04it/s]\n",
      "100%|██████████| 29328/29328 [00:00<00:00, 1139049.83it/s]\n",
      "100%|██████████| 29328/29328 [00:00<00:00, 1208414.44it/s]\n"
     ]
    },
    {
     "name": "stdout",
     "output_type": "stream",
     "text": [
      "CPU times: user 11min 3s, sys: 1.67 s, total: 11min 4s\n",
      "Wall time: 2min 54s\n"
     ]
    }
   ],
   "source": [
    "%%time\n",
    "for epoch in range(30):\n",
    "    model_ug_sg.train(utils.shuffle([x.words for x in tqdm(all_x_w2v)]), total_examples=len(all_x_w2v), epochs=1)\n",
    "    model_ug_sg.alpha -= 0.002\n",
    "    model_ug_sg.min_alpha = model_ug_sg.alpha"
   ]
  },
  {
   "cell_type": "markdown",
   "id": "cb595c6c",
   "metadata": {
    "papermill": {
     "duration": 0.136334,
     "end_time": "2022-05-14T02:44:39.471378",
     "exception": false,
     "start_time": "2022-05-14T02:44:39.335044",
     "status": "completed"
    },
    "tags": []
   },
   "source": [
    "**Save results**"
   ]
  },
  {
   "cell_type": "code",
   "execution_count": 22,
   "id": "499bb417",
   "metadata": {
    "execution": {
     "iopub.execute_input": "2022-05-14T02:44:39.747227Z",
     "iopub.status.busy": "2022-05-14T02:44:39.746930Z",
     "iopub.status.idle": "2022-05-14T02:44:39.923163Z",
     "shell.execute_reply": "2022-05-14T02:44:39.922249Z"
    },
    "papermill": {
     "duration": 0.315684,
     "end_time": "2022-05-14T02:44:39.925567",
     "exception": false,
     "start_time": "2022-05-14T02:44:39.609883",
     "status": "completed"
    },
    "tags": []
   },
   "outputs": [],
   "source": [
    "model_ug_cbow.save('w2v_model_ug_cbow.word2vec')\n",
    "model_ug_sg.save('w2v_model_ug_sg.word2vec')"
   ]
  },
  {
   "cell_type": "code",
   "execution_count": 23,
   "id": "f859becf",
   "metadata": {
    "execution": {
     "iopub.execute_input": "2022-05-14T02:44:40.205674Z",
     "iopub.status.busy": "2022-05-14T02:44:40.205213Z",
     "iopub.status.idle": "2022-05-14T02:44:41.300961Z",
     "shell.execute_reply": "2022-05-14T02:44:41.300345Z"
    },
    "papermill": {
     "duration": 1.237653,
     "end_time": "2022-05-14T02:44:41.303230",
     "exception": false,
     "start_time": "2022-05-14T02:44:40.065577",
     "status": "completed"
    },
    "tags": []
   },
   "outputs": [],
   "source": [
    "from gensim.models import KeyedVectors\n",
    "model_ug_cbow = KeyedVectors.load('w2v_model_ug_cbow.word2vec')\n",
    "model_ug_sg = KeyedVectors.load('w2v_model_ug_sg.word2vec')"
   ]
  },
  {
   "cell_type": "markdown",
   "id": "58398f10",
   "metadata": {
    "papermill": {
     "duration": 0.137916,
     "end_time": "2022-05-14T02:44:41.601995",
     "exception": false,
     "start_time": "2022-05-14T02:44:41.464079",
     "status": "completed"
    },
    "tags": []
   },
   "source": [
    "**Appending cbow and sg for better result**"
   ]
  },
  {
   "cell_type": "code",
   "execution_count": 24,
   "id": "1bf25147",
   "metadata": {
    "execution": {
     "iopub.execute_input": "2022-05-14T02:44:41.877613Z",
     "iopub.status.busy": "2022-05-14T02:44:41.877059Z",
     "iopub.status.idle": "2022-05-14T02:44:42.245824Z",
     "shell.execute_reply": "2022-05-14T02:44:42.244807Z"
    },
    "papermill": {
     "duration": 0.510526,
     "end_time": "2022-05-14T02:44:42.248632",
     "exception": false,
     "start_time": "2022-05-14T02:44:41.738106",
     "status": "completed"
    },
    "tags": []
   },
   "outputs": [
    {
     "name": "stdout",
     "output_type": "stream",
     "text": [
      "Found 31125 word vectors.\n"
     ]
    }
   ],
   "source": [
    "embeddings_index = {}\n",
    "for w in model_ug_cbow.wv.index_to_key:\n",
    "    embeddings_index[w] = np.append(model_ug_cbow.wv[w],model_ug_sg.wv[w])\n",
    "print('Found %s word vectors.' % len(embeddings_index))"
   ]
  },
  {
   "cell_type": "markdown",
   "id": "813c200c",
   "metadata": {
    "papermill": {
     "duration": 0.136568,
     "end_time": "2022-05-14T02:44:42.522055",
     "exception": false,
     "start_time": "2022-05-14T02:44:42.385487",
     "status": "completed"
    },
    "tags": []
   },
   "source": [
    "# Tokenizing"
   ]
  },
  {
   "cell_type": "code",
   "execution_count": 25,
   "id": "27d2e063",
   "metadata": {
    "execution": {
     "iopub.execute_input": "2022-05-14T02:44:42.801345Z",
     "iopub.status.busy": "2022-05-14T02:44:42.801044Z",
     "iopub.status.idle": "2022-05-14T02:44:42.808121Z",
     "shell.execute_reply": "2022-05-14T02:44:42.807511Z"
    },
    "papermill": {
     "duration": 0.15028,
     "end_time": "2022-05-14T02:44:42.810247",
     "exception": false,
     "start_time": "2022-05-14T02:44:42.659967",
     "status": "completed"
    },
    "tags": []
   },
   "outputs": [],
   "source": [
    "# rare word analysis\n",
    "def get_rare_word_percent(tokenizer, threshold):\n",
    "    # threshold: if the word's occurrence is less than this then it's rare word\n",
    "\n",
    "    count = 0\n",
    "    total_count = 0\n",
    "    frequency = 0\n",
    "    total_frequency = 0\n",
    "\n",
    "    for key, value in tokenizer.word_counts.items():\n",
    "        total_count += 1\n",
    "        total_frequency += value\n",
    "        if value < threshold:\n",
    "            count += 1\n",
    "            frequency += value\n",
    "\n",
    "    return {\n",
    "        'percent': round((count / total_count) * 100, 2),\n",
    "        'total_coverage': round(frequency / total_frequency * 100, 2),\n",
    "        'count': count,\n",
    "        'total_count': total_count\n",
    "    }"
   ]
  },
  {
   "cell_type": "code",
   "execution_count": 26,
   "id": "63dac807",
   "metadata": {
    "execution": {
     "iopub.execute_input": "2022-05-14T02:44:43.087414Z",
     "iopub.status.busy": "2022-05-14T02:44:43.086915Z",
     "iopub.status.idle": "2022-05-14T02:44:43.097880Z",
     "shell.execute_reply": "2022-05-14T02:44:43.097246Z"
    },
    "papermill": {
     "duration": 0.152448,
     "end_time": "2022-05-14T02:44:43.100036",
     "exception": false,
     "start_time": "2022-05-14T02:44:42.947588",
     "status": "completed"
    },
    "tags": []
   },
   "outputs": [],
   "source": [
    "# Splitting the training and validation sets\n",
    "x_train, x_val, y_train, y_val = train_test_split(\n",
    "    np.array(df['Text']),\n",
    "    np.array(df['Summary']),\n",
    "    test_size=0.15,\n",
    "    random_state=1,\n",
    "    shuffle=True\n",
    ")"
   ]
  },
  {
   "cell_type": "markdown",
   "id": "ad140757",
   "metadata": {
    "papermill": {
     "duration": 0.138233,
     "end_time": "2022-05-14T02:44:43.379329",
     "exception": false,
     "start_time": "2022-05-14T02:44:43.241096",
     "status": "completed"
    },
    "tags": []
   },
   "source": [
    "## **Tokenizing Text x**"
   ]
  },
  {
   "cell_type": "code",
   "execution_count": 27,
   "id": "58eb89af",
   "metadata": {
    "execution": {
     "iopub.execute_input": "2022-05-14T02:44:43.660078Z",
     "iopub.status.busy": "2022-05-14T02:44:43.659519Z",
     "iopub.status.idle": "2022-05-14T02:44:47.167486Z",
     "shell.execute_reply": "2022-05-14T02:44:47.166329Z"
    },
    "papermill": {
     "duration": 3.652821,
     "end_time": "2022-05-14T02:44:47.169756",
     "exception": false,
     "start_time": "2022-05-14T02:44:43.516935",
     "status": "completed"
    },
    "tags": []
   },
   "outputs": [
    {
     "name": "stdout",
     "output_type": "stream",
     "text": [
      "{'percent': 65.2, 'total_coverage': 1.07, 'count': 19710, 'total_count': 30230}\n"
     ]
    }
   ],
   "source": [
    "x_tokenizer = Tokenizer()\n",
    "x_tokenizer.fit_on_texts(list(x_train))\n",
    "\n",
    "x_tokens_data = get_rare_word_percent(x_tokenizer, 4)\n",
    "print(x_tokens_data)"
   ]
  },
  {
   "cell_type": "code",
   "execution_count": 28,
   "id": "25e29f48",
   "metadata": {
    "execution": {
     "iopub.execute_input": "2022-05-14T02:44:47.445276Z",
     "iopub.status.busy": "2022-05-14T02:44:47.444953Z",
     "iopub.status.idle": "2022-05-14T02:44:47.452224Z",
     "shell.execute_reply": "2022-05-14T02:44:47.451188Z"
    },
    "papermill": {
     "duration": 0.14756,
     "end_time": "2022-05-14T02:44:47.454326",
     "exception": false,
     "start_time": "2022-05-14T02:44:47.306766",
     "status": "completed"
    },
    "tags": []
   },
   "outputs": [],
   "source": [
    "x_tokenizer = Tokenizer(num_words=x_tokens_data['total_count'] - x_tokens_data['count'])"
   ]
  },
  {
   "cell_type": "code",
   "execution_count": 29,
   "id": "2349a2ae",
   "metadata": {
    "execution": {
     "iopub.execute_input": "2022-05-14T02:44:47.730358Z",
     "iopub.status.busy": "2022-05-14T02:44:47.730071Z",
     "iopub.status.idle": "2022-05-14T02:44:51.181727Z",
     "shell.execute_reply": "2022-05-14T02:44:51.180856Z"
    },
    "papermill": {
     "duration": 3.59324,
     "end_time": "2022-05-14T02:44:51.184225",
     "exception": false,
     "start_time": "2022-05-14T02:44:47.590985",
     "status": "completed"
    },
    "tags": []
   },
   "outputs": [],
   "source": [
    "# else use this\n",
    "x_tokenizer = Tokenizer()\n",
    "x_tokenizer.fit_on_texts(list(x_train))"
   ]
  },
  {
   "cell_type": "code",
   "execution_count": 30,
   "id": "d5ff453a",
   "metadata": {
    "execution": {
     "iopub.execute_input": "2022-05-14T02:44:51.461517Z",
     "iopub.status.busy": "2022-05-14T02:44:51.461265Z",
     "iopub.status.idle": "2022-05-14T02:44:51.509003Z",
     "shell.execute_reply": "2022-05-14T02:44:51.508299Z"
    },
    "papermill": {
     "duration": 0.189777,
     "end_time": "2022-05-14T02:44:51.511433",
     "exception": false,
     "start_time": "2022-05-14T02:44:51.321656",
     "status": "completed"
    },
    "tags": []
   },
   "outputs": [],
   "source": [
    "# save tokenizer\n",
    "with open('x_tokenizer', 'wb') as f:\n",
    "    pickle.dump(x_tokenizer, f, protocol=pickle.HIGHEST_PROTOCOL)"
   ]
  },
  {
   "cell_type": "code",
   "execution_count": 31,
   "id": "68330fb0",
   "metadata": {
    "execution": {
     "iopub.execute_input": "2022-05-14T02:44:51.789534Z",
     "iopub.status.busy": "2022-05-14T02:44:51.789268Z",
     "iopub.status.idle": "2022-05-14T02:44:55.475447Z",
     "shell.execute_reply": "2022-05-14T02:44:55.473936Z"
    },
    "papermill": {
     "duration": 3.828799,
     "end_time": "2022-05-14T02:44:55.477778",
     "exception": false,
     "start_time": "2022-05-14T02:44:51.648979",
     "status": "completed"
    },
    "tags": []
   },
   "outputs": [
    {
     "name": "stdout",
     "output_type": "stream",
     "text": [
      "30231\n"
     ]
    }
   ],
   "source": [
    "# one-hot-encoding\n",
    "x_train_sequence = x_tokenizer.texts_to_sequences(x_train)\n",
    "x_val_sequence = x_tokenizer.texts_to_sequences(x_val)\n",
    "\n",
    "# padding upto max_text_len\n",
    "x_train_padded = pad_sequences(x_train_sequence, maxlen=max_text_len, padding='post')\n",
    "x_val_padded = pad_sequences(x_val_sequence, maxlen=max_text_len, padding='post')\n",
    "\n",
    "x_vocab_size = len(x_tokenizer.word_index) + 1\n",
    "\n",
    "print(x_vocab_size)"
   ]
  },
  {
   "cell_type": "markdown",
   "id": "2b2dbb38",
   "metadata": {
    "papermill": {
     "duration": 0.139021,
     "end_time": "2022-05-14T02:44:55.758119",
     "exception": false,
     "start_time": "2022-05-14T02:44:55.619098",
     "status": "completed"
    },
    "tags": []
   },
   "source": [
    "## **Tokenizing Summary y**"
   ]
  },
  {
   "cell_type": "code",
   "execution_count": 32,
   "id": "73d37df5",
   "metadata": {
    "execution": {
     "iopub.execute_input": "2022-05-14T02:44:56.035962Z",
     "iopub.status.busy": "2022-05-14T02:44:56.035469Z",
     "iopub.status.idle": "2022-05-14T02:44:56.636556Z",
     "shell.execute_reply": "2022-05-14T02:44:56.635633Z"
    },
    "papermill": {
     "duration": 0.743711,
     "end_time": "2022-05-14T02:44:56.639293",
     "exception": false,
     "start_time": "2022-05-14T02:44:55.895582",
     "status": "completed"
    },
    "tags": []
   },
   "outputs": [
    {
     "name": "stdout",
     "output_type": "stream",
     "text": [
      "{'percent': 70.87, 'total_coverage': 3.12, 'count': 6919, 'total_count': 9763}\n"
     ]
    }
   ],
   "source": [
    "y_tokenizer = Tokenizer()\n",
    "y_tokenizer.fit_on_texts(list(y_train))\n",
    "\n",
    "y_tokens_data = get_rare_word_percent(y_tokenizer, 6)\n",
    "print(y_tokens_data)"
   ]
  },
  {
   "cell_type": "code",
   "execution_count": 33,
   "id": "e2c5984d",
   "metadata": {
    "execution": {
     "iopub.execute_input": "2022-05-14T02:44:56.925144Z",
     "iopub.status.busy": "2022-05-14T02:44:56.924882Z",
     "iopub.status.idle": "2022-05-14T02:44:56.930046Z",
     "shell.execute_reply": "2022-05-14T02:44:56.929159Z"
    },
    "papermill": {
     "duration": 0.14651,
     "end_time": "2022-05-14T02:44:56.932117",
     "exception": false,
     "start_time": "2022-05-14T02:44:56.785607",
     "status": "completed"
    },
    "tags": []
   },
   "outputs": [],
   "source": [
    "y_tokenizer = Tokenizer(num_words=y_tokens_data['total_count'] - y_tokens_data['count'])"
   ]
  },
  {
   "cell_type": "code",
   "execution_count": 34,
   "id": "70010266",
   "metadata": {
    "execution": {
     "iopub.execute_input": "2022-05-14T02:44:57.215453Z",
     "iopub.status.busy": "2022-05-14T02:44:57.215175Z",
     "iopub.status.idle": "2022-05-14T02:44:57.796214Z",
     "shell.execute_reply": "2022-05-14T02:44:57.795479Z"
    },
    "papermill": {
     "duration": 0.724984,
     "end_time": "2022-05-14T02:44:57.798643",
     "exception": false,
     "start_time": "2022-05-14T02:44:57.073659",
     "status": "completed"
    },
    "tags": []
   },
   "outputs": [],
   "source": [
    "# else use this\n",
    "y_tokenizer = Tokenizer()\n",
    "y_tokenizer.fit_on_texts(list(y_train))"
   ]
  },
  {
   "cell_type": "code",
   "execution_count": 35,
   "id": "37f67e25",
   "metadata": {
    "execution": {
     "iopub.execute_input": "2022-05-14T02:44:58.077826Z",
     "iopub.status.busy": "2022-05-14T02:44:58.077567Z",
     "iopub.status.idle": "2022-05-14T02:44:58.092930Z",
     "shell.execute_reply": "2022-05-14T02:44:58.092233Z"
    },
    "papermill": {
     "duration": 0.158266,
     "end_time": "2022-05-14T02:44:58.095038",
     "exception": false,
     "start_time": "2022-05-14T02:44:57.936772",
     "status": "completed"
    },
    "tags": []
   },
   "outputs": [],
   "source": [
    "# save tokenizer\n",
    "with open('y_tokenizer', 'wb') as f:\n",
    "    pickle.dump(y_tokenizer, f, protocol=pickle.HIGHEST_PROTOCOL)"
   ]
  },
  {
   "cell_type": "code",
   "execution_count": 36,
   "id": "1ef7ff56",
   "metadata": {
    "execution": {
     "iopub.execute_input": "2022-05-14T02:44:58.371818Z",
     "iopub.status.busy": "2022-05-14T02:44:58.371546Z",
     "iopub.status.idle": "2022-05-14T02:44:59.017316Z",
     "shell.execute_reply": "2022-05-14T02:44:59.016654Z"
    },
    "papermill": {
     "duration": 0.786398,
     "end_time": "2022-05-14T02:44:59.019263",
     "exception": false,
     "start_time": "2022-05-14T02:44:58.232865",
     "status": "completed"
    },
    "tags": []
   },
   "outputs": [
    {
     "name": "stdout",
     "output_type": "stream",
     "text": [
      "9764\n"
     ]
    }
   ],
   "source": [
    "# one-hot-encoding\n",
    "y_train_sequence = y_tokenizer.texts_to_sequences(y_train)\n",
    "y_val_sequence = y_tokenizer.texts_to_sequences(y_val)\n",
    "\n",
    "# padding upto max_summary_len\n",
    "y_train_padded = pad_sequences(y_train_sequence, maxlen=max_summary_len, padding='post')\n",
    "y_val_padded = pad_sequences(y_val_sequence, maxlen=max_summary_len, padding='post')\n",
    "\n",
    "y_vocab_size = len(y_tokenizer.word_index) + 1\n",
    "\n",
    "print(y_vocab_size)"
   ]
  },
  {
   "cell_type": "markdown",
   "id": "00e74ed3",
   "metadata": {
    "papermill": {
     "duration": 0.137865,
     "end_time": "2022-05-14T02:44:59.298746",
     "exception": false,
     "start_time": "2022-05-14T02:44:59.160881",
     "status": "completed"
    },
    "tags": []
   },
   "source": [
    "# Modelling"
   ]
  },
  {
   "cell_type": "code",
   "execution_count": 37,
   "id": "954962f4",
   "metadata": {
    "execution": {
     "iopub.execute_input": "2022-05-14T02:44:59.578540Z",
     "iopub.status.busy": "2022-05-14T02:44:59.578014Z",
     "iopub.status.idle": "2022-05-14T02:44:59.581648Z",
     "shell.execute_reply": "2022-05-14T02:44:59.581054Z"
    },
    "papermill": {
     "duration": 0.145903,
     "end_time": "2022-05-14T02:44:59.583451",
     "exception": false,
     "start_time": "2022-05-14T02:44:59.437548",
     "status": "completed"
    },
    "tags": []
   },
   "outputs": [],
   "source": [
    "latent_dim = 240\n",
    "embedding_dim = 300\n",
    "num_epochs = 15"
   ]
  },
  {
   "cell_type": "code",
   "execution_count": 38,
   "id": "c9e34a61",
   "metadata": {
    "execution": {
     "iopub.execute_input": "2022-05-14T02:44:59.864305Z",
     "iopub.status.busy": "2022-05-14T02:44:59.864017Z",
     "iopub.status.idle": "2022-05-14T02:44:59.990540Z",
     "shell.execute_reply": "2022-05-14T02:44:59.989657Z"
    },
    "papermill": {
     "duration": 0.26939,
     "end_time": "2022-05-14T02:44:59.993192",
     "exception": false,
     "start_time": "2022-05-14T02:44:59.723802",
     "status": "completed"
    },
    "tags": []
   },
   "outputs": [
    {
     "name": "stdout",
     "output_type": "stream",
     "text": [
      "Converted 18031 words (12199 misses)\n",
      "Converted 8769 words (994 misses)\n"
     ]
    }
   ],
   "source": [
    "def get_embedding_matrix(tokenizer, embedding_dim, vocab_size=None):\n",
    "    word_index = tokenizer.word_index\n",
    "    voc = list(word_index.keys())\n",
    "\n",
    "    num_tokens = len(voc) + 2 if not vocab_size else vocab_size\n",
    "    hits = 0\n",
    "    misses = 0\n",
    "\n",
    "    # Prepare embedding matrix\n",
    "    embedding_matrix = np.zeros((num_tokens, embedding_dim))\n",
    "    for word, i in word_index.items():\n",
    "        embedding_vector = embeddings_index.get(word)\n",
    "        if embedding_vector is not None:\n",
    "            # Words not found in embedding index will be all-zeros.\n",
    "            # This includes the representation for \"padding\" and \"OOV\"\n",
    "            embedding_matrix[i] = embedding_vector\n",
    "            hits += 1\n",
    "        else:\n",
    "            misses += 1\n",
    "    print(\"Converted %d words (%d misses)\" % (hits, misses))\n",
    "\n",
    "    return embedding_matrix\n",
    "\n",
    "\n",
    "x_embedding_matrix = get_embedding_matrix(x_tokenizer, embedding_dim, x_vocab_size)\n",
    "y_embedding_matrix = get_embedding_matrix(y_tokenizer, embedding_dim, y_vocab_size)"
   ]
  },
  {
   "cell_type": "code",
   "execution_count": 39,
   "id": "5cfba5b0",
   "metadata": {
    "execution": {
     "iopub.execute_input": "2022-05-14T02:45:00.272872Z",
     "iopub.status.busy": "2022-05-14T02:45:00.272589Z",
     "iopub.status.idle": "2022-05-14T02:45:00.278338Z",
     "shell.execute_reply": "2022-05-14T02:45:00.276816Z"
    },
    "papermill": {
     "duration": 0.147665,
     "end_time": "2022-05-14T02:45:00.280486",
     "exception": false,
     "start_time": "2022-05-14T02:45:00.132821",
     "status": "completed"
    },
    "tags": []
   },
   "outputs": [
    {
     "name": "stdout",
     "output_type": "stream",
     "text": [
      "(30231, 300)\n",
      "(9764, 300)\n"
     ]
    }
   ],
   "source": [
    "print(x_embedding_matrix.shape)\n",
    "print(y_embedding_matrix.shape)"
   ]
  },
  {
   "cell_type": "code",
   "execution_count": 40,
   "id": "74cf85bf",
   "metadata": {
    "execution": {
     "iopub.execute_input": "2022-05-14T02:45:00.559964Z",
     "iopub.status.busy": "2022-05-14T02:45:00.559685Z",
     "iopub.status.idle": "2022-05-14T02:45:00.563850Z",
     "shell.execute_reply": "2022-05-14T02:45:00.563011Z"
    },
    "papermill": {
     "duration": 0.146384,
     "end_time": "2022-05-14T02:45:00.565918",
     "exception": false,
     "start_time": "2022-05-14T02:45:00.419534",
     "status": "completed"
    },
    "tags": []
   },
   "outputs": [],
   "source": [
    "# Next, let’s build the dictionary to convert the index to word for target and source vocabulary:\n",
    "reverse_target_word_index = y_tokenizer.index_word\n",
    "reverse_source_word_index = x_tokenizer.index_word\n",
    "target_word_index = y_tokenizer.word_index"
   ]
  },
  {
   "cell_type": "code",
   "execution_count": 41,
   "id": "5d57c0e9",
   "metadata": {
    "execution": {
     "iopub.execute_input": "2022-05-14T02:45:00.846568Z",
     "iopub.status.busy": "2022-05-14T02:45:00.846278Z",
     "iopub.status.idle": "2022-05-14T02:45:00.864912Z",
     "shell.execute_reply": "2022-05-14T02:45:00.864282Z"
    },
    "papermill": {
     "duration": 0.161833,
     "end_time": "2022-05-14T02:45:00.867243",
     "exception": false,
     "start_time": "2022-05-14T02:45:00.705410",
     "status": "completed"
    },
    "tags": []
   },
   "outputs": [],
   "source": [
    "def build_seq2seq_model_with_bidirectional_lstm(\n",
    "    embedding_dim, latent_dim, max_text_len, \n",
    "    x_vocab_size, y_vocab_size,\n",
    "    x_embedding_matrix, y_embedding_matrix\n",
    "):\n",
    "    # instantiating the model in the strategy scope creates the model on the TPU\n",
    "    # with tpu_strategy.scope():\n",
    "        # =====================\n",
    "        # Encoder\n",
    "        # =====================\n",
    "        encoder_input = Input(shape=(max_text_len, ))\n",
    "\n",
    "        # encoder embedding layer\n",
    "        encoder_embedding = Embedding(\n",
    "            x_vocab_size,\n",
    "            embedding_dim,\n",
    "            embeddings_initializer=tf.keras.initializers.Constant(x_embedding_matrix),\n",
    "            trainable=False,\n",
    "            name='encoder_embedding'\n",
    "        )(encoder_input)\n",
    "\n",
    "        # encoder lstm1\n",
    "        encoder_bi_lstm1 = Bidirectional(\n",
    "            LSTM(\n",
    "                latent_dim,\n",
    "                return_sequences=True,\n",
    "                return_state=True,\n",
    "                dropout=0.4,\n",
    "                recurrent_dropout=0.4,\n",
    "                name='encoder_lstm_1'\n",
    "            ),\n",
    "            name='encoder_bidirectional_lstm_1'\n",
    "        )\n",
    "        encoder_output1, forward_h1, forward_c1, backward_h1, backward_c1 = encoder_bi_lstm1(\n",
    "            encoder_embedding\n",
    "        )\n",
    "        encoder_bi_lstm1_output = [\n",
    "            encoder_output1, forward_h1, forward_c1, backward_h1, backward_c1\n",
    "        ]\n",
    "\n",
    "        # encoder lstm 2\n",
    "        encoder_bi_lstm2 = Bidirectional(\n",
    "            LSTM(\n",
    "                latent_dim,\n",
    "                return_sequences=True,\n",
    "                return_state=True,\n",
    "                dropout=0.4,\n",
    "                recurrent_dropout=0.4,\n",
    "                name='encoder_lstm_2'\n",
    "            ),\n",
    "            name='encoder_bidirectional_lstm_2'\n",
    "        )\n",
    "        encoder_output2, forward_h2, forward_c2, backward_h2, backward_c2 = encoder_bi_lstm2(\n",
    "            encoder_output1\n",
    "        )\n",
    "        encoder_bi_lstm2_output = [\n",
    "            encoder_output2, forward_h2, forward_c2, backward_h2, backward_c2\n",
    "        ]\n",
    "\n",
    "        # encoder lstm 3\n",
    "        encoder_bi_lstm = Bidirectional(\n",
    "            LSTM(\n",
    "                latent_dim,\n",
    "                return_sequences=True,\n",
    "                return_state=True,\n",
    "                dropout=0.4,\n",
    "                recurrent_dropout=0.4,\n",
    "                name='encoder_lstm_3'\n",
    "            ),\n",
    "            name='encoder_bidirectional_lstm_3'\n",
    "        )\n",
    "        encoder_output, *encoder_final_states = encoder_bi_lstm(encoder_output2)\n",
    "\n",
    "        # =====================\n",
    "        # Decoder\n",
    "        # =====================\n",
    "\n",
    "        # Set up the decoder, using `encoder_states` as initial state.\n",
    "\n",
    "        decoder_input = Input(shape=(None, ))\n",
    "\n",
    "        # decoder embedding layer\n",
    "        decoder_embedding_layer = Embedding(\n",
    "            y_vocab_size,\n",
    "            embedding_dim,\n",
    "            embeddings_initializer=tf.keras.initializers.Constant(y_embedding_matrix),\n",
    "            trainable=False,\n",
    "            name='decoder_embedding'\n",
    "        )\n",
    "        decoder_embedding = decoder_embedding_layer(decoder_input)\n",
    "        \n",
    "        decoder_bi_lstm = Bidirectional(\n",
    "            LSTM(\n",
    "                latent_dim,\n",
    "                return_sequences=True,\n",
    "                return_state=True,\n",
    "                dropout=0.4,\n",
    "                recurrent_dropout=0.2,\n",
    "                name='decoder_lstm_1'\n",
    "            ),\n",
    "            name='decoder_bidirectional_lstm_1'\n",
    "        )\n",
    "        decoder_output, *decoder_final_states = decoder_bi_lstm(\n",
    "            decoder_embedding, initial_state=encoder_final_states\n",
    "            # decoder_embedding, initial_state=encoder_final_states[:2]\n",
    "        )  # taking only the forward states\n",
    "\n",
    "        # dense layer\n",
    "        decoder_dense = TimeDistributed(\n",
    "            Dense(y_vocab_size, activation='softmax')\n",
    "        )\n",
    "        decoder_output = decoder_dense(decoder_output)\n",
    "\n",
    "        # =====================\n",
    "        # Model\n",
    "        # =====================\n",
    "        model = Model([encoder_input, decoder_input], decoder_output, name='seq2seq_model_with_bidirectional_lstm')\n",
    "        model.summary()\n",
    "\n",
    "        optimizer = tf.keras.optimizers.RMSprop(learning_rate=0.001)\n",
    "        model.compile(\n",
    "            optimizer=optimizer,\n",
    "            loss='sparse_categorical_crossentropy',\n",
    "            metrics=['accuracy']\n",
    "        )\n",
    "\n",
    "        return {\n",
    "            'model': model,\n",
    "            'inputs': {\n",
    "                'encoder': encoder_input,\n",
    "                'decoder': decoder_input\n",
    "            },\n",
    "            'outputs': {\n",
    "                'encoder': encoder_output,\n",
    "                'decoder': decoder_output\n",
    "            },\n",
    "            'states': {\n",
    "                'encoder': encoder_final_states,\n",
    "                'decoder': decoder_final_states\n",
    "            },\n",
    "            'layers': {\n",
    "                'decoder': {\n",
    "                    'embedding': decoder_embedding_layer,\n",
    "                    'last_decoder_lstm': decoder_bi_lstm,\n",
    "                    'dense': decoder_dense\n",
    "                }\n",
    "            }\n",
    "        }"
   ]
  },
  {
   "cell_type": "code",
   "execution_count": 42,
   "id": "e0cda229",
   "metadata": {
    "execution": {
     "iopub.execute_input": "2022-05-14T02:45:01.181973Z",
     "iopub.status.busy": "2022-05-14T02:45:01.181085Z",
     "iopub.status.idle": "2022-05-14T02:45:01.190896Z",
     "shell.execute_reply": "2022-05-14T02:45:01.189960Z"
    },
    "papermill": {
     "duration": 0.15431,
     "end_time": "2022-05-14T02:45:01.192978",
     "exception": false,
     "start_time": "2022-05-14T02:45:01.038668",
     "status": "completed"
    },
    "tags": []
   },
   "outputs": [],
   "source": [
    "def build_seq2seq_model_with_bidirectional_lstm_inference(\n",
    "    max_text_len, latent_dim, encoder_input, encoder_output,\n",
    "    encoder_final_states, decoder_input, decoder_output,\n",
    "    decoder_embedding_layer, decoder_dense, last_decoder_bi_lstm\n",
    "):\n",
    "\n",
    "    # Encode the input sequence to get the feature vector\n",
    "    encoder_model = Model(\n",
    "        inputs=encoder_input, outputs=[encoder_output] + encoder_final_states\n",
    "    )\n",
    "\n",
    "    # Decoder setup\n",
    "    # Below tensors will hold the states of the previous time step\n",
    "    decoder_state_forward_input_h = Input(shape=(latent_dim, ))\n",
    "    decoder_state_forward_input_c = Input(shape=(latent_dim, ))\n",
    "    decoder_state_backward_input_h = Input(shape=(latent_dim, ))\n",
    "    decoder_state_backward_input_c = Input(shape=(latent_dim, ))\n",
    "\n",
    "    # Create the hidden input layer with twice the latent dimension,\n",
    "    # since we are using bi - directional LSTM's we will get \n",
    "    # two hidden states and two cell states\n",
    "    decoder_hidden_state_input = Input(shape=(max_text_len, latent_dim * 2))\n",
    "\n",
    "    decoder_initial_state = [\n",
    "        decoder_state_forward_input_h, decoder_state_forward_input_c,\n",
    "        decoder_state_backward_input_h, decoder_state_backward_input_c\n",
    "    ]\n",
    "\n",
    "    # Get the embeddings of the decoder sequence\n",
    "    decoder_embedding = decoder_embedding_layer(decoder_input)\n",
    "\n",
    "    # To predict the next word in the sequence, set the initial\n",
    "    # states to the states from the previous time step\n",
    "    decoder_output, *decoder_states = last_decoder_bi_lstm(\n",
    "        decoder_embedding, initial_state=decoder_initial_state\n",
    "    )\n",
    "\n",
    "    # A dense softmax layer to generate prob dist. over the target vocabulary\n",
    "    decoder_output = decoder_dense(decoder_output)\n",
    "\n",
    "    # Final decoder model\n",
    "    decoder_model = Model(\n",
    "        [decoder_input] + [decoder_hidden_state_input] + decoder_initial_state,\n",
    "        [decoder_output] + decoder_states\n",
    "    )\n",
    "\n",
    "    return (encoder_model, decoder_model)"
   ]
  },
  {
   "cell_type": "code",
   "execution_count": 43,
   "id": "cc5d7e38",
   "metadata": {
    "execution": {
     "iopub.execute_input": "2022-05-14T02:45:01.473426Z",
     "iopub.status.busy": "2022-05-14T02:45:01.472902Z",
     "iopub.status.idle": "2022-05-14T02:45:01.481182Z",
     "shell.execute_reply": "2022-05-14T02:45:01.480620Z"
    },
    "papermill": {
     "duration": 0.150627,
     "end_time": "2022-05-14T02:45:01.483156",
     "exception": false,
     "start_time": "2022-05-14T02:45:01.332529",
     "status": "completed"
    },
    "tags": []
   },
   "outputs": [],
   "source": [
    "def decode_sequence_seq2seq_model_with_bidirectional_lstm(\n",
    "    input_sequence, encoder_model, decoder_model\n",
    "):\n",
    "    # Encode the input as state vectors.\n",
    "    e_out, *state_values = encoder_model.predict(input_sequence)\n",
    "    \n",
    "    # Generate empty target sequence of length 1.\n",
    "    target_seq = np.zeros((1, 1))\n",
    "\n",
    "    # Populate the first word of target sequence with the start word.\n",
    "    target_seq[0, 0] = target_word_index[start_token]\n",
    "\n",
    "    stop_condition = False\n",
    "    decoded_sentence = ''\n",
    "    \n",
    "    while not stop_condition:\n",
    "        output_tokens, *decoder_states = decoder_model.predict(\n",
    "            [target_seq] + [e_out] + state_values\n",
    "        )\n",
    "\n",
    "        # Sample a token\n",
    "        sampled_token_index = np.argmax(output_tokens[0, -1, :]) # Greedy Search\n",
    "        sampled_token = reverse_target_word_index[sampled_token_index + 1]\n",
    "        \n",
    "        if sampled_token != end_token:\n",
    "            decoded_sentence += ' ' + sampled_token\n",
    "\n",
    "        # Exit condition: either hit max length or find stop word.\n",
    "        if (sampled_token == end_token) or (len(decoded_sentence.split()) >= (max_summary_len - 1)):\n",
    "            stop_condition = True\n",
    "\n",
    "        # Update the target sequence (of length 1).\n",
    "        target_seq = np.zeros((1, 1))\n",
    "        target_seq[0, 0] = sampled_token_index\n",
    "\n",
    "        # Update internal states\n",
    "        state_values = decoder_states\n",
    "\n",
    "    return decoded_sentence"
   ]
  },
  {
   "cell_type": "markdown",
   "id": "136c7c3d",
   "metadata": {
    "papermill": {
     "duration": 0.152457,
     "end_time": "2022-05-14T02:45:01.792260",
     "exception": false,
     "start_time": "2022-05-14T02:45:01.639803",
     "status": "completed"
    },
    "tags": []
   },
   "source": [
    "# **Running Model**"
   ]
  },
  {
   "cell_type": "code",
   "execution_count": 44,
   "id": "cc898285",
   "metadata": {
    "execution": {
     "iopub.execute_input": "2022-05-14T02:45:02.074609Z",
     "iopub.status.busy": "2022-05-14T02:45:02.074148Z",
     "iopub.status.idle": "2022-05-14T02:45:02.078843Z",
     "shell.execute_reply": "2022-05-14T02:45:02.078288Z"
    },
    "papermill": {
     "duration": 0.149671,
     "end_time": "2022-05-14T02:45:02.080757",
     "exception": false,
     "start_time": "2022-05-14T02:45:01.931086",
     "status": "completed"
    },
    "tags": []
   },
   "outputs": [],
   "source": [
    "def display_training_curves(training, validation, title, subplot):\n",
    "    ax = plt.subplot(subplot)\n",
    "    ax.plot(training)\n",
    "    ax.plot(validation)\n",
    "    ax.set_title('Model '+ title)\n",
    "    ax.set_ylabel(title)\n",
    "    ax.set_xlabel('epoch')\n",
    "    ax.legend(['training', 'validation'])"
   ]
  },
  {
   "cell_type": "code",
   "execution_count": 45,
   "id": "b540b34e",
   "metadata": {
    "execution": {
     "iopub.execute_input": "2022-05-14T02:45:02.364766Z",
     "iopub.status.busy": "2022-05-14T02:45:02.364154Z",
     "iopub.status.idle": "2022-05-14T02:45:02.368937Z",
     "shell.execute_reply": "2022-05-14T02:45:02.368354Z"
    },
    "papermill": {
     "duration": 0.149274,
     "end_time": "2022-05-14T02:45:02.370840",
     "exception": false,
     "start_time": "2022-05-14T02:45:02.221566",
     "status": "completed"
    },
    "tags": []
   },
   "outputs": [],
   "source": [
    "def seq2summary(input_sequence):\n",
    "    new_string = ''\n",
    "    for i in input_sequence:\n",
    "        if (\n",
    "            (i != 0 and i != target_word_index[start_token]) and\n",
    "            (i != target_word_index[end_token])\n",
    "        ):\n",
    "            new_string = new_string + reverse_target_word_index[i] + ' '\n",
    "    return new_string"
   ]
  },
  {
   "cell_type": "code",
   "execution_count": 46,
   "id": "01bfa00f",
   "metadata": {
    "execution": {
     "iopub.execute_input": "2022-05-14T02:45:02.653486Z",
     "iopub.status.busy": "2022-05-14T02:45:02.651892Z",
     "iopub.status.idle": "2022-05-14T02:45:02.657370Z",
     "shell.execute_reply": "2022-05-14T02:45:02.656741Z"
    },
    "papermill": {
     "duration": 0.149269,
     "end_time": "2022-05-14T02:45:02.659159",
     "exception": false,
     "start_time": "2022-05-14T02:45:02.509890",
     "status": "completed"
    },
    "tags": []
   },
   "outputs": [],
   "source": [
    "def seq2text(input_sequence):\n",
    "    new_string = ''\n",
    "    for i in input_sequence:\n",
    "        if i != 0:\n",
    "            new_string = new_string + reverse_source_word_index[i] + ' '\n",
    "    return new_string"
   ]
  },
  {
   "cell_type": "code",
   "execution_count": 47,
   "id": "7856f4d7",
   "metadata": {
    "execution": {
     "iopub.execute_input": "2022-05-14T02:45:02.942524Z",
     "iopub.status.busy": "2022-05-14T02:45:02.941898Z",
     "iopub.status.idle": "2022-05-14T02:45:02.947035Z",
     "shell.execute_reply": "2022-05-14T02:45:02.946257Z"
    },
    "papermill": {
     "duration": 0.149698,
     "end_time": "2022-05-14T02:45:02.949080",
     "exception": false,
     "start_time": "2022-05-14T02:45:02.799382",
     "status": "completed"
    },
    "tags": []
   },
   "outputs": [],
   "source": [
    "def seq2highlights(input_seq):\n",
    "    newString=''\n",
    "    for i in input_seq:\n",
    "        if((i!=0 and i!=target_word_index['start']) and i!=target_word_index['end']):\n",
    "            newString=newString+reverse_target_word_index[i]+' '\n",
    "    return newString"
   ]
  },
  {
   "cell_type": "code",
   "execution_count": 48,
   "id": "4592b49f",
   "metadata": {
    "execution": {
     "iopub.execute_input": "2022-05-14T02:45:03.233965Z",
     "iopub.status.busy": "2022-05-14T02:45:03.233592Z",
     "iopub.status.idle": "2022-05-14T02:45:03.238952Z",
     "shell.execute_reply": "2022-05-14T02:45:03.238283Z"
    },
    "papermill": {
     "duration": 0.152231,
     "end_time": "2022-05-14T02:45:03.241682",
     "exception": false,
     "start_time": "2022-05-14T02:45:03.089451",
     "status": "completed"
    },
    "tags": []
   },
   "outputs": [],
   "source": [
    "model_func = build_seq2seq_model_with_bidirectional_lstm\n",
    "inference_func = build_seq2seq_model_with_bidirectional_lstm_inference\n",
    "decode_sequence_func = decode_sequence_seq2seq_model_with_bidirectional_lstm"
   ]
  },
  {
   "cell_type": "code",
   "execution_count": 49,
   "id": "76501f31",
   "metadata": {
    "execution": {
     "iopub.execute_input": "2022-05-14T02:45:03.601707Z",
     "iopub.status.busy": "2022-05-14T02:45:03.600505Z",
     "iopub.status.idle": "2022-05-14T02:45:05.354088Z",
     "shell.execute_reply": "2022-05-14T02:45:05.353191Z"
    },
    "papermill": {
     "duration": 1.952609,
     "end_time": "2022-05-14T02:45:05.358900",
     "exception": false,
     "start_time": "2022-05-14T02:45:03.406291",
     "status": "completed"
    },
    "tags": []
   },
   "outputs": [
    {
     "name": "stderr",
     "output_type": "stream",
     "text": [
      "2022-05-14 02:45:03.654788: I tensorflow/core/common_runtime/process_util.cc:146] Creating new thread pool with default inter op setting: 2. Tune using inter_op_parallelism_threads for best performance.\n"
     ]
    },
    {
     "name": "stdout",
     "output_type": "stream",
     "text": [
      "Model: \"seq2seq_model_with_bidirectional_lstm\"\n",
      "__________________________________________________________________________________________________\n",
      "Layer (type)                    Output Shape         Param #     Connected to                     \n",
      "==================================================================================================\n",
      "input_1 (InputLayer)            [(None, 300)]        0                                            \n",
      "__________________________________________________________________________________________________\n",
      "encoder_embedding (Embedding)   (None, 300, 300)     9069300     input_1[0][0]                    \n",
      "__________________________________________________________________________________________________\n",
      "encoder_bidirectional_lstm_1 (B [(None, 300, 480), ( 1038720     encoder_embedding[0][0]          \n",
      "__________________________________________________________________________________________________\n",
      "input_2 (InputLayer)            [(None, None)]       0                                            \n",
      "__________________________________________________________________________________________________\n",
      "encoder_bidirectional_lstm_2 (B [(None, 300, 480), ( 1384320     encoder_bidirectional_lstm_1[0][0\n",
      "__________________________________________________________________________________________________\n",
      "decoder_embedding (Embedding)   (None, None, 300)    2929200     input_2[0][0]                    \n",
      "__________________________________________________________________________________________________\n",
      "encoder_bidirectional_lstm_3 (B [(None, 300, 480), ( 1384320     encoder_bidirectional_lstm_2[0][0\n",
      "__________________________________________________________________________________________________\n",
      "decoder_bidirectional_lstm_1 (B [(None, None, 480),  1038720     decoder_embedding[0][0]          \n",
      "                                                                 encoder_bidirectional_lstm_3[0][1\n",
      "                                                                 encoder_bidirectional_lstm_3[0][2\n",
      "                                                                 encoder_bidirectional_lstm_3[0][3\n",
      "                                                                 encoder_bidirectional_lstm_3[0][4\n",
      "__________________________________________________________________________________________________\n",
      "time_distributed (TimeDistribut (None, None, 9764)   4696484     decoder_bidirectional_lstm_1[0][0\n",
      "==================================================================================================\n",
      "Total params: 21,541,064\n",
      "Trainable params: 9,542,564\n",
      "Non-trainable params: 11,998,500\n",
      "__________________________________________________________________________________________________\n",
      "Model: \"seq2seq_model_with_bidirectional_lstm\"\n",
      "__________________________________________________________________________________________________\n",
      "Layer (type)                    Output Shape         Param #     Connected to                     \n",
      "==================================================================================================\n",
      "input_1 (InputLayer)            [(None, 300)]        0                                            \n",
      "__________________________________________________________________________________________________\n",
      "encoder_embedding (Embedding)   (None, 300, 300)     9069300     input_1[0][0]                    \n",
      "__________________________________________________________________________________________________\n",
      "encoder_bidirectional_lstm_1 (B [(None, 300, 480), ( 1038720     encoder_embedding[0][0]          \n",
      "__________________________________________________________________________________________________\n",
      "input_2 (InputLayer)            [(None, None)]       0                                            \n",
      "__________________________________________________________________________________________________\n",
      "encoder_bidirectional_lstm_2 (B [(None, 300, 480), ( 1384320     encoder_bidirectional_lstm_1[0][0\n",
      "__________________________________________________________________________________________________\n",
      "decoder_embedding (Embedding)   (None, None, 300)    2929200     input_2[0][0]                    \n",
      "__________________________________________________________________________________________________\n",
      "encoder_bidirectional_lstm_3 (B [(None, 300, 480), ( 1384320     encoder_bidirectional_lstm_2[0][0\n",
      "__________________________________________________________________________________________________\n",
      "decoder_bidirectional_lstm_1 (B [(None, None, 480),  1038720     decoder_embedding[0][0]          \n",
      "                                                                 encoder_bidirectional_lstm_3[0][1\n",
      "                                                                 encoder_bidirectional_lstm_3[0][2\n",
      "                                                                 encoder_bidirectional_lstm_3[0][3\n",
      "                                                                 encoder_bidirectional_lstm_3[0][4\n",
      "__________________________________________________________________________________________________\n",
      "time_distributed (TimeDistribut (None, None, 9764)   4696484     decoder_bidirectional_lstm_1[0][0\n",
      "==================================================================================================\n",
      "Total params: 21,541,064\n",
      "Trainable params: 9,542,564\n",
      "Non-trainable params: 11,998,500\n",
      "__________________________________________________________________________________________________\n"
     ]
    }
   ],
   "source": [
    "seq2seq = model_func(\n",
    "    embedding_dim, latent_dim, max_text_len, \n",
    "    x_vocab_size, y_vocab_size,\n",
    "    x_embedding_matrix, y_embedding_matrix\n",
    ")\n",
    "\n",
    "model = seq2seq['model']\n",
    "\n",
    "encoder_input = seq2seq['inputs']['encoder']\n",
    "decoder_input = seq2seq['inputs']['decoder']\n",
    "\n",
    "encoder_output = seq2seq['outputs']['encoder']\n",
    "decoder_output = seq2seq['outputs']['decoder']\n",
    "\n",
    "encoder_final_states = seq2seq['states']['encoder']\n",
    "decoder_final_states = seq2seq['states']['decoder']\n",
    "\n",
    "decoder_embedding_layer = seq2seq['layers']['decoder']['embedding']\n",
    "last_decoder_lstm = seq2seq['layers']['decoder']['last_decoder_lstm']\n",
    "decoder_dense = seq2seq['layers']['decoder']['dense']\n",
    "\n",
    "model.summary()"
   ]
  },
  {
   "cell_type": "code",
   "execution_count": 50,
   "id": "59b24251",
   "metadata": {
    "execution": {
     "iopub.execute_input": "2022-05-14T02:45:05.645959Z",
     "iopub.status.busy": "2022-05-14T02:45:05.645702Z",
     "iopub.status.idle": "2022-05-14T02:45:05.649934Z",
     "shell.execute_reply": "2022-05-14T02:45:05.649284Z"
    },
    "papermill": {
     "duration": 0.150122,
     "end_time": "2022-05-14T02:45:05.652084",
     "exception": false,
     "start_time": "2022-05-14T02:45:05.501962",
     "status": "completed"
    },
    "tags": []
   },
   "outputs": [],
   "source": [
    "callbacks = [\n",
    "    EarlyStopping(monitor='val_loss', mode='min', verbose=1, patience=2),\n",
    "    ReduceLROnPlateau(monitor='val_loss', factor=0.1, patience=2, min_lr=0.000001, verbose=1),\n",
    "]"
   ]
  },
  {
   "cell_type": "code",
   "execution_count": 51,
   "id": "a7890211",
   "metadata": {
    "execution": {
     "iopub.execute_input": "2022-05-14T02:45:05.940429Z",
     "iopub.status.busy": "2022-05-14T02:45:05.939930Z",
     "iopub.status.idle": "2022-05-14T09:54:33.605033Z",
     "shell.execute_reply": "2022-05-14T09:54:33.602413Z"
    },
    "papermill": {
     "duration": 25768.305347,
     "end_time": "2022-05-14T09:54:34.100829",
     "exception": false,
     "start_time": "2022-05-14T02:45:05.795482",
     "status": "completed"
    },
    "tags": []
   },
   "outputs": [
    {
     "name": "stderr",
     "output_type": "stream",
     "text": [
      "2022-05-14 02:45:06.008780: I tensorflow/compiler/mlir/mlir_graph_optimization_pass.cc:185] None of the MLIR Optimization Passes are enabled (registered 2)\n"
     ]
    },
    {
     "name": "stdout",
     "output_type": "stream",
     "text": [
      "Epoch 1/10\n",
      "98/98 [==============================] - 2630s 26s/step - loss: 2.9230 - accuracy: 0.5997 - val_loss: 1.8230 - val_accuracy: 0.7029\n",
      "Epoch 2/10\n",
      "98/98 [==============================] - 2559s 26s/step - loss: 1.5547 - accuracy: 0.7537 - val_loss: 0.9665 - val_accuracy: 0.8393\n",
      "Epoch 3/10\n",
      "98/98 [==============================] - 2561s 26s/step - loss: 0.9314 - accuracy: 0.8565 - val_loss: 0.5561 - val_accuracy: 0.9128\n",
      "Epoch 4/10\n",
      "98/98 [==============================] - 2591s 26s/step - loss: 0.6046 - accuracy: 0.9130 - val_loss: 0.3575 - val_accuracy: 0.9470\n",
      "Epoch 5/10\n",
      "98/98 [==============================] - 2576s 26s/step - loss: 0.4255 - accuracy: 0.9424 - val_loss: 0.2562 - val_accuracy: 0.9638\n",
      "Epoch 6/10\n",
      "98/98 [==============================] - 2578s 26s/step - loss: 0.3188 - accuracy: 0.9586 - val_loss: 0.1960 - val_accuracy: 0.9726\n",
      "Epoch 7/10\n",
      "98/98 [==============================] - 2582s 26s/step - loss: 0.2492 - accuracy: 0.9681 - val_loss: 0.1600 - val_accuracy: 0.9777\n",
      "Epoch 8/10\n",
      "98/98 [==============================] - 2563s 26s/step - loss: 0.2017 - accuracy: 0.9743 - val_loss: 0.1359 - val_accuracy: 0.9811\n",
      "Epoch 9/10\n",
      "98/98 [==============================] - 2568s 26s/step - loss: 0.1675 - accuracy: 0.9787 - val_loss: 0.1185 - val_accuracy: 0.9837\n",
      "Epoch 10/10\n",
      "98/98 [==============================] - 2559s 26s/step - loss: 0.1425 - accuracy: 0.9817 - val_loss: 0.1063 - val_accuracy: 0.9853\n"
     ]
    }
   ],
   "source": [
    "history = model.fit(\n",
    "    [x_train_padded, y_train_padded[:, :-1]],\n",
    "    y_train_padded.reshape(y_train_padded.shape[0], y_train_padded.shape[1], 1)[:, 1:],\n",
    "    epochs=10,\n",
    "    batch_size=128, \n",
    "    callbacks=callbacks,\n",
    "    validation_data=(\n",
    "        [x_val_padded, y_val_padded[:, :-1]],\n",
    "        y_val_padded.reshape(y_val_padded.shape[0], y_val_padded.shape[1], 1)[:, 1:]\n",
    "    )\n",
    ")"
   ]
  },
  {
   "cell_type": "code",
   "execution_count": 52,
   "id": "d511da2a",
   "metadata": {
    "execution": {
     "iopub.execute_input": "2022-05-14T09:54:35.125964Z",
     "iopub.status.busy": "2022-05-14T09:54:35.125427Z",
     "iopub.status.idle": "2022-05-14T09:54:35.632621Z",
     "shell.execute_reply": "2022-05-14T09:54:35.631843Z"
    },
    "papermill": {
     "duration": 1.026324,
     "end_time": "2022-05-14T09:54:35.634726",
     "exception": false,
     "start_time": "2022-05-14T09:54:34.608402",
     "status": "completed"
    },
    "tags": []
   },
   "outputs": [
    {
     "data": {
      "image/png": "[encoded data removed]",
      "text/plain": [
       "<Figure size 720x720 with 2 Axes>"
      ]
     },
     "metadata": {
      "needs_background": "light"
     },
     "output_type": "display_data"
    }
   ],
   "source": [
    "plt.subplots(figsize=(10,10))\n",
    "plt.tight_layout()\n",
    "display_training_curves(history.history['accuracy'], history.history['val_accuracy'], 'with Bidirectional LSTM Accuracy', 211)\n",
    "display_training_curves(history.history['loss'], history.history['val_loss'], 'with Bidirectional LSTM Loss', 212)"
   ]
  },
  {
   "cell_type": "code",
   "execution_count": 53,
   "id": "ad249a69",
   "metadata": {
    "execution": {
     "iopub.execute_input": "2022-05-14T09:54:36.786939Z",
     "iopub.status.busy": "2022-05-14T09:54:36.786124Z",
     "iopub.status.idle": "2022-05-14T09:54:37.113411Z",
     "shell.execute_reply": "2022-05-14T09:54:37.112708Z"
    },
    "papermill": {
     "duration": 0.93707,
     "end_time": "2022-05-14T09:54:37.115700",
     "exception": false,
     "start_time": "2022-05-14T09:54:36.178630",
     "status": "completed"
    },
    "tags": []
   },
   "outputs": [],
   "source": [
    "# Inference\n",
    "encoder_model, decoder_model = inference_func(\n",
    "    max_text_len, latent_dim, encoder_input, encoder_output,\n",
    "    encoder_final_states, decoder_input, decoder_output,\n",
    "    decoder_embedding_layer, decoder_dense, last_decoder_lstm\n",
    ")"
   ]
  },
  {
   "cell_type": "code",
   "execution_count": 54,
   "id": "54f42719",
   "metadata": {
    "execution": {
     "iopub.execute_input": "2022-05-14T09:54:38.149125Z",
     "iopub.status.busy": "2022-05-14T09:54:38.148540Z",
     "iopub.status.idle": "2022-05-14T10:07:11.431853Z",
     "shell.execute_reply": "2022-05-14T10:07:11.430714Z"
    },
    "papermill": {
     "duration": 753.79861,
     "end_time": "2022-05-14T10:07:11.436942",
     "exception": false,
     "start_time": "2022-05-14T09:54:37.638332",
     "status": "completed"
    },
    "tags": []
   },
   "outputs": [
    {
     "name": "stdout",
     "output_type": "stream",
     "text": [
      "Original summary:  start hà nội không chỉ đón chào gần phóng viên quốc tế mà còn chứng kiến sự xuất hiện của một đội ngũ người săn tin mới các bác xe ôm end \n",
      "Predicted summary:   end sát sát sát sát sát sát sát sát sát sát sát sát sát sát sát sát sát sát sát sát sát sát sát sát sát sát sát sát sát sát sát sát sát sát sát sát sát sát sát sát sát sát sát sát sát sát sát sát sát sát sát sát sát sát sát sát sát sát\n",
      "\n",
      "Original summary:  start nhà lãnh đạo bắc hàn ông kim jongun đã gửi một thông điệp cá nhân hiếm hoi chúc mừng chủ tịch trung quốc tập cận bình end \n",
      "Predicted summary:   end sát sát sát sát sát sát sát sát sát sát sát sát sát sát sát sát sát sát sát sát sát sát sát sát sát sát sát sát sát sát sát sát sát sát sát sát sát sát sát sát sát sát sát sát sát sát sát sát sát sát sát sát sát sát sát sát sát sát\n",
      "\n",
      "Original summary:  start tháng đầu năm campuchia xuất sang việt nam tấn xoài tươi chiếm tổng lượng xoài xuất khẩu của quốc gia này end \n",
      "Predicted summary:   end sostok sostok sostok sostok sostok sostok sostok sostok sostok sostok sostok sostok sostok sostok sostok sostok sostok sostok sostok sostok sostok sostok sostok sostok sostok sostok sostok sostok sostok sostok sostok sostok sostok sostok sostok sostok sostok sostok sostok sostok sostok sostok sostok sostok sostok sostok sostok sostok sostok sostok sostok sostok sostok sostok sostok sostok sostok sostok\n",
      "\n",
      "Original summary:  start hai hoa hậu thế hệ gen là trần tiểu vy lương thuỳ linh cùng xuất hiện ấn tượng trên tạp chí vogue mỹ trong các thiết kế mới nhất của ntk công trí end \n",
      "Predicted summary:   end sát sát sát sát sát sát sát sát sát sát sát sát sát sát sát sát sát sát sát sát sát sát sát sát sát sát sát sát sát sát sát sát sát sát sát sát sát sát sát sát sát sát sát sát sát sát sát sát sát sát sát sát sát sát sát sát sát sát\n",
      "\n",
      "Original summary:  start tây ninh end \n",
      "Predicted summary:   end sát sát sát sát sát sát sát sát sát sát sát sát sát sát sát sát sát sát sát sát sát sát sát sát sát sát sát sát sát sát sát sát sát sát sát sát sát sát sát sát sát sát sát sát sát sát sát sát sát sát sát sát sát sát sát sát sát sát\n",
      "\n",
      "Original summary:  start một hố sâu chứa đầy nước nóng bất ngờ xuất hiện bên ngoài một trung tâm thương mại vùng siberia thuộc nga đã nuốt chửng hai chiếc xe hơi đậu phía trên end \n",
      "Predicted summary:   end sát sát sát sát sát sát sát sát sát sát sát sát sát sát sát sát sát sát sát sát sát sát sát sát sát sát sát sát sát sát sát sát sát sát sát sát sát sát sát sát sát sát sát sát sát sát sát sát sát sát sát sát sát sát sát sát sát sát\n",
      "\n",
      "Original summary:  start giá vàng sjc sáng nay chỉ giảm đồng một lượng dù thị trường kim loại quý thế giới đêm qua biến động mạnh end \n",
      "Predicted summary:   end sostok sostok sostok sostok sostok sostok sostok sostok sostok sostok sostok sostok sostok sostok sostok sostok sostok sostok sostok sostok sostok sostok sostok sostok sostok sostok sostok sostok sostok sostok sostok sostok sostok sostok sostok sostok sostok sostok sostok sostok sostok sostok sostok sostok sostok sostok sostok sostok sostok sostok sostok sostok sostok sostok sostok sostok sostok sostok\n",
      "\n",
      "Original summary:  start võ sĩ nghiệp dư người brazil lucas gabriel peres đã qua đời trong bệnh viện chỉ hai tuần sau khi bị knockout trong trận đấu ngày thuộc sự kiện của mỹ end \n",
      "Predicted summary:   end sát sát sát sát sát sát sát sát sát sát sát sát sát sát sát sát sát sát sát sát sát sát sát sát sát sát sát sát sát sát sát sát sát sát sát sát sát sát sát sát sát sát sát sát sát sát sát sát sát sát sát sát sát sát sát sát sát sát\n",
      "\n",
      "Original summary:  start mong muốn có một không gian xanh để gia đình nghỉ dưỡng cũng như giúp các con được trải nghiệm cuộc sống làng quê bình dị anh hiếu về đồng nai mua đất tự tay cải tạo thành khu nhà vườn đẹp mê end \n",
      "Predicted summary:   end sát sát sát sát sát sát sát sát sát sát sát sát sát sát sát sát sát sát sát sát sát sát sát sát sát sát sát sát sát sát sát sát sát sát sát sát sát sát sát sát sát sát sát sát sát sát sát sát sát sát sát sát sát sát sát sát sát sát\n",
      "\n",
      "Original summary:  start đây là ảnh chụp kim jongnam khi còn nhỏ ông là anh trai của lãnh đạo bắc hàn kim jongun end \n",
      "Predicted summary:   end sát sát sát sát sát sát sát sát sát sát sát sát sát sát sát sát sát sát sát sát sát sát sát sát sát sát sát sát sát sát sát sát sát sát sát sát sát sát sát sát sát sát sát sát sát sát sát sát sát sát sát sát sát sát sát sát sát sát\n",
      "\n",
      "Original summary:  start ngân hàng trung ương nga tăng lãi suất chính lên để chống lạm phát end \n",
      "Predicted summary:   end sostok sostok sostok sostok sostok sostok sostok sostok sostok sostok sostok sostok sostok sostok sostok sostok sostok sostok sostok sostok sostok sostok sostok sostok sostok sostok sostok sostok sostok sostok sostok sostok sostok sostok sostok sostok sostok sostok sostok sostok sostok sostok sostok sostok sostok sostok sostok sostok sostok sostok sostok sostok sostok sostok sostok sostok sostok sostok\n",
      "\n",
      "Original summary:  start ngày cơ quan cảnh sát điều tra công an huyện ứng hoà hà nội đã tạm giữ hình sự đối tượng trịnh thị hằng sn trú tại xã hoà nam huyện ứng hoà để điều tra hành vi trộm cắp tài sản end \n",
      "Predicted summary:   end sát sát sát sát sát sát sát sát sát sát sát sát sát sát sát sát sát sát sát sát sát sát sát sát sát sát sát sát sát sát sát sát sát sát sát sát sát sát sát sát sát sát sát sát sát sát sát sát sát sát sát sát sát sát sát sát sát sát\n",
      "\n",
      "Original summary:  start sáng sớm khi đi thể dục một số người dân huyện đắk mil tỉnh đắk nông phát hiện thi thể một người đàn ông nằm giữa đường nghi do bị xe tô tông end \n",
      "Predicted summary:   end sát sát sát sát sát sát sát sát sát sát sát sát sát sát sát sát sát sát sát sát sát sát sát sát sát sát sát sát sát sát sát sát sát sát sát sát sát sát sát sát sát sát sát sát sát sát sát sát sát sát sát sát sát sát sát sát sát sát\n",
      "\n",
      "Original summary:  start nhạc sĩ anh bằng đã qua đời tối ngày tại nhà riêng nam california hoa kỳ end \n",
      "Predicted summary:   end sát sát sát sát sát sát sát sát sát sát sát sát sát sát sát sát sát sát sát sát sát sát sát sát sát sát sát sát sát sát sát sát sát sát sát sát sát sát sát sát sát sát sát sát sát sát sát sát sát sát sát sát sát sát sát sát sát sát\n",
      "\n",
      "Original summary:  start tính liên kết của hệ thống ống dẫn nhiên liệu trên xe bentley bentayga đã bị nghi ngờ có lỗi từ năm end \n",
      "Predicted summary:   end sát sát sát sát sát sát sát sát sát sát sát sát sát sát sát sát sát sát sát sát sát sát sát sát sát sát sát sát sát sát sát sát sát sát sát sát sát sát sát sát sát sát sát sát sát sát sát sát sát sát sát sát sát sát sát sát sát sát\n",
      "\n"
     ]
    }
   ],
   "source": [
    "reference = []\n",
    "hypothesis = []\n",
    "# Testing on training data\n",
    "for i in range(0, 15):\n",
    "    print(\"Original summary: \", seq2summary(y_train_padded[i]))\n",
    "    print(\n",
    "        \"Predicted summary: \",\n",
    "        decode_sequence_seq2seq_model_with_bidirectional_lstm(\n",
    "            x_train_padded[i].reshape(1, max_text_len), encoder_model,\n",
    "            decoder_model\n",
    "        )\n",
    "    )\n",
    "    print()\n",
    "\n",
    "for i in range(0, 100):\n",
    "    reference.append(seq2summary(y_train_padded[i]))\n",
    "    hypothesis.append(decode_sequence_seq2seq_model_with_bidirectional_lstm(x_train_padded[i].reshape(1, max_text_len), encoder_model,decoder_model))"
   ]
  },
  {
   "cell_type": "markdown",
   "id": "3ba14a4a",
   "metadata": {
    "papermill": {
     "duration": 0.519877,
     "end_time": "2022-05-14T10:07:12.491261",
     "exception": false,
     "start_time": "2022-05-14T10:07:11.971384",
     "status": "completed"
    },
    "tags": []
   },
   "source": [
    "# Calculating Rouge Scores"
   ]
  },
  {
   "cell_type": "code",
   "execution_count": 55,
   "id": "077d281d",
   "metadata": {
    "execution": {
     "iopub.execute_input": "2022-05-14T10:07:13.524535Z",
     "iopub.status.busy": "2022-05-14T10:07:13.524173Z",
     "iopub.status.idle": "2022-05-14T10:07:27.605274Z",
     "shell.execute_reply": "2022-05-14T10:07:27.604173Z"
    },
    "papermill": {
     "duration": 14.600951,
     "end_time": "2022-05-14T10:07:27.607690",
     "exception": false,
     "start_time": "2022-05-14T10:07:13.006739",
     "status": "completed"
    },
    "tags": []
   },
   "outputs": [
    {
     "name": "stdout",
     "output_type": "stream",
     "text": [
      "Collecting rouge\r\n",
      "  Downloading rouge-1.0.1-py3-none-any.whl (13 kB)\r\n",
      "Requirement already satisfied: six in /opt/conda/lib/python3.7/site-packages (from rouge) (1.16.0)\r\n",
      "Installing collected packages: rouge\r\n",
      "Successfully installed rouge-1.0.1\r\n",
      "\u001b[33mWARNING: Running pip as the 'root' user can result in broken permissions and conflicting behaviour with the system package manager. It is recommended to use a virtual environment instead: https://pip.pypa.io/warnings/venv\u001b[0m\u001b[33m\r\n",
      "\u001b[0m"
     ]
    }
   ],
   "source": [
    "! pip install rouge"
   ]
  },
  {
   "cell_type": "code",
   "execution_count": 56,
   "id": "780544a5",
   "metadata": {
    "execution": {
     "iopub.execute_input": "2022-05-14T10:07:28.714012Z",
     "iopub.status.busy": "2022-05-14T10:07:28.713704Z",
     "iopub.status.idle": "2022-05-14T10:07:28.728912Z",
     "shell.execute_reply": "2022-05-14T10:07:28.727699Z"
    },
    "papermill": {
     "duration": 0.574966,
     "end_time": "2022-05-14T10:07:28.731860",
     "exception": false,
     "start_time": "2022-05-14T10:07:28.156894",
     "status": "completed"
    },
    "tags": []
   },
   "outputs": [],
   "source": [
    "from rouge import Rouge"
   ]
  },
  {
   "cell_type": "code",
   "execution_count": 57,
   "id": "5f3f7b62",
   "metadata": {
    "execution": {
     "iopub.execute_input": "2022-05-14T10:07:29.838138Z",
     "iopub.status.busy": "2022-05-14T10:07:29.837860Z",
     "iopub.status.idle": "2022-05-14T10:07:30.069437Z",
     "shell.execute_reply": "2022-05-14T10:07:30.068633Z"
    },
    "papermill": {
     "duration": 0.789007,
     "end_time": "2022-05-14T10:07:30.071713",
     "exception": false,
     "start_time": "2022-05-14T10:07:29.282706",
     "status": "completed"
    },
    "tags": []
   },
   "outputs": [
    {
     "data": {
      "text/plain": [
       "{'rouge-1': {'r': 0.05616255120373753, 'p': 0.515, 'f': 0.09241079557788177},\n",
       " 'rouge-2': {'r': 0.0, 'p': 0.0, 'f': 0.0},\n",
       " 'rouge-l': {'r': 0.05509811125771865, 'p': 0.5, 'f': 0.09042727909436529}}"
      ]
     },
     "execution_count": 57,
     "metadata": {},
     "output_type": "execute_result"
    }
   ],
   "source": [
    "score = Rouge()\n",
    "score.get_scores(hypothesis, reference, avg = True)"
   ]
  }
 ],
 "metadata": {
  "kernelspec": {
   "display_name": "Python 3",
   "language": "python",
   "name": "python3"
  },
  "language_info": {
   "codemirror_mode": {
    "name": "ipython",
    "version": 3
   },
   "file_extension": ".py",
   "mimetype": "text/x-python",
   "name": "python",
   "nbconvert_exporter": "python",
   "pygments_lexer": "ipython3",
   "version": "3.7.12"
  },
  "papermill": {
   "default_parameters": {},
   "duration": 27615.622456,
   "end_time": "2022-05-14T10:07:34.013288",
   "environment_variables": {},
   "exception": null,
   "input_path": "__notebook__.ipynb",
   "output_path": "__notebook__.ipynb",
   "parameters": {},
   "start_time": "2022-05-14T02:27:18.390832",
   "version": "2.3.4"
  }
 },
 "nbformat": 4,
 "nbformat_minor": 5
}
